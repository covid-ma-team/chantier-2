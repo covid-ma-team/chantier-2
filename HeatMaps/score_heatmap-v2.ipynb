{
 "cells": [
  {
   "cell_type": "markdown",
   "metadata": {},
   "source": [
    "## Generate Heatmaps"
   ]
  },
  {
   "cell_type": "markdown",
   "metadata": {},
   "source": [
    "<table align=\"left\">\n",
    "  <td>\n",
    "    <a target=\"_blank\" href=\"https://colab.research.google.com/github/covid-ma-team/chantier-2/blob/master/HeatMaps/score_heatmap-v2.ipynb\"><img src=\"https://colab.research.google.com/img/colab_favicon_256px.png\" />Run in Google Colab</a>\n",
    "</td>\n",
    "</table>"
   ]
  },
  {
   "cell_type": "code",
   "execution_count": null,
   "metadata": {},
   "outputs": [],
   "source": [
    "#generate fake data\n",
    "import numpy as np\n",
    "import pandas as pd\n",
    "import random\n",
    "import sys, os\n",
    "import math\n",
    "import urllib.request\n",
    "\n",
    "import folium # last version 0.11.0\n",
    "from folium import plugins\n",
    "\n",
    "from shapely.geometry import Point\n",
    "from shapely.geometry.polygon import Polygon\n",
    "\n",
    "import geopandas as gpd"
   ]
  },
  {
   "cell_type": "code",
   "execution_count": null,
   "metadata": {},
   "outputs": [],
   "source": [
    "# Load Morocco geojson (replace with the correct one)\n",
    "# We will generate points insde list of regions \n",
    "\n",
    "morocco_map = gpd.read_file('./datasets/morocco.geojson')\n",
    "irfane_map = gpd.read_file('./datasets/irfane.geojson')\n",
    "regions_map = gpd.read_file('./datasets/regions_morocco.geojson')\n",
    "\n",
    "morocco_polygon = morocco_map[\"geometry\"][0]\n",
    "irfane_polygon = irfane_map[\"geometry\"]\n",
    "regions_polygons = regions_map[\"geometry\"]"
   ]
  },
  {
   "cell_type": "code",
   "execution_count": null,
   "metadata": {},
   "outputs": [],
   "source": [
    "# generate a dictionaty data structure of user's latitude, longitude and score over time inside a list of regions\n",
    "# input the initial position, the number of users, radius (chose a big radius to cover big regions), \n",
    "# time (integer), and list of the polygons of the regions\n",
    "def generate_random_data(init_longitude = 0.0, init_latitude = 0.0, radius = 5, num_users = 1, time = 1, list_polygons = None):\n",
    "    data = {}\n",
    "    for ts in np.arange(time):\n",
    "        new_ts = {}\n",
    "        for uid in np.arange(num_users):\n",
    "\n",
    "            u = random.random()\n",
    "            v = random.random()\n",
    "            w = radius * np.sqrt(u)\n",
    "            t = 2 * np.pi * v\n",
    "            epsilon_longitude = w * np.sin(t)\n",
    "            epsilon_latitude = w * np.cos(t) \n",
    "            \n",
    "            # costruct new point\n",
    "            new_longitude = init_longitude + epsilon_longitude\n",
    "            new_latitude = init_latitude + epsilon_latitude\n",
    "            \n",
    "            #check if the constructed point is inside region_polygon\n",
    "            new_point = Point(new_latitude, new_longitude)\n",
    "\n",
    "            if contains(list_polygons, new_point):\n",
    "                new_longitude = init_longitude + epsilon_longitude\n",
    "                new_latitude = init_latitude + epsilon_latitude\n",
    "            else: # just keep initial position\n",
    "                new_longitude = init_longitude\n",
    "                new_latitude = init_latitude\n",
    "            \n",
    "            # create user data\n",
    "            new_uid = {\n",
    "                \"uid\":uid,\n",
    "                \"longitude\": new_longitude, \n",
    "                \"latitude\": new_latitude, \n",
    "                \"score\":random.random()\n",
    "                }\n",
    "            new_ts[str(uid)] = new_uid\n",
    "        \n",
    "        # append timestamp\n",
    "        data[str(ts)] = new_ts\n",
    "        \n",
    "    return data"
   ]
  },
  {
   "cell_type": "code",
   "execution_count": null,
   "metadata": {},
   "outputs": [],
   "source": [
    "def contains(list_polygons, point):\n",
    "    C = False\n",
    "    for polygon in list_polygons:\n",
    "        if polygon.contains(point):\n",
    "            C = True\n",
    "    return C\n",
    "    "
   ]
  },
  {
   "cell_type": "code",
   "execution_count": null,
   "metadata": {},
   "outputs": [],
   "source": [
    "#region of interest\n",
    "#Test 0: Chose all morocco\n",
    "LIST_POLYGONS  = [morocco_polygon]\n",
    "#Test 1: Chose from the twelve regions\n",
    "#  Tanger (0),Oujda (1),Rabat (2), (3), Casa (4), BeniMellal(5), Marakech(6), Errachidia(7), ...\n",
    "LIST_POLYGONS  = [regions_polygons[4], regions_polygons[2]]\n",
    "# Test 2: chose irfane region\n",
    "LIST_POLYGONS  = irfane_polygon\n",
    "\n",
    "# initial Points  (Rabat)\n",
    "INIT_LONGITUDE = LIST_POLYGONS[1].centroid.y\n",
    "INIT_LATITUDE  = LIST_POLYGONS[1].centroid.x\n",
    "\n",
    "# simulation parameters\n",
    "NUM_USERS = 1000\n",
    "TIME = 100 # in seconds"
   ]
  },
  {
   "cell_type": "code",
   "execution_count": null,
   "metadata": {},
   "outputs": [],
   "source": [
    "# Generate data\n",
    "data = generate_random_data( \n",
    "    init_longitude = INIT_LONGITUDE, \n",
    "    init_latitude = INIT_LATITUDE,\n",
    "    radius = .01, # radus = 0.01 for Irfane, 5 for regions, 15 for Morocco\n",
    "    num_users = NUM_USERS, \n",
    "    time = TIME,\n",
    "    list_polygons = LIST_POLYGONS\n",
    ")"
   ]
  },
  {
   "cell_type": "markdown",
   "metadata": {},
   "source": [
    "### map_points() Helper Function \n",
    "map_points takes a single time point as a dataframe of [longitude, latitude, score] and returns a map"
   ]
  },
  {
   "cell_type": "code",
   "execution_count": null,
   "metadata": {},
   "outputs": [],
   "source": [
    "def map_points(df, lon_col='longitude', lat_col='latitude', zoom_start=20, \\\n",
    "                plot_points=False, pt_radius=15, \\\n",
    "                draw_heatmap=False, heat_map_weights_col=None, \\\n",
    "                heat_map_weights_normalize=True, heat_map_radius=15):\n",
    "    \"\"\"Creates a map given a dataframe of points. Can also produce a heatmap overlay\n",
    "\n",
    "    Arg:\n",
    "        df: dataframe containing points to maps\n",
    "        lon_col: Column containing longitude (string)\n",
    "        lat_col: Column containing latitude (string)\n",
    "        zoom_start: Integer representing the initial zoom of the map\n",
    "        plot_points: Add points to map (boolean)\n",
    "        pt_radius: Size of each point\n",
    "        draw_heatmap: Add heatmap to map (boolean)\n",
    "        heat_map_weights_col: Column containing heatmap weights\n",
    "        heat_map_weights_normalize: Normalize heatmap weights (boolean)\n",
    "        heat_map_radius: Size of heatmap point\n",
    "\n",
    "    Returns:\n",
    "        folium map object\n",
    "    \"\"\"\n",
    "\n",
    "    ## center map in the middle of points center in\n",
    "    middle_lon = df[lon_col].median()\n",
    "    middle_lat = df[lat_col].median()\n",
    "    \n",
    "\n",
    "    curr_map = folium.Map(location=[middle_lon, middle_lat],\n",
    "                          zoom_start=zoom_start)\n",
    "\n",
    "    # add points to map\n",
    "    if plot_points:\n",
    "        for _, row in df.iterrows():\n",
    "            folium.CircleMarker([row[lon_col], row[lat_col]],\n",
    "                                radius=pt_radius,\n",
    "                                popup=row['uid'],\n",
    "                                fill_color=\"#3db7e4\", # divvy color\n",
    "                               ).add_to(curr_map)\n",
    "\n",
    "    # add heatmap\n",
    "    if draw_heatmap:\n",
    "        # convert to (n, 2) or (n, 3) matrix format\n",
    "        if heat_map_weights_col is None:\n",
    "            cols_to_pull = [lon_col, lat_col]\n",
    "        else:\n",
    "            # if we have to normalize\n",
    "            if heat_map_weights_normalize:\n",
    "                df[heat_map_weights_col] = \\\n",
    "                    df[heat_map_weights_col] / df[heat_map_weights_col].sum()\n",
    "\n",
    "            cols_to_pull = [lon_col, lat_col, heat_map_weights_col]\n",
    "\n",
    "        points = df[cols_to_pull].as_matrix()\n",
    "        curr_map.add_child(plugins.HeatMap(points, radius=heat_map_radius))\n",
    "\n",
    "    return curr_map"
   ]
  },
  {
   "cell_type": "code",
   "execution_count": null,
   "metadata": {},
   "outputs": [],
   "source": [
    "# selct a time point dictionary, convert it to dataframe to be able to pass it to the map_points function\n",
    "df = pd.DataFrame.from_dict(data['0'], orient='index')\n",
    "df.head()"
   ]
  },
  {
   "cell_type": "code",
   "execution_count": null,
   "metadata": {
    "scrolled": false
   },
   "outputs": [],
   "source": [
    "map_points(df, \n",
    "           plot_points=False, \n",
    "           draw_heatmap=True, \n",
    "           heat_map_weights_normalize=True, \n",
    "           heat_map_weights_col='score',\n",
    "           heat_map_radius=10)"
   ]
  },
  {
   "cell_type": "markdown",
   "metadata": {},
   "source": [
    "## Heatmap Overtime"
   ]
  },
  {
   "cell_type": "code",
   "execution_count": null,
   "metadata": {},
   "outputs": [],
   "source": [
    "# Need to reconstruct data because Folium HeatMapWithTime plugin need a list of list structure\n",
    "def convert_dict_to_list_of_list(data):\n",
    "    converted_data = []\n",
    "    for ts in np.arange(TIME):\n",
    "        list2 = []\n",
    "        for key, value in data[str(ts)].items():\n",
    "            list1 = []\n",
    "            for k, v in value.items():\n",
    "                if k!=\"uid\":\n",
    "                    list1.append(v)\n",
    "            list2.append(list1)\n",
    "        converted_data.append(list2)\n",
    "        \n",
    "    return converted_data"
   ]
  },
  {
   "cell_type": "code",
   "execution_count": null,
   "metadata": {},
   "outputs": [],
   "source": [
    "# convert dictionary to list of list\n",
    "converted_data = convert_dict_to_list_of_list(data)\n",
    "\n",
    "# get the median position and put in the center of the map\n",
    "med_lon, med_lat, med_score = np.median(np.median(np.array(converted_data), 1), 0)\n"
   ]
  },
  {
   "cell_type": "code",
   "execution_count": null,
   "metadata": {},
   "outputs": [],
   "source": [
    "# create a time index\n",
    "from datetime import datetime, timedelta\n",
    "\n",
    "time_index = [\n",
    "    (datetime.now() + k * timedelta(1)).strftime('%Y-%m-%d') for\n",
    "    k in range(len(converted_data))\n",
    "]"
   ]
  },
  {
   "cell_type": "code",
   "execution_count": null,
   "metadata": {
    "scrolled": false
   },
   "outputs": [],
   "source": [
    "# setup the Folium map\n",
    "m = folium.Map([med_lon, med_lat],  zoom_start=20)\n",
    "\n",
    "# plot HeatMapWithTime\n",
    "hm = plugins.HeatMapWithTime(\n",
    "    converted_data,\n",
    "    index=time_index,\n",
    "    auto_play=True,\n",
    "    max_opacity=0.0\n",
    ")\n",
    "\n",
    "hm.add_to(m)\n",
    "\n",
    "m"
   ]
  },
  {
   "cell_type": "markdown",
   "metadata": {},
   "source": [
    "### Trash"
   ]
  },
  {
   "cell_type": "code",
   "execution_count": null,
   "metadata": {},
   "outputs": [],
   "source": [
    "'''\n",
    "visits = irfane_tessellation\n",
    "length = len(visits['id'])\n",
    "visits['num_visits'] = pd.Series(np.zeros(length), index=visits.index)\n",
    "\n",
    "# number of sumulative visits until time t\n",
    "current_time = 50\n",
    "for ts in np.arange(current_time):\n",
    "    #list2 = []\n",
    "    for key, value in data[str(ts)].items():\n",
    "        #list1 = []\n",
    "        for k, v in value.items():\n",
    "            if k ==\"latitude\":\n",
    "                lat = v\n",
    "            if k ==\"longitude\":\n",
    "                lon = v\n",
    "                \n",
    "        new_point = Point(lat, lon)\n",
    "        # check if the point is inside one of the irfane polygons\n",
    "        for polygon in visits[\"geometry\"]:\n",
    "            print(polygon)\n",
    "            if polygone.contains(new_point):\n",
    "                #visits.loc[i['id'], i['num_visits']] = i['num_visits'] + 1\n",
    "                print(\"youpi\")\n",
    "                break \n",
    "'''"
   ]
  }
 ],
 "metadata": {
  "kernelspec": {
   "display_name": "Python 3.7.7 64-bit ('covidpylab': conda)",
   "language": "python",
   "name": "python37764bitcovidpylabconda9b82a304ca2b48b0ae4f7bc3f74ef588"
  },
  "language_info": {
   "codemirror_mode": {
    "name": "ipython",
    "version": 3
   },
   "file_extension": ".py",
   "mimetype": "text/x-python",
   "name": "python",
   "nbconvert_exporter": "python",
   "pygments_lexer": "ipython3",
   "version": "3.7.7"
  }
 },
 "nbformat": 4,
 "nbformat_minor": 2
}

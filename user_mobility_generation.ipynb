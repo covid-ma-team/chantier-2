{
  "nbformat": 4,
  "nbformat_minor": 0,
  "metadata": {
    "colab": {
      "name": "Citizen Tracing.ipynb",
      "provenance": [],
      "collapsed_sections": []
    },
    "kernelspec": {
      "name": "python3",
      "display_name": "Python 3"
    }
  },
  "cells": [
    {
      "cell_type": "markdown",
      "metadata": {
        "id": "DX0K9yxCzEWP",
        "colab_type": "text"
      },
      "source": [
        "# Installation :\n"
      ]
    },
    {
      "cell_type": "markdown",
      "metadata": {
        "id": "1C6eUHM8w1o0",
        "colab_type": "text"
      },
      "source": [
        "Start from this first cell if you are on google colab :"
      ]
    },
    {
      "cell_type": "code",
      "metadata": {
        "id": "26Qj8qRMzISi",
        "colab_type": "code",
        "colab": {}
      },
      "source": [
        "!git clone https://github.com/scikit-mobility/scikit-mobility.git\n",
        "!cd scikit-mobility && python3 setup.py install\n",
        "!pip3 install scikit-mobility\n",
        "!git clone https://github.com/IhabBendidi/morocco.geojson.git"
      ],
      "execution_count": 0,
      "outputs": []
    },
    {
      "cell_type": "markdown",
      "metadata": {
        "id": "i0kHWiPrzQiz",
        "colab_type": "text"
      },
      "source": [
        "Be sure to restart the runtime afterward (on google colab) so that the installation really take place."
      ]
    },
    {
      "cell_type": "markdown",
      "metadata": {
        "id": "_7c3Kiprw7Dk",
        "colab_type": "text"
      },
      "source": [
        "Start from this next cell if you got the notebook on local machine :"
      ]
    },
    {
      "cell_type": "code",
      "metadata": {
        "id": "XgsL4WlUzXkC",
        "colab_type": "code",
        "colab": {}
      },
      "source": [
        "import geopandas as gpd  \n",
        "import pandas as pd\n",
        "import skmob\n",
        "from skmob.models.epr import DensityEPR\n",
        "from skmob.models.epr import Ditras\n",
        "from skmob.models.markov_diary_generator import MarkovDiaryGenerator\n",
        "from skmob.preprocessing import filtering, compression, detection, clustering"
      ],
      "execution_count": 0,
      "outputs": []
    },
    {
      "cell_type": "markdown",
      "metadata": {
        "id": "z1B12xLU1KXC",
        "colab_type": "text"
      },
      "source": [
        "Setting up the start time of the simulation, between 1/1/2019 and 15/1/2019"
      ]
    },
    {
      "cell_type": "code",
      "metadata": {
        "id": "1NKOs7WW9HAL",
        "colab_type": "code",
        "colab": {}
      },
      "source": [
        "# Helper function for protecting against duplicates ids\n",
        "def change_uid(x,l):\n",
        "  x = str(x) + l\n",
        "  return x"
      ],
      "execution_count": 0,
      "outputs": []
    },
    {
      "cell_type": "code",
      "metadata": {
        "id": "vUpT5nIg0e7N",
        "colab_type": "code",
        "colab": {}
      },
      "source": [
        "# starting and end times of the simulation\n",
        "start_time = pd.to_datetime('2019/01/01 08:00:00')\n",
        "end_time = pd.to_datetime('2019/01/15 08:00:00')"
      ],
      "execution_count": 0,
      "outputs": []
    },
    {
      "cell_type": "markdown",
      "metadata": {
        "id": "s6Fw4HXx1tss",
        "colab_type": "text"
      },
      "source": [
        "### Irfane simulation"
      ]
    },
    {
      "cell_type": "code",
      "metadata": {
        "id": "5S7lkCUg1QyP",
        "colab_type": "code",
        "outputId": "60ccf504-143f-43f7-9d3d-f5d1f5207e38",
        "colab": {
          "base_uri": "https://localhost:8080/",
          "height": 159
        }
      },
      "source": [
        "# Getting irfane data (rabat)\n",
        "irfane_tessellation = gpd.read_file('morocco.geojson/irfane.geojson')\n",
        "depr = DensityEPR()\n",
        "#generating and filtering data to make it as close to real as possible\n",
        "density_tdf = depr.generate(start_time, end_time, irfane_tessellation, relevance_column='population', n_agents=120)\n",
        "density_tdf = filtering.filter(density_tdf, max_speed_kmh=5.)\n",
        "density_tdf = detection.stops(density_tdf, stop_radius_factor=0.5, minutes_for_a_stop=50.0, spatial_radius_km=0.3, leaving_time=False)"
      ],
      "execution_count": 4,
      "outputs": [
        {
          "output_type": "stream",
          "text": [
            "/usr/local/lib/python3.6/dist-packages/scikit_mobility-1.0-py3.6.egg/skmob/models/gravity.py:43: RuntimeWarning: divide by zero encountered in power\n",
            "/usr/local/lib/python3.6/dist-packages/scipy/sparse/lil.py:504: FutureWarning: future versions will not create a writeable array from broadcast_array. Set the writable flag explicitly to avoid this warning.\n",
            "  if not i.flags.writeable or i.dtype not in (np.int32, np.int64):\n",
            "/usr/local/lib/python3.6/dist-packages/scipy/sparse/lil.py:506: FutureWarning: future versions will not create a writeable array from broadcast_array. Set the writable flag explicitly to avoid this warning.\n",
            "  if not j.flags.writeable or j.dtype not in (np.int32, np.int64):\n",
            "/usr/local/lib/python3.6/dist-packages/scipy/sparse/lil.py:510: FutureWarning: future versions will not create a writeable array from broadcast_array. Set the writable flag explicitly to avoid this warning.\n",
            "  if not x.flags.writeable:\n"
          ],
          "name": "stderr"
        }
      ]
    },
    {
      "cell_type": "code",
      "metadata": {
        "id": "0QFFJIzV2iBk",
        "colab_type": "code",
        "colab": {}
      },
      "source": [
        "# changing ids of citizens to not have duplicated later on\n",
        "density_tdf[\"uid\"] = density_tdf[\"uid\"].apply(change_uid,args=[\"a\"])"
      ],
      "execution_count": 0,
      "outputs": []
    },
    {
      "cell_type": "markdown",
      "metadata": {
        "id": "ZietiDS89ZaV",
        "colab_type": "text"
      },
      "source": [
        "We will now generate habits of agents, through the markov diary generator, for Al Irfane"
      ]
    },
    {
      "cell_type": "code",
      "metadata": {
        "id": "86y_IPuK8Ch5",
        "colab_type": "code",
        "colab": {}
      },
      "source": [
        "# load and preprocess data to train the MarkovDiaryGenerator\n",
        "url = 'https://raw.githubusercontent.com/scikit-mobility/scikit-mobility/master/tutorial/data/geolife_sample.txt.gz'\n",
        "df = pd.read_csv(url, sep=',', compression='gzip')\n",
        "tdf = skmob.TrajDataFrame(df, latitude='lat', longitude='lon', user_id='user', datetime='datetime')\n",
        "#ctdf = compression.compress(tdf)\n",
        "stdf = detection.stops(tdf,stop_radius_factor=0.5, minutes_for_a_stop=50.0, spatial_radius_km=0.3, leaving_time=False)\n",
        "markov_tdf = clustering.cluster(stdf)"
      ],
      "execution_count": 0,
      "outputs": []
    },
    {
      "cell_type": "code",
      "metadata": {
        "id": "JldPEamg-2tC",
        "colab_type": "code",
        "outputId": "6ba6fb0d-571c-4266-a60f-1df377b20d58",
        "colab": {
          "base_uri": "https://localhost:8080/",
          "height": 34
        }
      },
      "source": [
        "# instantiate and train the MarkovDiaryGenerator\n",
        "mdg = MarkovDiaryGenerator()\n",
        "mdg.fit(markov_tdf, 2, lid='cluster')"
      ],
      "execution_count": 7,
      "outputs": [
        {
          "output_type": "stream",
          "text": [
            "100%|██████████| 2/2 [00:00<00:00,  3.22it/s]\n"
          ],
          "name": "stderr"
        }
      ]
    },
    {
      "cell_type": "code",
      "metadata": {
        "id": "YdQEAzKS-92t",
        "colab_type": "code",
        "outputId": "c62eb5a8-d149-4286-b119-79e902c1bfec",
        "colab": {
          "base_uri": "https://localhost:8080/",
          "height": 176
        }
      },
      "source": [
        "# instantiate the model\n",
        "ditras = Ditras(mdg)\n",
        "# run the model\n",
        "ditras_tdf = ditras.generate(start_time, end_time, irfane_tessellation, relevance_column='population',\n",
        "                    n_agents=150, od_matrix=None, show_progress=True)"
      ],
      "execution_count": 8,
      "outputs": [
        {
          "output_type": "stream",
          "text": [
            "  0%|          | 0/150 [00:00<?, ?it/s]/usr/local/lib/python3.6/dist-packages/scikit_mobility-1.0-py3.6.egg/skmob/models/gravity.py:43: RuntimeWarning: divide by zero encountered in power\n",
            "/usr/local/lib/python3.6/dist-packages/scipy/sparse/lil.py:504: FutureWarning: future versions will not create a writeable array from broadcast_array. Set the writable flag explicitly to avoid this warning.\n",
            "  if not i.flags.writeable or i.dtype not in (np.int32, np.int64):\n",
            "/usr/local/lib/python3.6/dist-packages/scipy/sparse/lil.py:506: FutureWarning: future versions will not create a writeable array from broadcast_array. Set the writable flag explicitly to avoid this warning.\n",
            "  if not j.flags.writeable or j.dtype not in (np.int32, np.int64):\n",
            "/usr/local/lib/python3.6/dist-packages/scipy/sparse/lil.py:510: FutureWarning: future versions will not create a writeable array from broadcast_array. Set the writable flag explicitly to avoid this warning.\n",
            "  if not x.flags.writeable:\n",
            "100%|██████████| 150/150 [00:02<00:00, 66.77it/s]\n"
          ],
          "name": "stderr"
        }
      ]
    },
    {
      "cell_type": "code",
      "metadata": {
        "id": "dm9Mr7yB_WRS",
        "colab_type": "code",
        "colab": {}
      },
      "source": [
        "# changing ids of citizens to not have duplicated later on\n",
        "ditras_tdf[\"uid\"] = ditras_tdf[\"uid\"].apply(change_uid,args=[\"b\"])"
      ],
      "execution_count": 0,
      "outputs": []
    },
    {
      "cell_type": "code",
      "metadata": {
        "id": "nYH5fpC6_hjF",
        "colab_type": "code",
        "colab": {}
      },
      "source": [
        "irfan_tdf = pd.concat([ditras_tdf,density_tdf],ignore_index=True)"
      ],
      "execution_count": 0,
      "outputs": []
    },
    {
      "cell_type": "code",
      "metadata": {
        "id": "a4kobJLjAzZ7",
        "colab_type": "code",
        "colab": {}
      },
      "source": [
        "irfan_tdf.to_csv(\"irfan_mobility.csv\")"
      ],
      "execution_count": 0,
      "outputs": []
    },
    {
      "cell_type": "markdown",
      "metadata": {
        "id": "NacCt8T4aL3O",
        "colab_type": "text"
      },
      "source": [
        "### Agdal Simulation"
      ]
    },
    {
      "cell_type": "code",
      "metadata": {
        "id": "0Mzq85DaV98k",
        "colab_type": "code",
        "outputId": "baeb9692-65a2-42ee-b7ba-40a065e38a56",
        "colab": {
          "base_uri": "https://localhost:8080/",
          "height": 159
        }
      },
      "source": [
        "# Getting Agdal data (rabat)\n",
        "agdal_tessellation = gpd.read_file('morocco.geojson/agdal.geojson')\n",
        "depr = DensityEPR()\n",
        "#generating and filtering data to make it as close to real as possible\n",
        "density_tdf = depr.generate(start_time, end_time, agdal_tessellation, relevance_column='population', n_agents=120)\n",
        "density_tdf = filtering.filter(density_tdf, max_speed_kmh=5.)\n",
        "density_tdf = detection.stops(density_tdf, stop_radius_factor=0.5, minutes_for_a_stop=50.0, spatial_radius_km=0.3, leaving_time=False)"
      ],
      "execution_count": 12,
      "outputs": [
        {
          "output_type": "stream",
          "text": [
            "/usr/local/lib/python3.6/dist-packages/scikit_mobility-1.0-py3.6.egg/skmob/models/gravity.py:43: RuntimeWarning: divide by zero encountered in power\n",
            "/usr/local/lib/python3.6/dist-packages/scipy/sparse/lil.py:504: FutureWarning: future versions will not create a writeable array from broadcast_array. Set the writable flag explicitly to avoid this warning.\n",
            "  if not i.flags.writeable or i.dtype not in (np.int32, np.int64):\n",
            "/usr/local/lib/python3.6/dist-packages/scipy/sparse/lil.py:506: FutureWarning: future versions will not create a writeable array from broadcast_array. Set the writable flag explicitly to avoid this warning.\n",
            "  if not j.flags.writeable or j.dtype not in (np.int32, np.int64):\n",
            "/usr/local/lib/python3.6/dist-packages/scipy/sparse/lil.py:510: FutureWarning: future versions will not create a writeable array from broadcast_array. Set the writable flag explicitly to avoid this warning.\n",
            "  if not x.flags.writeable:\n"
          ],
          "name": "stderr"
        }
      ]
    },
    {
      "cell_type": "code",
      "metadata": {
        "id": "2FYEWtl8aQ6E",
        "colab_type": "code",
        "colab": {}
      },
      "source": [
        "# changing ids of citizens to not have duplicated later on\n",
        "density_tdf[\"uid\"] = density_tdf[\"uid\"].apply(change_uid,args=[\"c\"])"
      ],
      "execution_count": 0,
      "outputs": []
    },
    {
      "cell_type": "code",
      "metadata": {
        "id": "xjmGijqEbFLL",
        "colab_type": "code",
        "outputId": "0b36a5c1-e176-46df-de18-af3406fd8227",
        "colab": {
          "base_uri": "https://localhost:8080/",
          "height": 34
        }
      },
      "source": [
        "# load and preprocess data to train the MarkovDiaryGenerator\n",
        "url = 'https://raw.githubusercontent.com/scikit-mobility/scikit-mobility/master/tutorial/data/geolife_sample.txt.gz'\n",
        "df = pd.read_csv(url, sep=',', compression='gzip')\n",
        "tdf = skmob.TrajDataFrame(df, latitude='lat', longitude='lon', user_id='user', datetime='datetime')\n",
        "#ctdf = compression.compress(tdf)\n",
        "stdf = detection.stops(tdf,stop_radius_factor=0.5, minutes_for_a_stop=50.0, spatial_radius_km=0.3, leaving_time=False)\n",
        "markov_tdf = clustering.cluster(stdf)\n",
        "# instantiate and train the MarkovDiaryGenerator\n",
        "mdg = MarkovDiaryGenerator()\n",
        "mdg.fit(markov_tdf, 2, lid='cluster')"
      ],
      "execution_count": 14,
      "outputs": [
        {
          "output_type": "stream",
          "text": [
            "100%|██████████| 2/2 [00:00<00:00,  3.29it/s]\n"
          ],
          "name": "stderr"
        }
      ]
    },
    {
      "cell_type": "code",
      "metadata": {
        "id": "ka8avpAwbP40",
        "colab_type": "code",
        "outputId": "ba6f734e-6d02-4630-9312-9de0b9a3f846",
        "colab": {
          "base_uri": "https://localhost:8080/",
          "height": 176
        }
      },
      "source": [
        "# instantiate the model\n",
        "ditras = Ditras(mdg)\n",
        "# run the model\n",
        "ditras_tdf = ditras.generate(start_time, end_time, agdal_tessellation, relevance_column='population',\n",
        "                    n_agents=150, od_matrix=None, show_progress=True)"
      ],
      "execution_count": 15,
      "outputs": [
        {
          "output_type": "stream",
          "text": [
            "  0%|          | 0/150 [00:00<?, ?it/s]/usr/local/lib/python3.6/dist-packages/scikit_mobility-1.0-py3.6.egg/skmob/models/gravity.py:43: RuntimeWarning: divide by zero encountered in power\n",
            "/usr/local/lib/python3.6/dist-packages/scipy/sparse/lil.py:504: FutureWarning: future versions will not create a writeable array from broadcast_array. Set the writable flag explicitly to avoid this warning.\n",
            "  if not i.flags.writeable or i.dtype not in (np.int32, np.int64):\n",
            "/usr/local/lib/python3.6/dist-packages/scipy/sparse/lil.py:506: FutureWarning: future versions will not create a writeable array from broadcast_array. Set the writable flag explicitly to avoid this warning.\n",
            "  if not j.flags.writeable or j.dtype not in (np.int32, np.int64):\n",
            "/usr/local/lib/python3.6/dist-packages/scipy/sparse/lil.py:510: FutureWarning: future versions will not create a writeable array from broadcast_array. Set the writable flag explicitly to avoid this warning.\n",
            "  if not x.flags.writeable:\n",
            "100%|██████████| 150/150 [00:02<00:00, 67.78it/s]\n"
          ],
          "name": "stderr"
        }
      ]
    },
    {
      "cell_type": "code",
      "metadata": {
        "id": "PCp2JthTbV-T",
        "colab_type": "code",
        "colab": {}
      },
      "source": [
        "# changing ids of citizens to not have duplicated later on\n",
        "ditras_tdf[\"uid\"] = ditras_tdf[\"uid\"].apply(change_uid,args=[\"d\"])"
      ],
      "execution_count": 0,
      "outputs": []
    },
    {
      "cell_type": "code",
      "metadata": {
        "id": "bMY-2VFpbbMe",
        "colab_type": "code",
        "colab": {}
      },
      "source": [
        "agdal_tdf = pd.concat([ditras_tdf,density_tdf],ignore_index=True)"
      ],
      "execution_count": 0,
      "outputs": []
    },
    {
      "cell_type": "code",
      "metadata": {
        "id": "BdywxAAybgUz",
        "colab_type": "code",
        "colab": {}
      },
      "source": [
        "agdal_tdf.to_csv(\"agdal_mobility.csv\")"
      ],
      "execution_count": 0,
      "outputs": []
    },
    {
      "cell_type": "markdown",
      "metadata": {
        "id": "r8stUvf_c6Y1",
        "colab_type": "text"
      },
      "source": [
        "### Aggregate results"
      ]
    },
    {
      "cell_type": "code",
      "metadata": {
        "id": "ppbtxRRRb103",
        "colab_type": "code",
        "outputId": "058ea52b-70ae-469a-845b-977c29ba8c5f",
        "colab": {
          "base_uri": "https://localhost:8080/",
          "height": 159
        }
      },
      "source": [
        "# Getting Agdal data (rabat)\n",
        "dual_tessellation = gpd.read_file('morocco.geojson/agdal_irfane.geojson')\n",
        "depr = DensityEPR()\n",
        "#generating and filtering data to make it as close to real as possible\n",
        "density_tdf = depr.generate(start_time, end_time, dual_tessellation, relevance_column='population', n_agents=120)\n",
        "density_tdf = filtering.filter(density_tdf, max_speed_kmh=5.)\n",
        "density_tdf = detection.stops(density_tdf, stop_radius_factor=0.5, minutes_for_a_stop=50.0, spatial_radius_km=0.3, leaving_time=False)"
      ],
      "execution_count": 19,
      "outputs": [
        {
          "output_type": "stream",
          "text": [
            "/usr/local/lib/python3.6/dist-packages/scikit_mobility-1.0-py3.6.egg/skmob/models/gravity.py:43: RuntimeWarning: divide by zero encountered in power\n",
            "/usr/local/lib/python3.6/dist-packages/scipy/sparse/lil.py:504: FutureWarning: future versions will not create a writeable array from broadcast_array. Set the writable flag explicitly to avoid this warning.\n",
            "  if not i.flags.writeable or i.dtype not in (np.int32, np.int64):\n",
            "/usr/local/lib/python3.6/dist-packages/scipy/sparse/lil.py:506: FutureWarning: future versions will not create a writeable array from broadcast_array. Set the writable flag explicitly to avoid this warning.\n",
            "  if not j.flags.writeable or j.dtype not in (np.int32, np.int64):\n",
            "/usr/local/lib/python3.6/dist-packages/scipy/sparse/lil.py:510: FutureWarning: future versions will not create a writeable array from broadcast_array. Set the writable flag explicitly to avoid this warning.\n",
            "  if not x.flags.writeable:\n"
          ],
          "name": "stderr"
        }
      ]
    },
    {
      "cell_type": "code",
      "metadata": {
        "id": "FL2S9KRPc3mQ",
        "colab_type": "code",
        "colab": {}
      },
      "source": [
        "# changing ids of citizens to not have duplicated later on\n",
        "density_tdf[\"uid\"] = density_tdf[\"uid\"].apply(change_uid,args=[\"e\"])"
      ],
      "execution_count": 0,
      "outputs": []
    },
    {
      "cell_type": "code",
      "metadata": {
        "id": "OonFSChndUPy",
        "colab_type": "code",
        "outputId": "c285b431-d78f-4cbe-8ed4-dd2e7c95c743",
        "colab": {
          "base_uri": "https://localhost:8080/",
          "height": 34
        }
      },
      "source": [
        "# load and preprocess data to train the MarkovDiaryGenerator\n",
        "url = 'https://raw.githubusercontent.com/scikit-mobility/scikit-mobility/master/tutorial/data/geolife_sample.txt.gz'\n",
        "df = pd.read_csv(url, sep=',', compression='gzip')\n",
        "tdf = skmob.TrajDataFrame(df, latitude='lat', longitude='lon', user_id='user', datetime='datetime')\n",
        "#ctdf = compression.compress(tdf)\n",
        "stdf = detection.stops(tdf,stop_radius_factor=0.5, minutes_for_a_stop=50.0, spatial_radius_km=0.3, leaving_time=False)\n",
        "markov_tdf = clustering.cluster(stdf)\n",
        "# instantiate and train the MarkovDiaryGenerator\n",
        "mdg = MarkovDiaryGenerator()\n",
        "mdg.fit(markov_tdf, 2, lid='cluster')"
      ],
      "execution_count": 21,
      "outputs": [
        {
          "output_type": "stream",
          "text": [
            "100%|██████████| 2/2 [00:00<00:00,  3.32it/s]\n"
          ],
          "name": "stderr"
        }
      ]
    },
    {
      "cell_type": "code",
      "metadata": {
        "id": "elNOaS3WdZMX",
        "colab_type": "code",
        "outputId": "26059a2e-8bb1-4cd0-963a-01645ce649a0",
        "colab": {
          "base_uri": "https://localhost:8080/",
          "height": 176
        }
      },
      "source": [
        "# instantiate the model\n",
        "ditras = Ditras(mdg)\n",
        "# run the model\n",
        "ditras_tdf = ditras.generate(start_time, end_time, dual_tessellation, relevance_column='population',\n",
        "                    n_agents=150, od_matrix=None, show_progress=True)"
      ],
      "execution_count": 22,
      "outputs": [
        {
          "output_type": "stream",
          "text": [
            "  0%|          | 0/150 [00:00<?, ?it/s]/usr/local/lib/python3.6/dist-packages/scikit_mobility-1.0-py3.6.egg/skmob/models/gravity.py:43: RuntimeWarning: divide by zero encountered in power\n",
            "/usr/local/lib/python3.6/dist-packages/scipy/sparse/lil.py:504: FutureWarning: future versions will not create a writeable array from broadcast_array. Set the writable flag explicitly to avoid this warning.\n",
            "  if not i.flags.writeable or i.dtype not in (np.int32, np.int64):\n",
            "/usr/local/lib/python3.6/dist-packages/scipy/sparse/lil.py:506: FutureWarning: future versions will not create a writeable array from broadcast_array. Set the writable flag explicitly to avoid this warning.\n",
            "  if not j.flags.writeable or j.dtype not in (np.int32, np.int64):\n",
            "/usr/local/lib/python3.6/dist-packages/scipy/sparse/lil.py:510: FutureWarning: future versions will not create a writeable array from broadcast_array. Set the writable flag explicitly to avoid this warning.\n",
            "  if not x.flags.writeable:\n",
            "100%|██████████| 150/150 [00:02<00:00, 68.41it/s]\n"
          ],
          "name": "stderr"
        }
      ]
    },
    {
      "cell_type": "code",
      "metadata": {
        "id": "8kmGmAvWdbvS",
        "colab_type": "code",
        "colab": {}
      },
      "source": [
        "# changing ids of citizens to not have duplicated later on\n",
        "ditras_tdf[\"uid\"] = ditras_tdf[\"uid\"].apply(change_uid,args=[\"f\"])"
      ],
      "execution_count": 0,
      "outputs": []
    },
    {
      "cell_type": "code",
      "metadata": {
        "id": "6oT6RkSodeW2",
        "colab_type": "code",
        "colab": {}
      },
      "source": [
        "dual_tdf = pd.concat([ditras_tdf,density_tdf],ignore_index=True)"
      ],
      "execution_count": 0,
      "outputs": []
    },
    {
      "cell_type": "code",
      "metadata": {
        "id": "iEMqSJ1idjEW",
        "colab_type": "code",
        "colab": {}
      },
      "source": [
        "simulation_tdf = pd.concat([agdal_tdf,irfan_tdf,dual_tdf],ignore_index=True)"
      ],
      "execution_count": 0,
      "outputs": []
    },
    {
      "cell_type": "code",
      "metadata": {
        "id": "6y_dvOYKeEw_",
        "colab_type": "code",
        "colab": {}
      },
      "source": [
        "simulation_tdf.to_csv('simulation_data.csv')"
      ],
      "execution_count": 0,
      "outputs": []
    },
    {
      "cell_type": "markdown",
      "metadata": {
        "id": "OXmMoAQ4JuDT",
        "colab_type": "text"
      },
      "source": [
        "# Data cleaning and preparation"
      ]
    },
    {
      "cell_type": "code",
      "metadata": {
        "id": "9J7ZjaWCJjPp",
        "colab_type": "code",
        "colab": {}
      },
      "source": [
        "import pandas as pd\n",
        "simulation_tdf = pd.read_csv('simulation_data.csv')"
      ],
      "execution_count": 0,
      "outputs": []
    },
    {
      "cell_type": "code",
      "metadata": {
        "id": "9dJ-iXjnmae3",
        "colab_type": "code",
        "colab": {}
      },
      "source": [
        "import json\n",
        "from shapely.geometry import shape, Point"
      ],
      "execution_count": 0,
      "outputs": []
    },
    {
      "cell_type": "code",
      "metadata": {
        "id": "_n-9uJPumhVI",
        "colab_type": "code",
        "colab": {}
      },
      "source": [
        "# load GeoJSON file containing sectors\n",
        "with open('morocco.geojson/agdal_irfane.geojson', 'r') as f:\n",
        "  js = json.load(f)"
      ],
      "execution_count": 0,
      "outputs": []
    },
    {
      "cell_type": "code",
      "metadata": {
        "id": "S9JBueix1hIR",
        "colab_type": "code",
        "colab": {}
      },
      "source": [
        "def get_zone_id(x):\n",
        "  point = Point( x[\"lng\"],x[\"lat\"])\n",
        "  zone_id = \"\"\n",
        "  for feature in js['features']:\n",
        "    polygon = shape(feature['geometry'])\n",
        "    if polygon.contains(point):\n",
        "      zone_id = feature['properties']['id']\n",
        "  x['zone_id'] = zone_id\n",
        "  return x"
      ],
      "execution_count": 0,
      "outputs": []
    },
    {
      "cell_type": "code",
      "metadata": {
        "id": "v7dtWR87Ak3X",
        "colab_type": "code",
        "colab": {}
      },
      "source": [
        "# Adding the ids of the zones \n",
        "simulation_tdf = simulation_tdf.apply(get_zone_id,axis=1)\n",
        "\n",
        "# Filtering zones without a registered zone id\n",
        "simulation_tdf = simulation_tdf[simulation_tdf['zone_id'] != \"\"][[\"uid\",\"datetime\",\"lat\",\"lng\",\"zone_id\"]]"
      ],
      "execution_count": 0,
      "outputs": []
    },
    {
      "cell_type": "code",
      "metadata": {
        "id": "QsuN6MCngNDS",
        "colab_type": "code",
        "colab": {}
      },
      "source": [
        "from datetime import datetime\n",
        "def get_date_precision(x):\n",
        "  x['datetime_clipped'] = datetime.strptime(x['datetime'].split(':')[0]+\":\"+x['datetime'].split(':')[1], '%Y-%m-%d %H:%M')#:%M:%S')\n",
        "  return x"
      ],
      "execution_count": 0,
      "outputs": []
    },
    {
      "cell_type": "code",
      "metadata": {
        "id": "p-0VmN8TlNMH",
        "colab_type": "code",
        "colab": {}
      },
      "source": [
        "# Clip datetime by the hour\n",
        "simulation_tdf = simulation_tdf.apply(get_date_precision,axis=1)"
      ],
      "execution_count": 0,
      "outputs": []
    },
    {
      "cell_type": "code",
      "metadata": {
        "id": "WQS7J52vxsvS",
        "colab_type": "code",
        "colab": {}
      },
      "source": [
        "import geopy.distance\n",
        "\n",
        "def get_distance(x):\n",
        "  coords_1 = (x['lat_x'], x['lng_x'])\n",
        "  coords_2 = (x['lat_y'], x['lng_y'])\n",
        "  km_distance = geopy.distance.distance(coords_1, coords_2).km\n",
        "  x['distance'] = km_distance * 1000\n",
        "  return x"
      ],
      "execution_count": 0,
      "outputs": []
    },
    {
      "cell_type": "code",
      "metadata": {
        "id": "OD2HgA_jBpFX",
        "colab_type": "code",
        "colab": {}
      },
      "source": [
        "merged_tdf = simulation_tdf.merge(simulation_tdf, how='left',on=[\"datetime_clipped\",\"zone_id\"])\n",
        "\n",
        "# Filter to not keep couples if they have same id\n",
        "merged_tdf = merged_tdf[merged_tdf['uid_x'] != merged_tdf['uid_y']]\n",
        "\n",
        "# Compute distance between each two citizens\n",
        "merged_tdf = merged_tdf.apply(get_distance,axis=1)\n",
        "\n",
        "# Filter for distances lower than 7 meters between citizens\n",
        "merged_tdf = merged_tdf[merged_tdf['distance']< 7]"
      ],
      "execution_count": 0,
      "outputs": []
    },
    {
      "cell_type": "code",
      "metadata": {
        "id": "0PiuMSrdHm_y",
        "colab_type": "code",
        "colab": {}
      },
      "source": [
        "# Getting users around in each time \n",
        "temp_tdf = merged_tdf.groupby(['uid_x','datetime_clipped','zone_id'])['uid_y'].apply(','.join).reset_index()\n",
        "temp_tdf = temp_tdf.rename(columns = {'uid_y':'ble_users'})\n",
        "ble_tdf = merged_tdf[['uid_x','datetime_x','lat_x','lng_x','zone_id','datetime_clipped']].merge(temp_tdf,how='inner', on=['uid_x','datetime_clipped','zone_id']).drop_duplicates()\n",
        "ble_tdf = ble_tdf.rename(columns = {'uid_x':'uid','datetime_x':'datetime','lat_x':'lat','lng_x':'lng'})\n",
        "\n",
        "# Delete the first second of the simulation, and last second of the simulation, as a lot of people are near each other in it\n",
        "ble_tdf = ble_tdf[ble_tdf['datetime'] != '2019-01-01 08:00:00.000000']\n",
        "ble_tdf = ble_tdf[ble_tdf['datetime'] != '2019-01-15 08:00:00.000000']\n",
        "ble_tdf = ble_tdf.reset_index()[['uid','datetime','lat','lng','zone_id','datetime_clipped','ble_users']]"
      ],
      "execution_count": 0,
      "outputs": []
    },
    {
      "cell_type": "code",
      "metadata": {
        "id": "itle_haj_xsl",
        "colab_type": "code",
        "outputId": "dfb86d0e-c41b-46eb-9687-d5dc327c6c4e",
        "colab": {
          "base_uri": "https://localhost:8080/",
          "height": 293
        }
      },
      "source": [
        "ble_tdf.head()"
      ],
      "execution_count": 37,
      "outputs": [
        {
          "output_type": "execute_result",
          "data": {
            "text/html": [
              "<div>\n",
              "<style scoped>\n",
              "    .dataframe tbody tr th:only-of-type {\n",
              "        vertical-align: middle;\n",
              "    }\n",
              "\n",
              "    .dataframe tbody tr th {\n",
              "        vertical-align: top;\n",
              "    }\n",
              "\n",
              "    .dataframe thead th {\n",
              "        text-align: right;\n",
              "    }\n",
              "</style>\n",
              "<table border=\"1\" class=\"dataframe\">\n",
              "  <thead>\n",
              "    <tr style=\"text-align: right;\">\n",
              "      <th></th>\n",
              "      <th>uid</th>\n",
              "      <th>datetime</th>\n",
              "      <th>lat</th>\n",
              "      <th>lng</th>\n",
              "      <th>zone_id</th>\n",
              "      <th>datetime_clipped</th>\n",
              "      <th>ble_users</th>\n",
              "    </tr>\n",
              "  </thead>\n",
              "  <tbody>\n",
              "    <tr>\n",
              "      <th>0</th>\n",
              "      <td>1d</td>\n",
              "      <td>2019-01-02 11:00:00.000000</td>\n",
              "      <td>34.000416</td>\n",
              "      <td>-6.857033</td>\n",
              "      <td>Gare</td>\n",
              "      <td>1546426800000000000</td>\n",
              "      <td>31d,47d,49d,50d,114d</td>\n",
              "    </tr>\n",
              "    <tr>\n",
              "      <th>1</th>\n",
              "      <td>1d</td>\n",
              "      <td>2019-01-02 18:00:00.000000</td>\n",
              "      <td>34.000032</td>\n",
              "      <td>-6.854877</td>\n",
              "      <td>ENIM</td>\n",
              "      <td>1546452000000000000</td>\n",
              "      <td>76d,137d,106f,128f</td>\n",
              "    </tr>\n",
              "    <tr>\n",
              "      <th>2</th>\n",
              "      <td>1d</td>\n",
              "      <td>2019-01-02 23:00:00.000000</td>\n",
              "      <td>34.000416</td>\n",
              "      <td>-6.857033</td>\n",
              "      <td>Gare</td>\n",
              "      <td>1546470000000000000</td>\n",
              "      <td>114d,127f</td>\n",
              "    </tr>\n",
              "    <tr>\n",
              "      <th>3</th>\n",
              "      <td>1d</td>\n",
              "      <td>2019-01-03 08:00:00.000000</td>\n",
              "      <td>33.992823</td>\n",
              "      <td>-6.857832</td>\n",
              "      <td>lot 3</td>\n",
              "      <td>1546502400000000000</td>\n",
              "      <td>26d,23f</td>\n",
              "    </tr>\n",
              "    <tr>\n",
              "      <th>4</th>\n",
              "      <td>1d</td>\n",
              "      <td>2019-01-06 13:00:00.000000</td>\n",
              "      <td>34.000032</td>\n",
              "      <td>-6.854877</td>\n",
              "      <td>ENIM</td>\n",
              "      <td>1546779600000000000</td>\n",
              "      <td>15d</td>\n",
              "    </tr>\n",
              "  </tbody>\n",
              "</table>\n",
              "</div>"
            ],
            "text/plain": [
              "  uid                    datetime  ...     datetime_clipped             ble_users\n",
              "0  1d  2019-01-02 11:00:00.000000  ...  1546426800000000000  31d,47d,49d,50d,114d\n",
              "1  1d  2019-01-02 18:00:00.000000  ...  1546452000000000000    76d,137d,106f,128f\n",
              "2  1d  2019-01-02 23:00:00.000000  ...  1546470000000000000             114d,127f\n",
              "3  1d  2019-01-03 08:00:00.000000  ...  1546502400000000000               26d,23f\n",
              "4  1d  2019-01-06 13:00:00.000000  ...  1546779600000000000                   15d\n",
              "\n",
              "[5 rows x 7 columns]"
            ]
          },
          "metadata": {
            "tags": []
          },
          "execution_count": 37
        }
      ]
    },
    {
      "cell_type": "code",
      "metadata": {
        "id": "REBlR5xP7FQD",
        "colab_type": "code",
        "colab": {}
      },
      "source": [
        "ble_tdf.to_csv('full_mobility_data.csv')"
      ],
      "execution_count": 0,
      "outputs": []
    },
    {
      "cell_type": "markdown",
      "metadata": {
        "id": "4R46Q01aaKM8",
        "colab_type": "text"
      },
      "source": [
        "# Covid modelisation :\n"
      ]
    },
    {
      "cell_type": "code",
      "metadata": {
        "id": "1TKw3eWtaNd8",
        "colab_type": "code",
        "colab": {}
      },
      "source": [
        "import pandas as pd \n",
        "ble_tdf = pd.read_csv('full_mobility_data.csv')"
      ],
      "execution_count": 0,
      "outputs": []
    },
    {
      "cell_type": "code",
      "metadata": {
        "id": "QRxtvYqkegjm",
        "colab_type": "code",
        "colab": {}
      },
      "source": [
        "from random import seed\n",
        "from random import randint"
      ],
      "execution_count": 0,
      "outputs": []
    },
    {
      "cell_type": "markdown",
      "metadata": {
        "id": "4ZqhJs-nJixS",
        "colab_type": "text"
      },
      "source": [
        "### Infected scoring"
      ]
    },
    {
      "cell_type": "code",
      "metadata": {
        "id": "WCI2GBSyag-5",
        "colab_type": "code",
        "colab": {}
      },
      "source": [
        "percentage_infected = .004 \n",
        "number_infected = int(ble_tdf['uid'].unique().shape[0] * percentage_infected)"
      ],
      "execution_count": 0,
      "outputs": []
    },
    {
      "cell_type": "code",
      "metadata": {
        "id": "jV7v9nvXaoRZ",
        "colab_type": "code",
        "colab": {}
      },
      "source": [
        "# Selecting random infected people\n",
        "seed(3)\n",
        "uids_infected = []\n",
        "for i in range(number_infected):\n",
        "  idex = randint(0,ble_tdf['uid'].unique().shape[0])\n",
        "  uids_infected.append(ble_tdf['uid'].unique()[idex])"
      ],
      "execution_count": 0,
      "outputs": []
    },
    {
      "cell_type": "code",
      "metadata": {
        "id": "kCKdTql4f8Vu",
        "colab_type": "code",
        "outputId": "8ec5d350-925e-448b-cf56-96b4c6015e4a",
        "colab": {
          "base_uri": "https://localhost:8080/",
          "height": 34
        }
      },
      "source": [
        "uids_infected"
      ],
      "execution_count": 43,
      "outputs": [
        {
          "output_type": "execute_result",
          "data": {
            "text/plain": [
              "['94c', '67f', '18f']"
            ]
          },
          "metadata": {
            "tags": []
          },
          "execution_count": 43
        }
      ]
    },
    {
      "cell_type": "markdown",
      "metadata": {
        "id": "0QKBUvsuarCF",
        "colab_type": "text"
      },
      "source": [
        "A question we are facing, is whether when we detect that someone is covid positive, does their earlier risk scores reflect/predict that they would be positive? \n",
        "\n",
        "Logical answer : Not always, as heavily dependant on whether everybody installed the application. In the case not everybody did, the infected might have contacted the infection from people who didnt own phones, and thus his score shouldnt have changed much.\n",
        "\n",
        "This means we need to give some measure of risk score for earlier periods after detection of infection in someone, irrelevant of his earlier scores."
      ]
    },
    {
      "cell_type": "code",
      "metadata": {
        "id": "uGIjmz22sfHM",
        "colab_type": "code",
        "colab": {}
      },
      "source": [
        "from scipy.stats import norm\n",
        "import numpy as np\n",
        "import datetime as dat"
      ],
      "execution_count": 0,
      "outputs": []
    },
    {
      "cell_type": "code",
      "metadata": {
        "id": "5zDOIeh4gh9K",
        "colab_type": "code",
        "colab": {}
      },
      "source": [
        "def generate_infected_earlier_scores(infected_id,simulation_start,simulation_end,symptom_apparition_date,score_distribution):\n",
        "  ## Should we factor in whether they have ended up meeting another infected person?? Maybe they have more virality if so\n",
        "\n",
        "  # Number of days in the simulation\n",
        "  nb_days_simulation = (simulation_end - simulation_start).days\n",
        "  #index of the day of apparition of symptoms\n",
        "  symptom_day  = (symptom_apparition_date - simulation_start).days\n",
        "  output = {}\n",
        "  scores = []\n",
        "  for i in range(0,nb_days_simulation +1):\n",
        "    date_scores = {}\n",
        "    start_index = 14 - symptom_day\n",
        "    date_scores['date'] = simulation_start + dat.timedelta(days=i)\n",
        "    date_scores['score'] = score_distribution[start_index + i + 1]\n",
        "    scores.append(date_scores)\n",
        "  output['infected_uid'] = infected_id\n",
        "  output['scores'] = scores \n",
        "  return output"
      ],
      "execution_count": 0,
      "outputs": []
    },
    {
      "cell_type": "code",
      "metadata": {
        "id": "5qYboHrUoC7v",
        "colab_type": "code",
        "colab": {}
      },
      "source": [
        "def get_simulation_infected_scores(uids_infected,simulation_start,simulation_end):\n",
        "  seed(1)\n",
        "  nb_days_simulation = (simulation_end - simulation_start).days\n",
        "\n",
        "  # a normal distribution of the scores of a person already infected, where the period of symptom apparition shows the most virality charge\n",
        "  x = np.linspace(norm.ppf(0.1),norm.ppf(0.99), nb_days_simulation * 2)\n",
        "  score_distribution = norm.pdf(x, 0.5, 0.5)*100\n",
        "\n",
        "  output = []\n",
        "\n",
        "  for infected in uids_infected :\n",
        "    symptom_date = simulation_start + dat.timedelta(days=randint(0,nb_days_simulation))\n",
        "    date_scores = generate_infected_earlier_scores(infected,simulation_start,simulation_end,symptom_date,score_distribution)\n",
        "    output.append(date_scores)\n",
        "  return output"
      ],
      "execution_count": 0,
      "outputs": []
    },
    {
      "cell_type": "code",
      "metadata": {
        "id": "sugl8-P3wJeg",
        "colab_type": "code",
        "colab": {}
      },
      "source": [
        "infected_scores = get_simulation_infected_scores(uids_infected,start_time,end_time)"
      ],
      "execution_count": 0,
      "outputs": []
    },
    {
      "cell_type": "code",
      "metadata": {
        "id": "JcKrhT_P45Bz",
        "colab_type": "code",
        "outputId": "b85a63b4-0ae0-4a05-8781-cded5374d12e",
        "colab": {
          "base_uri": "https://localhost:8080/",
          "height": 903
        }
      },
      "source": [
        "infected_scores"
      ],
      "execution_count": 48,
      "outputs": [
        {
          "output_type": "execute_result",
          "data": {
            "text/plain": [
              "[{'infected_uid': '94c',\n",
              "  'scores': [{'date': Timestamp('2019-01-01 08:00:00'),\n",
              "    'score': 79.47428297373659},\n",
              "   {'date': Timestamp('2019-01-02 08:00:00'), 'score': 78.52849795470743},\n",
              "   {'date': Timestamp('2019-01-03 08:00:00'), 'score': 72.24521999077103},\n",
              "   {'date': Timestamp('2019-01-04 08:00:00'), 'score': 61.8831055257222},\n",
              "   {'date': Timestamp('2019-01-05 08:00:00'), 'score': 49.35330458139002},\n",
              "   {'date': Timestamp('2019-01-06 08:00:00'), 'score': 36.64726170149365},\n",
              "   {'date': Timestamp('2019-01-07 08:00:00'), 'score': 25.336579093431915},\n",
              "   {'date': Timestamp('2019-01-08 08:00:00'), 'score': 16.30930967047769},\n",
              "   {'date': Timestamp('2019-01-09 08:00:00'), 'score': 9.774720232525855},\n",
              "   {'date': Timestamp('2019-01-10 08:00:00'), 'score': 5.4544912352361035},\n",
              "   {'date': Timestamp('2019-01-11 08:00:00'), 'score': 2.833905182148495},\n",
              "   {'date': Timestamp('2019-01-12 08:00:00'), 'score': 1.3708739931178504},\n",
              "   {'date': Timestamp('2019-01-13 08:00:00'), 'score': 0.617434531258837},\n",
              "   {'date': Timestamp('2019-01-14 08:00:00'), 'score': 0.25891990959838157},\n",
              "   {'date': Timestamp('2019-01-15 08:00:00'), 'score': 0.1010930114282619}]},\n",
              " {'infected_uid': '67f',\n",
              "  'scores': [{'date': Timestamp('2019-01-01 08:00:00'),\n",
              "    'score': 11.697532274879523},\n",
              "   {'date': Timestamp('2019-01-02 08:00:00'), 'score': 19.05578479484005},\n",
              "   {'date': Timestamp('2019-01-03 08:00:00'), 'score': 28.90284419951724},\n",
              "   {'date': Timestamp('2019-01-04 08:00:00'), 'score': 40.816473476169044},\n",
              "   {'date': Timestamp('2019-01-05 08:00:00'), 'score': 53.667520577312885},\n",
              "   {'date': Timestamp('2019-01-06 08:00:00'), 'score': 65.70050969765164},\n",
              "   {'date': Timestamp('2019-01-07 08:00:00'), 'score': 74.88711520827363},\n",
              "   {'date': Timestamp('2019-01-08 08:00:00'), 'score': 79.47428297373659},\n",
              "   {'date': Timestamp('2019-01-09 08:00:00'), 'score': 78.52849795470743},\n",
              "   {'date': Timestamp('2019-01-10 08:00:00'), 'score': 72.24521999077103},\n",
              "   {'date': Timestamp('2019-01-11 08:00:00'), 'score': 61.8831055257222},\n",
              "   {'date': Timestamp('2019-01-12 08:00:00'), 'score': 49.35330458139002},\n",
              "   {'date': Timestamp('2019-01-13 08:00:00'), 'score': 36.64726170149365},\n",
              "   {'date': Timestamp('2019-01-14 08:00:00'), 'score': 25.336579093431915},\n",
              "   {'date': Timestamp('2019-01-15 08:00:00'), 'score': 16.30930967047769}]},\n",
              " {'infected_uid': '18f',\n",
              "  'scores': [{'date': Timestamp('2019-01-01 08:00:00'),\n",
              "    'score': 0.8131589615507558},\n",
              "   {'date': Timestamp('2019-01-02 08:00:00'), 'score': 1.7627203567608434},\n",
              "   {'date': Timestamp('2019-01-03 08:00:00'), 'score': 3.5577263665725383},\n",
              "   {'date': Timestamp('2019-01-04 08:00:00'), 'score': 6.685637417262805},\n",
              "   {'date': Timestamp('2019-01-05 08:00:00'), 'score': 11.697532274879523},\n",
              "   {'date': Timestamp('2019-01-06 08:00:00'), 'score': 19.05578479484005},\n",
              "   {'date': Timestamp('2019-01-07 08:00:00'), 'score': 28.90284419951724},\n",
              "   {'date': Timestamp('2019-01-08 08:00:00'), 'score': 40.816473476169044},\n",
              "   {'date': Timestamp('2019-01-09 08:00:00'), 'score': 53.667520577312885},\n",
              "   {'date': Timestamp('2019-01-10 08:00:00'), 'score': 65.70050969765164},\n",
              "   {'date': Timestamp('2019-01-11 08:00:00'), 'score': 74.88711520827363},\n",
              "   {'date': Timestamp('2019-01-12 08:00:00'), 'score': 79.47428297373659},\n",
              "   {'date': Timestamp('2019-01-13 08:00:00'), 'score': 78.52849795470743},\n",
              "   {'date': Timestamp('2019-01-14 08:00:00'), 'score': 72.24521999077103},\n",
              "   {'date': Timestamp('2019-01-15 08:00:00'), 'score': 61.8831055257222}]}]"
            ]
          },
          "metadata": {
            "tags": []
          },
          "execution_count": 48
        }
      ]
    },
    {
      "cell_type": "code",
      "metadata": {
        "id": "vTtKrpT_46iC",
        "colab_type": "code",
        "colab": {}
      },
      "source": [
        "ble_tdf['scores'] = 0.\n",
        "ble_tdf['infected'] = False"
      ],
      "execution_count": 0,
      "outputs": []
    },
    {
      "cell_type": "code",
      "metadata": {
        "id": "d8D0cnoJ7Tic",
        "colab_type": "code",
        "outputId": "4eb6a048-769c-4efa-8727-3c631a9cb86c",
        "colab": {
          "base_uri": "https://localhost:8080/",
          "height": 330
        }
      },
      "source": [
        "ble_tdf.head()"
      ],
      "execution_count": 50,
      "outputs": [
        {
          "output_type": "execute_result",
          "data": {
            "text/html": [
              "<div>\n",
              "<style scoped>\n",
              "    .dataframe tbody tr th:only-of-type {\n",
              "        vertical-align: middle;\n",
              "    }\n",
              "\n",
              "    .dataframe tbody tr th {\n",
              "        vertical-align: top;\n",
              "    }\n",
              "\n",
              "    .dataframe thead th {\n",
              "        text-align: right;\n",
              "    }\n",
              "</style>\n",
              "<table border=\"1\" class=\"dataframe\">\n",
              "  <thead>\n",
              "    <tr style=\"text-align: right;\">\n",
              "      <th></th>\n",
              "      <th>Unnamed: 0</th>\n",
              "      <th>uid</th>\n",
              "      <th>datetime</th>\n",
              "      <th>lat</th>\n",
              "      <th>lng</th>\n",
              "      <th>zone_id</th>\n",
              "      <th>datetime_clipped</th>\n",
              "      <th>ble_users</th>\n",
              "      <th>scores</th>\n",
              "      <th>infected</th>\n",
              "    </tr>\n",
              "  </thead>\n",
              "  <tbody>\n",
              "    <tr>\n",
              "      <th>0</th>\n",
              "      <td>0</td>\n",
              "      <td>1d</td>\n",
              "      <td>2019-01-02 11:00:00.000000</td>\n",
              "      <td>34.000416</td>\n",
              "      <td>-6.857033</td>\n",
              "      <td>Gare</td>\n",
              "      <td>1546426800000000000</td>\n",
              "      <td>31d,47d,49d,50d,114d</td>\n",
              "      <td>0.0</td>\n",
              "      <td>False</td>\n",
              "    </tr>\n",
              "    <tr>\n",
              "      <th>1</th>\n",
              "      <td>1</td>\n",
              "      <td>1d</td>\n",
              "      <td>2019-01-02 18:00:00.000000</td>\n",
              "      <td>34.000032</td>\n",
              "      <td>-6.854877</td>\n",
              "      <td>ENIM</td>\n",
              "      <td>1546452000000000000</td>\n",
              "      <td>76d,137d,106f,128f</td>\n",
              "      <td>0.0</td>\n",
              "      <td>False</td>\n",
              "    </tr>\n",
              "    <tr>\n",
              "      <th>2</th>\n",
              "      <td>2</td>\n",
              "      <td>1d</td>\n",
              "      <td>2019-01-02 23:00:00.000000</td>\n",
              "      <td>34.000416</td>\n",
              "      <td>-6.857033</td>\n",
              "      <td>Gare</td>\n",
              "      <td>1546470000000000000</td>\n",
              "      <td>114d,127f</td>\n",
              "      <td>0.0</td>\n",
              "      <td>False</td>\n",
              "    </tr>\n",
              "    <tr>\n",
              "      <th>3</th>\n",
              "      <td>3</td>\n",
              "      <td>1d</td>\n",
              "      <td>2019-01-03 08:00:00.000000</td>\n",
              "      <td>33.992823</td>\n",
              "      <td>-6.857832</td>\n",
              "      <td>lot 3</td>\n",
              "      <td>1546502400000000000</td>\n",
              "      <td>26d,23f</td>\n",
              "      <td>0.0</td>\n",
              "      <td>False</td>\n",
              "    </tr>\n",
              "    <tr>\n",
              "      <th>4</th>\n",
              "      <td>4</td>\n",
              "      <td>1d</td>\n",
              "      <td>2019-01-06 13:00:00.000000</td>\n",
              "      <td>34.000032</td>\n",
              "      <td>-6.854877</td>\n",
              "      <td>ENIM</td>\n",
              "      <td>1546779600000000000</td>\n",
              "      <td>15d</td>\n",
              "      <td>0.0</td>\n",
              "      <td>False</td>\n",
              "    </tr>\n",
              "  </tbody>\n",
              "</table>\n",
              "</div>"
            ],
            "text/plain": [
              "   Unnamed: 0 uid  ... scores  infected\n",
              "0           0  1d  ...    0.0     False\n",
              "1           1  1d  ...    0.0     False\n",
              "2           2  1d  ...    0.0     False\n",
              "3           3  1d  ...    0.0     False\n",
              "4           4  1d  ...    0.0     False\n",
              "\n",
              "[5 rows x 10 columns]"
            ]
          },
          "metadata": {
            "tags": []
          },
          "execution_count": 50
        }
      ]
    },
    {
      "cell_type": "code",
      "metadata": {
        "id": "9XfM_zVr7ZYT",
        "colab_type": "code",
        "colab": {}
      },
      "source": [
        "def get_infected(x,uids_infected,infected_scores):\n",
        "  if x['uid'] in uids_infected :\n",
        "    x['infected'] = True \n",
        "    # Index of the scores of the uid\n",
        "    uid_index = uids_infected.index(x['uid'])\n",
        "    scores = infected_scores[uid_index]['scores']\n",
        "    pd_date = x['datetime'].split(' ')[0]\n",
        "    for date_score in scores :\n",
        "      infected_date = str(date_score['date']).split(' ')[0]\n",
        "      if infected_date == pd_date :\n",
        "        x['scores'] = date_score['score']\n",
        "  return x\n"
      ],
      "execution_count": 0,
      "outputs": []
    },
    {
      "cell_type": "code",
      "metadata": {
        "id": "YZ2eXtIeFmx4",
        "colab_type": "code",
        "colab": {}
      },
      "source": [
        "infected_tdf = ble_tdf.apply(get_infected,args=[uids_infected,infected_scores],axis=1)[['uid','datetime' \t,'lat' \t,'lng', \t'zone_id' ,\t'datetime_clipped' ,\t'ble_users' ,\t'scores' ,\t'infected']]"
      ],
      "execution_count": 0,
      "outputs": []
    },
    {
      "cell_type": "code",
      "metadata": {
        "id": "aWjVXJpOF9d7",
        "colab_type": "code",
        "outputId": "3b33602c-393e-4f0e-9e21-271de6ac581e",
        "colab": {
          "base_uri": "https://localhost:8080/",
          "height": 313
        }
      },
      "source": [
        "infected_tdf[infected_tdf['infected']==True].head()"
      ],
      "execution_count": 53,
      "outputs": [
        {
          "output_type": "execute_result",
          "data": {
            "text/html": [
              "<div>\n",
              "<style scoped>\n",
              "    .dataframe tbody tr th:only-of-type {\n",
              "        vertical-align: middle;\n",
              "    }\n",
              "\n",
              "    .dataframe tbody tr th {\n",
              "        vertical-align: top;\n",
              "    }\n",
              "\n",
              "    .dataframe thead th {\n",
              "        text-align: right;\n",
              "    }\n",
              "</style>\n",
              "<table border=\"1\" class=\"dataframe\">\n",
              "  <thead>\n",
              "    <tr style=\"text-align: right;\">\n",
              "      <th></th>\n",
              "      <th>uid</th>\n",
              "      <th>datetime</th>\n",
              "      <th>lat</th>\n",
              "      <th>lng</th>\n",
              "      <th>zone_id</th>\n",
              "      <th>datetime_clipped</th>\n",
              "      <th>ble_users</th>\n",
              "      <th>scores</th>\n",
              "      <th>infected</th>\n",
              "    </tr>\n",
              "  </thead>\n",
              "  <tbody>\n",
              "    <tr>\n",
              "      <th>4941</th>\n",
              "      <td>94c</td>\n",
              "      <td>2019-01-03 23:48:32.686580</td>\n",
              "      <td>34.000032</td>\n",
              "      <td>-6.854877</td>\n",
              "      <td>ENIM</td>\n",
              "      <td>1546559280000000000</td>\n",
              "      <td>48c,77c</td>\n",
              "      <td>72.245220</td>\n",
              "      <td>True</td>\n",
              "    </tr>\n",
              "    <tr>\n",
              "      <th>4942</th>\n",
              "      <td>94c</td>\n",
              "      <td>2019-01-11 07:46:19.049872</td>\n",
              "      <td>33.999689</td>\n",
              "      <td>-6.852435</td>\n",
              "      <td>EMI</td>\n",
              "      <td>1547192760000000000</td>\n",
              "      <td>82c</td>\n",
              "      <td>2.833905</td>\n",
              "      <td>True</td>\n",
              "    </tr>\n",
              "    <tr>\n",
              "      <th>4943</th>\n",
              "      <td>94c</td>\n",
              "      <td>2019-01-11 10:10:10.995892</td>\n",
              "      <td>34.000416</td>\n",
              "      <td>-6.857033</td>\n",
              "      <td>Gare</td>\n",
              "      <td>1547201400000000000</td>\n",
              "      <td>9c</td>\n",
              "      <td>2.833905</td>\n",
              "      <td>True</td>\n",
              "    </tr>\n",
              "    <tr>\n",
              "      <th>4944</th>\n",
              "      <td>94c</td>\n",
              "      <td>2019-01-13 01:46:29.306062</td>\n",
              "      <td>34.000416</td>\n",
              "      <td>-6.857033</td>\n",
              "      <td>Gare</td>\n",
              "      <td>1547343960000000000</td>\n",
              "      <td>109c</td>\n",
              "      <td>0.617435</td>\n",
              "      <td>True</td>\n",
              "    </tr>\n",
              "    <tr>\n",
              "      <th>9943</th>\n",
              "      <td>18f</td>\n",
              "      <td>2019-01-01 21:00:00.000000</td>\n",
              "      <td>34.000416</td>\n",
              "      <td>-6.857033</td>\n",
              "      <td>Gare</td>\n",
              "      <td>1546376400000000000</td>\n",
              "      <td>8d,31d,49d,52d,63d,91d,66f,91f,109f</td>\n",
              "      <td>0.813159</td>\n",
              "      <td>True</td>\n",
              "    </tr>\n",
              "  </tbody>\n",
              "</table>\n",
              "</div>"
            ],
            "text/plain": [
              "      uid                    datetime  ...     scores  infected\n",
              "4941  94c  2019-01-03 23:48:32.686580  ...  72.245220      True\n",
              "4942  94c  2019-01-11 07:46:19.049872  ...   2.833905      True\n",
              "4943  94c  2019-01-11 10:10:10.995892  ...   2.833905      True\n",
              "4944  94c  2019-01-13 01:46:29.306062  ...   0.617435      True\n",
              "9943  18f  2019-01-01 21:00:00.000000  ...   0.813159      True\n",
              "\n",
              "[5 rows x 9 columns]"
            ]
          },
          "metadata": {
            "tags": []
          },
          "execution_count": 53
        }
      ]
    },
    {
      "cell_type": "markdown",
      "metadata": {
        "id": "DkIxMgzvZL4I",
        "colab_type": "text"
      },
      "source": [
        "The next step is to add the scores of the people at risk, which are the people that met the infected people.\n",
        "\n",
        "For our test purposes, we will give the risky people the quarter of the risk of infected people they met, with an additive score (the more they meet, the higher it is). This score can be modified further as we test more."
      ]
    },
    {
      "cell_type": "code",
      "metadata": {
        "id": "gUwucUDiShq_",
        "colab_type": "code",
        "colab": {}
      },
      "source": [
        "# The quotient of the score passed from infected people to people in risk, for test purposes only\n",
        "virality_propagation = .25"
      ],
      "execution_count": 0,
      "outputs": []
    },
    {
      "cell_type": "code",
      "metadata": {
        "id": "SM0V7bqQZ_Zm",
        "colab_type": "code",
        "colab": {}
      },
      "source": [
        "infected_tdf['potentially_infected'] = False"
      ],
      "execution_count": 0,
      "outputs": []
    },
    {
      "cell_type": "code",
      "metadata": {
        "id": "rq7Md7B23ni6",
        "colab_type": "code",
        "outputId": "cf17cbaa-050d-46f0-dbff-59da1450b232",
        "colab": {
          "base_uri": "https://localhost:8080/",
          "height": 313
        }
      },
      "source": [
        "infected_tdf.head()"
      ],
      "execution_count": 56,
      "outputs": [
        {
          "output_type": "execute_result",
          "data": {
            "text/html": [
              "<div>\n",
              "<style scoped>\n",
              "    .dataframe tbody tr th:only-of-type {\n",
              "        vertical-align: middle;\n",
              "    }\n",
              "\n",
              "    .dataframe tbody tr th {\n",
              "        vertical-align: top;\n",
              "    }\n",
              "\n",
              "    .dataframe thead th {\n",
              "        text-align: right;\n",
              "    }\n",
              "</style>\n",
              "<table border=\"1\" class=\"dataframe\">\n",
              "  <thead>\n",
              "    <tr style=\"text-align: right;\">\n",
              "      <th></th>\n",
              "      <th>uid</th>\n",
              "      <th>datetime</th>\n",
              "      <th>lat</th>\n",
              "      <th>lng</th>\n",
              "      <th>zone_id</th>\n",
              "      <th>datetime_clipped</th>\n",
              "      <th>ble_users</th>\n",
              "      <th>scores</th>\n",
              "      <th>infected</th>\n",
              "      <th>potentially_infected</th>\n",
              "    </tr>\n",
              "  </thead>\n",
              "  <tbody>\n",
              "    <tr>\n",
              "      <th>0</th>\n",
              "      <td>1d</td>\n",
              "      <td>2019-01-02 11:00:00.000000</td>\n",
              "      <td>34.000416</td>\n",
              "      <td>-6.857033</td>\n",
              "      <td>Gare</td>\n",
              "      <td>1546426800000000000</td>\n",
              "      <td>31d,47d,49d,50d,114d</td>\n",
              "      <td>0.0</td>\n",
              "      <td>False</td>\n",
              "      <td>False</td>\n",
              "    </tr>\n",
              "    <tr>\n",
              "      <th>1</th>\n",
              "      <td>1d</td>\n",
              "      <td>2019-01-02 18:00:00.000000</td>\n",
              "      <td>34.000032</td>\n",
              "      <td>-6.854877</td>\n",
              "      <td>ENIM</td>\n",
              "      <td>1546452000000000000</td>\n",
              "      <td>76d,137d,106f,128f</td>\n",
              "      <td>0.0</td>\n",
              "      <td>False</td>\n",
              "      <td>False</td>\n",
              "    </tr>\n",
              "    <tr>\n",
              "      <th>2</th>\n",
              "      <td>1d</td>\n",
              "      <td>2019-01-02 23:00:00.000000</td>\n",
              "      <td>34.000416</td>\n",
              "      <td>-6.857033</td>\n",
              "      <td>Gare</td>\n",
              "      <td>1546470000000000000</td>\n",
              "      <td>114d,127f</td>\n",
              "      <td>0.0</td>\n",
              "      <td>False</td>\n",
              "      <td>False</td>\n",
              "    </tr>\n",
              "    <tr>\n",
              "      <th>3</th>\n",
              "      <td>1d</td>\n",
              "      <td>2019-01-03 08:00:00.000000</td>\n",
              "      <td>33.992823</td>\n",
              "      <td>-6.857832</td>\n",
              "      <td>lot 3</td>\n",
              "      <td>1546502400000000000</td>\n",
              "      <td>26d,23f</td>\n",
              "      <td>0.0</td>\n",
              "      <td>False</td>\n",
              "      <td>False</td>\n",
              "    </tr>\n",
              "    <tr>\n",
              "      <th>4</th>\n",
              "      <td>1d</td>\n",
              "      <td>2019-01-06 13:00:00.000000</td>\n",
              "      <td>34.000032</td>\n",
              "      <td>-6.854877</td>\n",
              "      <td>ENIM</td>\n",
              "      <td>1546779600000000000</td>\n",
              "      <td>15d</td>\n",
              "      <td>0.0</td>\n",
              "      <td>False</td>\n",
              "      <td>False</td>\n",
              "    </tr>\n",
              "  </tbody>\n",
              "</table>\n",
              "</div>"
            ],
            "text/plain": [
              "  uid                    datetime  ...  infected  potentially_infected\n",
              "0  1d  2019-01-02 11:00:00.000000  ...     False                 False\n",
              "1  1d  2019-01-02 18:00:00.000000  ...     False                 False\n",
              "2  1d  2019-01-02 23:00:00.000000  ...     False                 False\n",
              "3  1d  2019-01-03 08:00:00.000000  ...     False                 False\n",
              "4  1d  2019-01-06 13:00:00.000000  ...     False                 False\n",
              "\n",
              "[5 rows x 10 columns]"
            ]
          },
          "metadata": {
            "tags": []
          },
          "execution_count": 56
        }
      ]
    },
    {
      "cell_type": "code",
      "metadata": {
        "id": "mjVCleyl3san",
        "colab_type": "code",
        "colab": {}
      },
      "source": [
        "temp_infected = infected_tdf[infected_tdf['infected']==True]"
      ],
      "execution_count": 0,
      "outputs": []
    },
    {
      "cell_type": "code",
      "metadata": {
        "id": "uRYvjYf-5QS1",
        "colab_type": "code",
        "outputId": "1473d184-25c0-4e89-ee44-21ffcb1cfbb2",
        "colab": {
          "base_uri": "https://localhost:8080/",
          "height": 313
        }
      },
      "source": [
        "temp_infected.head()"
      ],
      "execution_count": 58,
      "outputs": [
        {
          "output_type": "execute_result",
          "data": {
            "text/html": [
              "<div>\n",
              "<style scoped>\n",
              "    .dataframe tbody tr th:only-of-type {\n",
              "        vertical-align: middle;\n",
              "    }\n",
              "\n",
              "    .dataframe tbody tr th {\n",
              "        vertical-align: top;\n",
              "    }\n",
              "\n",
              "    .dataframe thead th {\n",
              "        text-align: right;\n",
              "    }\n",
              "</style>\n",
              "<table border=\"1\" class=\"dataframe\">\n",
              "  <thead>\n",
              "    <tr style=\"text-align: right;\">\n",
              "      <th></th>\n",
              "      <th>uid</th>\n",
              "      <th>datetime</th>\n",
              "      <th>lat</th>\n",
              "      <th>lng</th>\n",
              "      <th>zone_id</th>\n",
              "      <th>datetime_clipped</th>\n",
              "      <th>ble_users</th>\n",
              "      <th>scores</th>\n",
              "      <th>infected</th>\n",
              "      <th>potentially_infected</th>\n",
              "    </tr>\n",
              "  </thead>\n",
              "  <tbody>\n",
              "    <tr>\n",
              "      <th>4941</th>\n",
              "      <td>94c</td>\n",
              "      <td>2019-01-03 23:48:32.686580</td>\n",
              "      <td>34.000032</td>\n",
              "      <td>-6.854877</td>\n",
              "      <td>ENIM</td>\n",
              "      <td>1546559280000000000</td>\n",
              "      <td>48c,77c</td>\n",
              "      <td>72.245220</td>\n",
              "      <td>True</td>\n",
              "      <td>False</td>\n",
              "    </tr>\n",
              "    <tr>\n",
              "      <th>4942</th>\n",
              "      <td>94c</td>\n",
              "      <td>2019-01-11 07:46:19.049872</td>\n",
              "      <td>33.999689</td>\n",
              "      <td>-6.852435</td>\n",
              "      <td>EMI</td>\n",
              "      <td>1547192760000000000</td>\n",
              "      <td>82c</td>\n",
              "      <td>2.833905</td>\n",
              "      <td>True</td>\n",
              "      <td>False</td>\n",
              "    </tr>\n",
              "    <tr>\n",
              "      <th>4943</th>\n",
              "      <td>94c</td>\n",
              "      <td>2019-01-11 10:10:10.995892</td>\n",
              "      <td>34.000416</td>\n",
              "      <td>-6.857033</td>\n",
              "      <td>Gare</td>\n",
              "      <td>1547201400000000000</td>\n",
              "      <td>9c</td>\n",
              "      <td>2.833905</td>\n",
              "      <td>True</td>\n",
              "      <td>False</td>\n",
              "    </tr>\n",
              "    <tr>\n",
              "      <th>4944</th>\n",
              "      <td>94c</td>\n",
              "      <td>2019-01-13 01:46:29.306062</td>\n",
              "      <td>34.000416</td>\n",
              "      <td>-6.857033</td>\n",
              "      <td>Gare</td>\n",
              "      <td>1547343960000000000</td>\n",
              "      <td>109c</td>\n",
              "      <td>0.617435</td>\n",
              "      <td>True</td>\n",
              "      <td>False</td>\n",
              "    </tr>\n",
              "    <tr>\n",
              "      <th>9943</th>\n",
              "      <td>18f</td>\n",
              "      <td>2019-01-01 21:00:00.000000</td>\n",
              "      <td>34.000416</td>\n",
              "      <td>-6.857033</td>\n",
              "      <td>Gare</td>\n",
              "      <td>1546376400000000000</td>\n",
              "      <td>8d,31d,49d,52d,63d,91d,66f,91f,109f</td>\n",
              "      <td>0.813159</td>\n",
              "      <td>True</td>\n",
              "      <td>False</td>\n",
              "    </tr>\n",
              "  </tbody>\n",
              "</table>\n",
              "</div>"
            ],
            "text/plain": [
              "      uid                    datetime  ...  infected  potentially_infected\n",
              "4941  94c  2019-01-03 23:48:32.686580  ...      True                 False\n",
              "4942  94c  2019-01-11 07:46:19.049872  ...      True                 False\n",
              "4943  94c  2019-01-11 10:10:10.995892  ...      True                 False\n",
              "4944  94c  2019-01-13 01:46:29.306062  ...      True                 False\n",
              "9943  18f  2019-01-01 21:00:00.000000  ...      True                 False\n",
              "\n",
              "[5 rows x 10 columns]"
            ]
          },
          "metadata": {
            "tags": []
          },
          "execution_count": 58
        }
      ]
    },
    {
      "cell_type": "code",
      "metadata": {
        "id": "hehS8vd-_Hbl",
        "colab_type": "code",
        "colab": {}
      },
      "source": [
        "risk_array = []\n",
        "\n",
        "# Getting risk scores for each minute for people having met infected people\n",
        "for row in temp_infected.itertuples(index=True, name='Pandas'):\n",
        "    risky_list = row.ble_users.split(',')\n",
        "    date_clipped = row.datetime_clipped\n",
        "    risk_score = row.scores * virality_propagation\n",
        "    for uid in risky_list :\n",
        "      temp_dict = {'uid':uid,'datetime_clipped':date_clipped,'risk_scores':risk_score} \n",
        "      risk_array.append(temp_dict)\n",
        "\n",
        "risk_df = pd.DataFrame(risk_array)"
      ],
      "execution_count": 0,
      "outputs": []
    },
    {
      "cell_type": "code",
      "metadata": {
        "id": "X63GAnll5RK2",
        "colab_type": "code",
        "colab": {}
      },
      "source": [
        "# Summing risks scores of people that are in the same instant to drop duplicates\n",
        "risk_df = risk_df.groupby(['uid','datetime_clipped'])['risk_scores'].apply(sum).reset_index()"
      ],
      "execution_count": 0,
      "outputs": []
    },
    {
      "cell_type": "code",
      "metadata": {
        "id": "nqfrap6CYwzd",
        "colab_type": "code",
        "colab": {}
      },
      "source": [
        "# Compounding risk whenever he meets a new infected person\n",
        "temp_compound = infected_tdf.merge(risk_df,how='inner',on=['uid'])\n",
        "temp_compound = temp_compound[['uid','datetime','datetime_clipped_x']]\n",
        "\n",
        "temp_compound = temp_compound.rename(columns = {'datetime_clipped_x':'datetime_clipped'})\n",
        "temp_compound = temp_compound.merge(risk_df,how='left',on=['uid','datetime_clipped']).fillna(0)"
      ],
      "execution_count": 0,
      "outputs": []
    },
    {
      "cell_type": "code",
      "metadata": {
        "id": "llqoveAjeqRu",
        "colab_type": "code",
        "colab": {}
      },
      "source": [
        "temp_uid = \"\"\n",
        "earlier_score = 0\n",
        "risk_array = []\n",
        "for row in temp_compound.itertuples(index=True, name='Pandas'):\n",
        "  if row.uid != temp_uid:\n",
        "    temp_uid = row.uid\n",
        "    earlier_score = 0 \n",
        "  current_score = row.risk_scores \n",
        "  final_risk_scores = earlier_score + current_score \n",
        "  earlier_score = final_risk_scores\n",
        "  temp_dict = {'uid':row.uid,'datetime_clipped':row.datetime_clipped,'risk_scores':final_risk_scores} \n",
        "  risk_array.append(temp_dict)\n",
        "risk_df = pd.DataFrame(risk_array)"
      ],
      "execution_count": 0,
      "outputs": []
    },
    {
      "cell_type": "code",
      "metadata": {
        "id": "rMRxBhyOHqhj",
        "colab_type": "code",
        "colab": {}
      },
      "source": [
        "def filter_risks(x):\n",
        "  if x['risk_scores'] != 0 :\n",
        "    x['potentially_infected'] = True \n",
        "    x['scores'] = x['risk_scores'] \n",
        "  return x"
      ],
      "execution_count": 0,
      "outputs": []
    },
    {
      "cell_type": "code",
      "metadata": {
        "id": "yT_FmsGK7_7n",
        "colab_type": "code",
        "colab": {}
      },
      "source": [
        "# Merging risk scores back \n",
        "infected_tdf = infected_tdf.merge(risk_df,how='left',on=['uid','datetime_clipped']).fillna(0)"
      ],
      "execution_count": 0,
      "outputs": []
    },
    {
      "cell_type": "code",
      "metadata": {
        "id": "Yw61RhAPmMkq",
        "colab_type": "code",
        "colab": {}
      },
      "source": [
        "scores_tdf = infected_tdf.apply(filter_risks,axis=1)"
      ],
      "execution_count": 0,
      "outputs": []
    },
    {
      "cell_type": "code",
      "metadata": {
        "id": "DGoqxn6eKPrz",
        "colab_type": "code",
        "colab": {}
      },
      "source": [
        "scores_tdf = scores_tdf[['uid','datetime','zone_id','ble_users','scores','infected','potentially_infected','datetime_clipped']]"
      ],
      "execution_count": 0,
      "outputs": []
    },
    {
      "cell_type": "code",
      "metadata": {
        "id": "6mBOzhKLlQDz",
        "colab_type": "code",
        "colab": {}
      },
      "source": [
        "# For people that met a lot of infected people in the same instant, we only keep the total score of meeting them all\n",
        "scores_tdf = scores_tdf.drop_duplicates(subset=['uid','datetime','zone_id','ble_users','infected','potentially_infected'],keep=\"last\")"
      ],
      "execution_count": 0,
      "outputs": []
    },
    {
      "cell_type": "code",
      "metadata": {
        "id": "LKyNG8DUKskC",
        "colab_type": "code",
        "outputId": "7da4bfd1-b428-4aac-f683-8b2bbdda9b65",
        "colab": {
          "base_uri": "https://localhost:8080/",
          "height": 313
        }
      },
      "source": [
        "scores_tdf[scores_tdf['potentially_infected']==True].head()"
      ],
      "execution_count": 68,
      "outputs": [
        {
          "output_type": "execute_result",
          "data": {
            "text/html": [
              "<div>\n",
              "<style scoped>\n",
              "    .dataframe tbody tr th:only-of-type {\n",
              "        vertical-align: middle;\n",
              "    }\n",
              "\n",
              "    .dataframe tbody tr th {\n",
              "        vertical-align: top;\n",
              "    }\n",
              "\n",
              "    .dataframe thead th {\n",
              "        text-align: right;\n",
              "    }\n",
              "</style>\n",
              "<table border=\"1\" class=\"dataframe\">\n",
              "  <thead>\n",
              "    <tr style=\"text-align: right;\">\n",
              "      <th></th>\n",
              "      <th>uid</th>\n",
              "      <th>datetime</th>\n",
              "      <th>zone_id</th>\n",
              "      <th>ble_users</th>\n",
              "      <th>scores</th>\n",
              "      <th>infected</th>\n",
              "      <th>potentially_infected</th>\n",
              "      <th>datetime_clipped</th>\n",
              "    </tr>\n",
              "  </thead>\n",
              "  <tbody>\n",
              "    <tr>\n",
              "      <th>23</th>\n",
              "      <td>2d</td>\n",
              "      <td>2019-01-05 19:00:00.000000</td>\n",
              "      <td>ENIM</td>\n",
              "      <td>29d,99d,14f,18f</td>\n",
              "      <td>2.924383</td>\n",
              "      <td>False</td>\n",
              "      <td>True</td>\n",
              "      <td>1546714800000000000</td>\n",
              "    </tr>\n",
              "    <tr>\n",
              "      <th>24</th>\n",
              "      <td>2d</td>\n",
              "      <td>2019-01-05 21:00:00.000000</td>\n",
              "      <td>Gare</td>\n",
              "      <td>39d,57d,64d,78d</td>\n",
              "      <td>2.924383</td>\n",
              "      <td>False</td>\n",
              "      <td>True</td>\n",
              "      <td>1546722000000000000</td>\n",
              "    </tr>\n",
              "    <tr>\n",
              "      <th>25</th>\n",
              "      <td>2d</td>\n",
              "      <td>2019-01-05 23:00:00.000000</td>\n",
              "      <td>ENIM</td>\n",
              "      <td>13d,113d,98c,33f</td>\n",
              "      <td>2.924383</td>\n",
              "      <td>False</td>\n",
              "      <td>True</td>\n",
              "      <td>1546729200000000000</td>\n",
              "    </tr>\n",
              "    <tr>\n",
              "      <th>26</th>\n",
              "      <td>2d</td>\n",
              "      <td>2019-01-06 02:00:00.000000</td>\n",
              "      <td>Gare</td>\n",
              "      <td>64d,145d</td>\n",
              "      <td>2.924383</td>\n",
              "      <td>False</td>\n",
              "      <td>True</td>\n",
              "      <td>1546740000000000000</td>\n",
              "    </tr>\n",
              "    <tr>\n",
              "      <th>27</th>\n",
              "      <td>2d</td>\n",
              "      <td>2019-01-06 19:00:00.000000</td>\n",
              "      <td>EMI</td>\n",
              "      <td>43d,54d,15f</td>\n",
              "      <td>2.924383</td>\n",
              "      <td>False</td>\n",
              "      <td>True</td>\n",
              "      <td>1546801200000000000</td>\n",
              "    </tr>\n",
              "  </tbody>\n",
              "</table>\n",
              "</div>"
            ],
            "text/plain": [
              "   uid                    datetime  ... potentially_infected     datetime_clipped\n",
              "23  2d  2019-01-05 19:00:00.000000  ...                 True  1546714800000000000\n",
              "24  2d  2019-01-05 21:00:00.000000  ...                 True  1546722000000000000\n",
              "25  2d  2019-01-05 23:00:00.000000  ...                 True  1546729200000000000\n",
              "26  2d  2019-01-06 02:00:00.000000  ...                 True  1546740000000000000\n",
              "27  2d  2019-01-06 19:00:00.000000  ...                 True  1546801200000000000\n",
              "\n",
              "[5 rows x 8 columns]"
            ]
          },
          "metadata": {
            "tags": []
          },
          "execution_count": 68
        }
      ]
    },
    {
      "cell_type": "code",
      "metadata": {
        "id": "BTmCBYqlMBSG",
        "colab_type": "code",
        "outputId": "e0fbce88-c8f3-4cd0-9169-74772c1e81ab",
        "colab": {
          "base_uri": "https://localhost:8080/",
          "height": 313
        }
      },
      "source": [
        "scores_tdf[scores_tdf['infected']==True].head()"
      ],
      "execution_count": 69,
      "outputs": [
        {
          "output_type": "execute_result",
          "data": {
            "text/html": [
              "<div>\n",
              "<style scoped>\n",
              "    .dataframe tbody tr th:only-of-type {\n",
              "        vertical-align: middle;\n",
              "    }\n",
              "\n",
              "    .dataframe tbody tr th {\n",
              "        vertical-align: top;\n",
              "    }\n",
              "\n",
              "    .dataframe thead th {\n",
              "        text-align: right;\n",
              "    }\n",
              "</style>\n",
              "<table border=\"1\" class=\"dataframe\">\n",
              "  <thead>\n",
              "    <tr style=\"text-align: right;\">\n",
              "      <th></th>\n",
              "      <th>uid</th>\n",
              "      <th>datetime</th>\n",
              "      <th>zone_id</th>\n",
              "      <th>ble_users</th>\n",
              "      <th>scores</th>\n",
              "      <th>infected</th>\n",
              "      <th>potentially_infected</th>\n",
              "      <th>datetime_clipped</th>\n",
              "    </tr>\n",
              "  </thead>\n",
              "  <tbody>\n",
              "    <tr>\n",
              "      <th>5804</th>\n",
              "      <td>94c</td>\n",
              "      <td>2019-01-03 23:48:32.686580</td>\n",
              "      <td>ENIM</td>\n",
              "      <td>48c,77c</td>\n",
              "      <td>72.245220</td>\n",
              "      <td>True</td>\n",
              "      <td>False</td>\n",
              "      <td>1546559280000000000</td>\n",
              "    </tr>\n",
              "    <tr>\n",
              "      <th>5805</th>\n",
              "      <td>94c</td>\n",
              "      <td>2019-01-11 07:46:19.049872</td>\n",
              "      <td>EMI</td>\n",
              "      <td>82c</td>\n",
              "      <td>2.833905</td>\n",
              "      <td>True</td>\n",
              "      <td>False</td>\n",
              "      <td>1547192760000000000</td>\n",
              "    </tr>\n",
              "    <tr>\n",
              "      <th>5806</th>\n",
              "      <td>94c</td>\n",
              "      <td>2019-01-11 10:10:10.995892</td>\n",
              "      <td>Gare</td>\n",
              "      <td>9c</td>\n",
              "      <td>2.833905</td>\n",
              "      <td>True</td>\n",
              "      <td>False</td>\n",
              "      <td>1547201400000000000</td>\n",
              "    </tr>\n",
              "    <tr>\n",
              "      <th>5807</th>\n",
              "      <td>94c</td>\n",
              "      <td>2019-01-13 01:46:29.306062</td>\n",
              "      <td>Gare</td>\n",
              "      <td>109c</td>\n",
              "      <td>0.617435</td>\n",
              "      <td>True</td>\n",
              "      <td>False</td>\n",
              "      <td>1547343960000000000</td>\n",
              "    </tr>\n",
              "    <tr>\n",
              "      <th>11203</th>\n",
              "      <td>18f</td>\n",
              "      <td>2019-01-01 21:00:00.000000</td>\n",
              "      <td>Gare</td>\n",
              "      <td>8d,31d,49d,52d,63d,91d,66f,91f,109f</td>\n",
              "      <td>0.813159</td>\n",
              "      <td>True</td>\n",
              "      <td>False</td>\n",
              "      <td>1546376400000000000</td>\n",
              "    </tr>\n",
              "  </tbody>\n",
              "</table>\n",
              "</div>"
            ],
            "text/plain": [
              "       uid  ...     datetime_clipped\n",
              "5804   94c  ...  1546559280000000000\n",
              "5805   94c  ...  1547192760000000000\n",
              "5806   94c  ...  1547201400000000000\n",
              "5807   94c  ...  1547343960000000000\n",
              "11203  18f  ...  1546376400000000000\n",
              "\n",
              "[5 rows x 8 columns]"
            ]
          },
          "metadata": {
            "tags": []
          },
          "execution_count": 69
        }
      ]
    },
    {
      "cell_type": "code",
      "metadata": {
        "id": "_xM8h_YrLr_M",
        "colab_type": "code",
        "colab": {}
      },
      "source": [
        "scores_tdf.to_csv('user_scores.csv')"
      ],
      "execution_count": 0,
      "outputs": []
    },
    {
      "cell_type": "code",
      "metadata": {
        "id": "HYUTPjP7L8_H",
        "colab_type": "code",
        "outputId": "92c47bae-07ad-4181-a682-b830ef156940",
        "colab": {
          "base_uri": "https://localhost:8080/",
          "height": 34
        }
      },
      "source": [
        "scores_tdf.shape"
      ],
      "execution_count": 71,
      "outputs": [
        {
          "output_type": "execute_result",
          "data": {
            "text/plain": [
              "(14171, 8)"
            ]
          },
          "metadata": {
            "tags": []
          },
          "execution_count": 71
        }
      ]
    },
    {
      "cell_type": "markdown",
      "metadata": {
        "id": "yGqy_KLY0Uh6",
        "colab_type": "text"
      },
      "source": [
        "# Zone scoring\n",
        "\n",
        "### Scoring zones for specific times"
      ]
    },
    {
      "cell_type": "markdown",
      "metadata": {
        "id": "vA71pVXayjvl",
        "colab_type": "text"
      },
      "source": [
        "We will give scores for the zones by the hour since 14 days before till now"
      ]
    },
    {
      "cell_type": "code",
      "metadata": {
        "id": "UgByBiOm1veC",
        "colab_type": "code",
        "colab": {}
      },
      "source": [
        "# The number of hours in the whole simulation\n",
        "nb_hours_simulation = (end_time-start_time).days *24"
      ],
      "execution_count": 0,
      "outputs": []
    },
    {
      "cell_type": "code",
      "metadata": {
        "id": "o3DI9TNh3wPY",
        "colab_type": "code",
        "colab": {
          "base_uri": "https://localhost:8080/",
          "height": 34
        },
        "outputId": "9b1b1745-9b44-4e25-f0c1-98520e77fa26"
      },
      "source": [
        "from datetime import date, timedelta\n",
        "start_time + timedelta(hours=1)"
      ],
      "execution_count": 75,
      "outputs": [
        {
          "output_type": "execute_result",
          "data": {
            "text/plain": [
              "Timestamp('2019-01-01 09:00:00')"
            ]
          },
          "metadata": {
            "tags": []
          },
          "execution_count": 75
        }
      ]
    },
    {
      "cell_type": "markdown",
      "metadata": {
        "id": "rx5PheHeM4Zr",
        "colab_type": "text"
      },
      "source": [
        "We'll prepare the dataframe where we will have all zone/hour_date couples in our test map."
      ]
    },
    {
      "cell_type": "code",
      "metadata": {
        "id": "LhuOLLx_3d0b",
        "colab_type": "code",
        "colab": {}
      },
      "source": [
        "date_array = []\n",
        "for hour_period in range(1,nb_hours_simulation):\n",
        "  date_period = start_time + timedelta(hours=hour_period)\n",
        "  date_dict = {'date_period':date_period,'index':0}\n",
        "  date_array.append(date_dict)\n",
        "date_tf = pd.DataFrame(date_array)"
      ],
      "execution_count": 0,
      "outputs": []
    },
    {
      "cell_type": "code",
      "metadata": {
        "id": "X3EQi-8aOLWD",
        "colab_type": "code",
        "colab": {
          "base_uri": "https://localhost:8080/",
          "height": 1000
        },
        "outputId": "e5e072a4-febf-4583-c2b0-0aded97ac10a"
      },
      "source": [
        "date_tf"
      ],
      "execution_count": 95,
      "outputs": [
        {
          "output_type": "execute_result",
          "data": {
            "text/html": [
              "<div>\n",
              "<style scoped>\n",
              "    .dataframe tbody tr th:only-of-type {\n",
              "        vertical-align: middle;\n",
              "    }\n",
              "\n",
              "    .dataframe tbody tr th {\n",
              "        vertical-align: top;\n",
              "    }\n",
              "\n",
              "    .dataframe thead th {\n",
              "        text-align: right;\n",
              "    }\n",
              "</style>\n",
              "<table border=\"1\" class=\"dataframe\">\n",
              "  <thead>\n",
              "    <tr style=\"text-align: right;\">\n",
              "      <th></th>\n",
              "      <th>date_period</th>\n",
              "      <th>index</th>\n",
              "    </tr>\n",
              "  </thead>\n",
              "  <tbody>\n",
              "    <tr>\n",
              "      <th>0</th>\n",
              "      <td>2019-01-01 09:00:00</td>\n",
              "      <td>0</td>\n",
              "    </tr>\n",
              "    <tr>\n",
              "      <th>1</th>\n",
              "      <td>2019-01-01 10:00:00</td>\n",
              "      <td>0</td>\n",
              "    </tr>\n",
              "    <tr>\n",
              "      <th>2</th>\n",
              "      <td>2019-01-01 11:00:00</td>\n",
              "      <td>0</td>\n",
              "    </tr>\n",
              "    <tr>\n",
              "      <th>3</th>\n",
              "      <td>2019-01-01 12:00:00</td>\n",
              "      <td>0</td>\n",
              "    </tr>\n",
              "    <tr>\n",
              "      <th>4</th>\n",
              "      <td>2019-01-01 13:00:00</td>\n",
              "      <td>0</td>\n",
              "    </tr>\n",
              "    <tr>\n",
              "      <th>5</th>\n",
              "      <td>2019-01-01 14:00:00</td>\n",
              "      <td>0</td>\n",
              "    </tr>\n",
              "    <tr>\n",
              "      <th>6</th>\n",
              "      <td>2019-01-01 15:00:00</td>\n",
              "      <td>0</td>\n",
              "    </tr>\n",
              "    <tr>\n",
              "      <th>7</th>\n",
              "      <td>2019-01-01 16:00:00</td>\n",
              "      <td>0</td>\n",
              "    </tr>\n",
              "    <tr>\n",
              "      <th>8</th>\n",
              "      <td>2019-01-01 17:00:00</td>\n",
              "      <td>0</td>\n",
              "    </tr>\n",
              "    <tr>\n",
              "      <th>9</th>\n",
              "      <td>2019-01-01 18:00:00</td>\n",
              "      <td>0</td>\n",
              "    </tr>\n",
              "    <tr>\n",
              "      <th>10</th>\n",
              "      <td>2019-01-01 19:00:00</td>\n",
              "      <td>0</td>\n",
              "    </tr>\n",
              "    <tr>\n",
              "      <th>11</th>\n",
              "      <td>2019-01-01 20:00:00</td>\n",
              "      <td>0</td>\n",
              "    </tr>\n",
              "    <tr>\n",
              "      <th>12</th>\n",
              "      <td>2019-01-01 21:00:00</td>\n",
              "      <td>0</td>\n",
              "    </tr>\n",
              "    <tr>\n",
              "      <th>13</th>\n",
              "      <td>2019-01-01 22:00:00</td>\n",
              "      <td>0</td>\n",
              "    </tr>\n",
              "    <tr>\n",
              "      <th>14</th>\n",
              "      <td>2019-01-01 23:00:00</td>\n",
              "      <td>0</td>\n",
              "    </tr>\n",
              "    <tr>\n",
              "      <th>15</th>\n",
              "      <td>2019-01-02 00:00:00</td>\n",
              "      <td>0</td>\n",
              "    </tr>\n",
              "    <tr>\n",
              "      <th>16</th>\n",
              "      <td>2019-01-02 01:00:00</td>\n",
              "      <td>0</td>\n",
              "    </tr>\n",
              "    <tr>\n",
              "      <th>17</th>\n",
              "      <td>2019-01-02 02:00:00</td>\n",
              "      <td>0</td>\n",
              "    </tr>\n",
              "    <tr>\n",
              "      <th>18</th>\n",
              "      <td>2019-01-02 03:00:00</td>\n",
              "      <td>0</td>\n",
              "    </tr>\n",
              "    <tr>\n",
              "      <th>19</th>\n",
              "      <td>2019-01-02 04:00:00</td>\n",
              "      <td>0</td>\n",
              "    </tr>\n",
              "    <tr>\n",
              "      <th>20</th>\n",
              "      <td>2019-01-02 05:00:00</td>\n",
              "      <td>0</td>\n",
              "    </tr>\n",
              "    <tr>\n",
              "      <th>21</th>\n",
              "      <td>2019-01-02 06:00:00</td>\n",
              "      <td>0</td>\n",
              "    </tr>\n",
              "    <tr>\n",
              "      <th>22</th>\n",
              "      <td>2019-01-02 07:00:00</td>\n",
              "      <td>0</td>\n",
              "    </tr>\n",
              "    <tr>\n",
              "      <th>23</th>\n",
              "      <td>2019-01-02 08:00:00</td>\n",
              "      <td>0</td>\n",
              "    </tr>\n",
              "    <tr>\n",
              "      <th>24</th>\n",
              "      <td>2019-01-02 09:00:00</td>\n",
              "      <td>0</td>\n",
              "    </tr>\n",
              "    <tr>\n",
              "      <th>25</th>\n",
              "      <td>2019-01-02 10:00:00</td>\n",
              "      <td>0</td>\n",
              "    </tr>\n",
              "    <tr>\n",
              "      <th>26</th>\n",
              "      <td>2019-01-02 11:00:00</td>\n",
              "      <td>0</td>\n",
              "    </tr>\n",
              "    <tr>\n",
              "      <th>27</th>\n",
              "      <td>2019-01-02 12:00:00</td>\n",
              "      <td>0</td>\n",
              "    </tr>\n",
              "    <tr>\n",
              "      <th>28</th>\n",
              "      <td>2019-01-02 13:00:00</td>\n",
              "      <td>0</td>\n",
              "    </tr>\n",
              "    <tr>\n",
              "      <th>29</th>\n",
              "      <td>2019-01-02 14:00:00</td>\n",
              "      <td>0</td>\n",
              "    </tr>\n",
              "    <tr>\n",
              "      <th>...</th>\n",
              "      <td>...</td>\n",
              "      <td>...</td>\n",
              "    </tr>\n",
              "    <tr>\n",
              "      <th>305</th>\n",
              "      <td>2019-01-14 02:00:00</td>\n",
              "      <td>0</td>\n",
              "    </tr>\n",
              "    <tr>\n",
              "      <th>306</th>\n",
              "      <td>2019-01-14 03:00:00</td>\n",
              "      <td>0</td>\n",
              "    </tr>\n",
              "    <tr>\n",
              "      <th>307</th>\n",
              "      <td>2019-01-14 04:00:00</td>\n",
              "      <td>0</td>\n",
              "    </tr>\n",
              "    <tr>\n",
              "      <th>308</th>\n",
              "      <td>2019-01-14 05:00:00</td>\n",
              "      <td>0</td>\n",
              "    </tr>\n",
              "    <tr>\n",
              "      <th>309</th>\n",
              "      <td>2019-01-14 06:00:00</td>\n",
              "      <td>0</td>\n",
              "    </tr>\n",
              "    <tr>\n",
              "      <th>310</th>\n",
              "      <td>2019-01-14 07:00:00</td>\n",
              "      <td>0</td>\n",
              "    </tr>\n",
              "    <tr>\n",
              "      <th>311</th>\n",
              "      <td>2019-01-14 08:00:00</td>\n",
              "      <td>0</td>\n",
              "    </tr>\n",
              "    <tr>\n",
              "      <th>312</th>\n",
              "      <td>2019-01-14 09:00:00</td>\n",
              "      <td>0</td>\n",
              "    </tr>\n",
              "    <tr>\n",
              "      <th>313</th>\n",
              "      <td>2019-01-14 10:00:00</td>\n",
              "      <td>0</td>\n",
              "    </tr>\n",
              "    <tr>\n",
              "      <th>314</th>\n",
              "      <td>2019-01-14 11:00:00</td>\n",
              "      <td>0</td>\n",
              "    </tr>\n",
              "    <tr>\n",
              "      <th>315</th>\n",
              "      <td>2019-01-14 12:00:00</td>\n",
              "      <td>0</td>\n",
              "    </tr>\n",
              "    <tr>\n",
              "      <th>316</th>\n",
              "      <td>2019-01-14 13:00:00</td>\n",
              "      <td>0</td>\n",
              "    </tr>\n",
              "    <tr>\n",
              "      <th>317</th>\n",
              "      <td>2019-01-14 14:00:00</td>\n",
              "      <td>0</td>\n",
              "    </tr>\n",
              "    <tr>\n",
              "      <th>318</th>\n",
              "      <td>2019-01-14 15:00:00</td>\n",
              "      <td>0</td>\n",
              "    </tr>\n",
              "    <tr>\n",
              "      <th>319</th>\n",
              "      <td>2019-01-14 16:00:00</td>\n",
              "      <td>0</td>\n",
              "    </tr>\n",
              "    <tr>\n",
              "      <th>320</th>\n",
              "      <td>2019-01-14 17:00:00</td>\n",
              "      <td>0</td>\n",
              "    </tr>\n",
              "    <tr>\n",
              "      <th>321</th>\n",
              "      <td>2019-01-14 18:00:00</td>\n",
              "      <td>0</td>\n",
              "    </tr>\n",
              "    <tr>\n",
              "      <th>322</th>\n",
              "      <td>2019-01-14 19:00:00</td>\n",
              "      <td>0</td>\n",
              "    </tr>\n",
              "    <tr>\n",
              "      <th>323</th>\n",
              "      <td>2019-01-14 20:00:00</td>\n",
              "      <td>0</td>\n",
              "    </tr>\n",
              "    <tr>\n",
              "      <th>324</th>\n",
              "      <td>2019-01-14 21:00:00</td>\n",
              "      <td>0</td>\n",
              "    </tr>\n",
              "    <tr>\n",
              "      <th>325</th>\n",
              "      <td>2019-01-14 22:00:00</td>\n",
              "      <td>0</td>\n",
              "    </tr>\n",
              "    <tr>\n",
              "      <th>326</th>\n",
              "      <td>2019-01-14 23:00:00</td>\n",
              "      <td>0</td>\n",
              "    </tr>\n",
              "    <tr>\n",
              "      <th>327</th>\n",
              "      <td>2019-01-15 00:00:00</td>\n",
              "      <td>0</td>\n",
              "    </tr>\n",
              "    <tr>\n",
              "      <th>328</th>\n",
              "      <td>2019-01-15 01:00:00</td>\n",
              "      <td>0</td>\n",
              "    </tr>\n",
              "    <tr>\n",
              "      <th>329</th>\n",
              "      <td>2019-01-15 02:00:00</td>\n",
              "      <td>0</td>\n",
              "    </tr>\n",
              "    <tr>\n",
              "      <th>330</th>\n",
              "      <td>2019-01-15 03:00:00</td>\n",
              "      <td>0</td>\n",
              "    </tr>\n",
              "    <tr>\n",
              "      <th>331</th>\n",
              "      <td>2019-01-15 04:00:00</td>\n",
              "      <td>0</td>\n",
              "    </tr>\n",
              "    <tr>\n",
              "      <th>332</th>\n",
              "      <td>2019-01-15 05:00:00</td>\n",
              "      <td>0</td>\n",
              "    </tr>\n",
              "    <tr>\n",
              "      <th>333</th>\n",
              "      <td>2019-01-15 06:00:00</td>\n",
              "      <td>0</td>\n",
              "    </tr>\n",
              "    <tr>\n",
              "      <th>334</th>\n",
              "      <td>2019-01-15 07:00:00</td>\n",
              "      <td>0</td>\n",
              "    </tr>\n",
              "  </tbody>\n",
              "</table>\n",
              "<p>335 rows × 2 columns</p>\n",
              "</div>"
            ],
            "text/plain": [
              "            date_period  index\n",
              "0   2019-01-01 09:00:00      0\n",
              "1   2019-01-01 10:00:00      0\n",
              "2   2019-01-01 11:00:00      0\n",
              "3   2019-01-01 12:00:00      0\n",
              "4   2019-01-01 13:00:00      0\n",
              "5   2019-01-01 14:00:00      0\n",
              "6   2019-01-01 15:00:00      0\n",
              "7   2019-01-01 16:00:00      0\n",
              "8   2019-01-01 17:00:00      0\n",
              "9   2019-01-01 18:00:00      0\n",
              "10  2019-01-01 19:00:00      0\n",
              "11  2019-01-01 20:00:00      0\n",
              "12  2019-01-01 21:00:00      0\n",
              "13  2019-01-01 22:00:00      0\n",
              "14  2019-01-01 23:00:00      0\n",
              "15  2019-01-02 00:00:00      0\n",
              "16  2019-01-02 01:00:00      0\n",
              "17  2019-01-02 02:00:00      0\n",
              "18  2019-01-02 03:00:00      0\n",
              "19  2019-01-02 04:00:00      0\n",
              "20  2019-01-02 05:00:00      0\n",
              "21  2019-01-02 06:00:00      0\n",
              "22  2019-01-02 07:00:00      0\n",
              "23  2019-01-02 08:00:00      0\n",
              "24  2019-01-02 09:00:00      0\n",
              "25  2019-01-02 10:00:00      0\n",
              "26  2019-01-02 11:00:00      0\n",
              "27  2019-01-02 12:00:00      0\n",
              "28  2019-01-02 13:00:00      0\n",
              "29  2019-01-02 14:00:00      0\n",
              "..                  ...    ...\n",
              "305 2019-01-14 02:00:00      0\n",
              "306 2019-01-14 03:00:00      0\n",
              "307 2019-01-14 04:00:00      0\n",
              "308 2019-01-14 05:00:00      0\n",
              "309 2019-01-14 06:00:00      0\n",
              "310 2019-01-14 07:00:00      0\n",
              "311 2019-01-14 08:00:00      0\n",
              "312 2019-01-14 09:00:00      0\n",
              "313 2019-01-14 10:00:00      0\n",
              "314 2019-01-14 11:00:00      0\n",
              "315 2019-01-14 12:00:00      0\n",
              "316 2019-01-14 13:00:00      0\n",
              "317 2019-01-14 14:00:00      0\n",
              "318 2019-01-14 15:00:00      0\n",
              "319 2019-01-14 16:00:00      0\n",
              "320 2019-01-14 17:00:00      0\n",
              "321 2019-01-14 18:00:00      0\n",
              "322 2019-01-14 19:00:00      0\n",
              "323 2019-01-14 20:00:00      0\n",
              "324 2019-01-14 21:00:00      0\n",
              "325 2019-01-14 22:00:00      0\n",
              "326 2019-01-14 23:00:00      0\n",
              "327 2019-01-15 00:00:00      0\n",
              "328 2019-01-15 01:00:00      0\n",
              "329 2019-01-15 02:00:00      0\n",
              "330 2019-01-15 03:00:00      0\n",
              "331 2019-01-15 04:00:00      0\n",
              "332 2019-01-15 05:00:00      0\n",
              "333 2019-01-15 06:00:00      0\n",
              "334 2019-01-15 07:00:00      0\n",
              "\n",
              "[335 rows x 2 columns]"
            ]
          },
          "metadata": {
            "tags": []
          },
          "execution_count": 95
        }
      ]
    },
    {
      "cell_type": "code",
      "metadata": {
        "id": "e0QgPZCI0l4N",
        "colab_type": "code",
        "colab": {}
      },
      "source": [
        "import json"
      ],
      "execution_count": 0,
      "outputs": []
    },
    {
      "cell_type": "code",
      "metadata": {
        "id": "HlVdWBowRM8c",
        "colab_type": "code",
        "colab": {}
      },
      "source": [
        "# load GeoJSON file containing sectors\n",
        "with open('morocco.geojson/agdal_irfane.geojson', 'r') as f:\n",
        "  js = json.load(f)"
      ],
      "execution_count": 0,
      "outputs": []
    },
    {
      "cell_type": "code",
      "metadata": {
        "id": "QiQv9n63Rezl",
        "colab_type": "code",
        "colab": {}
      },
      "source": [
        "zone_array = []\n",
        "\n",
        "for feature in js['features']:\n",
        "  dict_zone = {\"zone_id\":feature['properties']['id'],'index':0}\n",
        "  zone_array.append(dict_zone)\n",
        "zone_tf = pd.DataFrame(zone_array)"
      ],
      "execution_count": 0,
      "outputs": []
    },
    {
      "cell_type": "code",
      "metadata": {
        "id": "SrfAcrvJRRzn",
        "colab_type": "code",
        "colab": {}
      },
      "source": [
        "zone_tf = zone_tf.merge(date_tf,how='outer',on='index')[['zone_id','date_period']]"
      ],
      "execution_count": 0,
      "outputs": []
    },
    {
      "cell_type": "markdown",
      "metadata": {
        "id": "ftaNkdYOcwxN",
        "colab_type": "text"
      },
      "source": [
        "Now preparing the scores, by setting scores by the hour for each user"
      ]
    },
    {
      "cell_type": "code",
      "metadata": {
        "id": "LnOv-vw4c6Si",
        "colab_type": "code",
        "colab": {}
      },
      "source": [
        "from datetime import datetime\n",
        "def get_hour_precision(x):\n",
        "  x['date_period'] = x['datetime'].split(':')[0] + \":00:00\"#.timestamp()#.round('60min')\n",
        "  return x"
      ],
      "execution_count": 0,
      "outputs": []
    },
    {
      "cell_type": "code",
      "metadata": {
        "id": "DtxvKp4Ed3yt",
        "colab_type": "code",
        "colab": {}
      },
      "source": [
        "zone_temp_tdf = scores_tdf.apply(get_hour_precision,axis=1)[['uid','zone_id','date_period','scores','infected','potentially_infected']]"
      ],
      "execution_count": 0,
      "outputs": []
    },
    {
      "cell_type": "code",
      "metadata": {
        "id": "bdkktfRpeGMR",
        "colab_type": "code",
        "colab": {
          "base_uri": "https://localhost:8080/",
          "height": 34
        },
        "outputId": "50871d61-69fc-4047-e5a6-11e7047985ca"
      },
      "source": [
        "zone_temp_tdf.shape"
      ],
      "execution_count": 157,
      "outputs": [
        {
          "output_type": "execute_result",
          "data": {
            "text/plain": [
              "(14171, 6)"
            ]
          },
          "metadata": {
            "tags": []
          },
          "execution_count": 157
        }
      ]
    },
    {
      "cell_type": "code",
      "metadata": {
        "id": "OdbhyAGgedJ1",
        "colab_type": "code",
        "colab": {}
      },
      "source": [
        "# Aggregating results of infected, risky and non risky people for each (zone,date) couple\n",
        "zone_temp_tdf['zone_temp_score'] = zone_temp_tdf.groupby(['zone_id','date_period','infected','potentially_infected'])['scores'].transform(sum)\n",
        "zone_temp_tdf = zone_temp_tdf[['zone_id','date_period','infected','potentially_infected','zone_temp_score']]\n",
        "zone_temp_tdf = zone_temp_tdf.drop_duplicates().reset_index()[['zone_id','date_period','infected','potentially_infected','zone_temp_score']]"
      ],
      "execution_count": 0,
      "outputs": []
    },
    {
      "cell_type": "code",
      "metadata": {
        "id": "LGSsQJzh_XVd",
        "colab_type": "code",
        "colab": {}
      },
      "source": [
        "# Helper function for infected and rusky people coeficients\n",
        "infected_coef = 1 \n",
        "risky_coef = .7\n",
        "def coef_scores(x):\n",
        "  x['score_coef'] = 0 \n",
        "  if x['infected'] == True :\n",
        "    x['score_coef'] = x['zone_temp_score'] * infected_coef\n",
        "  elif x['potentially_infected'] == True :\n",
        "    x['score_coef'] = x['zone_temp_score'] * risky_coef \n",
        "  return x "
      ],
      "execution_count": 0,
      "outputs": []
    },
    {
      "cell_type": "code",
      "metadata": {
        "id": "Mij99sVFxAk2",
        "colab_type": "code",
        "colab": {}
      },
      "source": [
        "zone_temp_tdf = zone_temp_tdf.apply(coef_scores,axis=1)[['zone_id','date_period','score_coef']]"
      ],
      "execution_count": 0,
      "outputs": []
    },
    {
      "cell_type": "code",
      "metadata": {
        "id": "p5k7lzGjyXAF",
        "colab_type": "code",
        "colab": {}
      },
      "source": [
        "zone_temp_tdf['zone_score'] = zone_temp_tdf.groupby(['zone_id','date_period'])['score_coef'].transform(sum)"
      ],
      "execution_count": 0,
      "outputs": []
    },
    {
      "cell_type": "code",
      "metadata": {
        "id": "XQ6MggWQCmLP",
        "colab_type": "code",
        "colab": {}
      },
      "source": [
        "zone_temp_tdf = zone_temp_tdf[['zone_id','date_period','zone_score']]\n",
        "zone_temp_tdf = zone_temp_tdf.drop_duplicates()"
      ],
      "execution_count": 0,
      "outputs": []
    },
    {
      "cell_type": "code",
      "metadata": {
        "id": "u5SvGl1qDZF_",
        "colab_type": "code",
        "colab": {}
      },
      "source": [
        "zone_tf['date_period'] = zone_tf['date_period'].apply(str)"
      ],
      "execution_count": 0,
      "outputs": []
    },
    {
      "cell_type": "code",
      "metadata": {
        "id": "vSyEbTpiDq-i",
        "colab_type": "code",
        "colab": {}
      },
      "source": [
        "zone_scores = zone_tf.merge(zone_temp_tdf,how='left',on=['zone_id','date_period']).fillna(0)"
      ],
      "execution_count": 0,
      "outputs": []
    },
    {
      "cell_type": "code",
      "metadata": {
        "id": "-VI2uQvtE_Yb",
        "colab_type": "code",
        "colab": {
          "base_uri": "https://localhost:8080/",
          "height": 34
        },
        "outputId": "66438925-9864-4871-efa8-3051a6865fa6"
      },
      "source": [
        "zone_scores[zone_scores['zone_score'] != 0].shape"
      ],
      "execution_count": 183,
      "outputs": [
        {
          "output_type": "execute_result",
          "data": {
            "text/plain": [
              "(1419, 3)"
            ]
          },
          "metadata": {
            "tags": []
          },
          "execution_count": 183
        }
      ]
    },
    {
      "cell_type": "code",
      "metadata": {
        "id": "-kZ-OyTAH22W",
        "colab_type": "code",
        "colab": {}
      },
      "source": [
        "zone_scores.to_csv('zone_scores.csv')"
      ],
      "execution_count": 0,
      "outputs": []
    },
    {
      "cell_type": "code",
      "metadata": {
        "id": "AeilDvcQIdRn",
        "colab_type": "code",
        "colab": {}
      },
      "source": [
        ""
      ],
      "execution_count": 0,
      "outputs": []
    }
  ]
}
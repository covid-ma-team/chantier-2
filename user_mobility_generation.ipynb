{
  "nbformat": 4,
  "nbformat_minor": 0,
  "metadata": {
    "colab": {
      "name": "data generation.ipynb",
      "provenance": [],
      "collapsed_sections": []
    },
    "kernelspec": {
      "name": "python3",
      "display_name": "Python 3"
    }
  },
  "cells": [
    {
      "cell_type": "markdown",
      "metadata": {
        "id": "DX0K9yxCzEWP",
        "colab_type": "text"
      },
      "source": [
        "# Installation :\n"
      ]
    },
    {
      "cell_type": "code",
      "metadata": {
        "id": "26Qj8qRMzISi",
        "colab_type": "code",
        "colab": {}
      },
      "source": [
        "!git clone https://github.com/scikit-mobility/scikit-mobility.git\n",
        "!cd scikit-mobility && python3 setup.py install\n",
        "!pip3 install scikit-mobility\n",
        "!git clone https://github.com/IhabBendidi/morocco.geojson.git"
      ],
      "execution_count": 0,
      "outputs": []
    },
    {
      "cell_type": "markdown",
      "metadata": {
        "id": "i0kHWiPrzQiz",
        "colab_type": "text"
      },
      "source": [
        "Be sure to restart the runtime afterward (on google colab) so that the installation really take place."
      ]
    },
    {
      "cell_type": "code",
      "metadata": {
        "id": "XgsL4WlUzXkC",
        "colab_type": "code",
        "colab": {}
      },
      "source": [
        "import geopandas as gpd  \n",
        "import pandas as pd\n",
        "import skmob\n",
        "from skmob.models.epr import DensityEPR\n",
        "from skmob.models.epr import Ditras\n",
        "from skmob.models.markov_diary_generator import MarkovDiaryGenerator\n",
        "from skmob.preprocessing import filtering, compression, detection, clustering"
      ],
      "execution_count": 0,
      "outputs": []
    },
    {
      "cell_type": "markdown",
      "metadata": {
        "id": "z1B12xLU1KXC",
        "colab_type": "text"
      },
      "source": [
        "Setting up the start time of the simulation, between 1/1/2019 and 15/1/2019"
      ]
    },
    {
      "cell_type": "code",
      "metadata": {
        "id": "1NKOs7WW9HAL",
        "colab_type": "code",
        "colab": {}
      },
      "source": [
        "# Helper function for protecting against duplicates ids\n",
        "def change_uid(x,l):\n",
        "  x = str(x) + l\n",
        "  return x"
      ],
      "execution_count": 0,
      "outputs": []
    },
    {
      "cell_type": "code",
      "metadata": {
        "id": "vUpT5nIg0e7N",
        "colab_type": "code",
        "colab": {}
      },
      "source": [
        "# starting and end times of the simulation\n",
        "start_time = pd.to_datetime('2019/01/01 08:00:00')\n",
        "end_time = pd.to_datetime('2019/01/15 08:00:00')"
      ],
      "execution_count": 0,
      "outputs": []
    },
    {
      "cell_type": "markdown",
      "metadata": {
        "id": "s6Fw4HXx1tss",
        "colab_type": "text"
      },
      "source": [
        "### Irfane simulation"
      ]
    },
    {
      "cell_type": "code",
      "metadata": {
        "id": "5S7lkCUg1QyP",
        "colab_type": "code",
        "colab": {}
      },
      "source": [
        "# Getting irfane data (rabat)\n",
        "irfane_tessellation = gpd.read_file('morocco.geojson/irfane.geojson')\n",
        "depr = DensityEPR()\n",
        "#generating and filtering data to make it as close to real as possible\n",
        "density_tdf = depr.generate(start_time, end_time, irfane_tessellation, relevance_column='population', n_agents=120)\n",
        "density_tdf = filtering.filter(density_tdf, max_speed_kmh=5.)\n",
        "density_tdf = detection.stops(density_tdf, stop_radius_factor=0.5, minutes_for_a_stop=50.0, spatial_radius_km=0.3, leaving_time=False)"
      ],
      "execution_count": 0,
      "outputs": []
    },
    {
      "cell_type": "code",
      "metadata": {
        "id": "0QFFJIzV2iBk",
        "colab_type": "code",
        "colab": {}
      },
      "source": [
        "# changing ids of citizens to not have duplicated later on\n",
        "density_tdf[\"uid\"] = density_tdf[\"uid\"].apply(change_uid,args=[\"a\"])"
      ],
      "execution_count": 0,
      "outputs": []
    },
    {
      "cell_type": "markdown",
      "metadata": {
        "id": "ZietiDS89ZaV",
        "colab_type": "text"
      },
      "source": [
        "We will now generate habits of agents, through the markov diary generator, for Al Irfane"
      ]
    },
    {
      "cell_type": "code",
      "metadata": {
        "id": "86y_IPuK8Ch5",
        "colab_type": "code",
        "colab": {}
      },
      "source": [
        "# load and preprocess data to train the MarkovDiaryGenerator\n",
        "url = 'https://raw.githubusercontent.com/scikit-mobility/scikit-mobility/master/tutorial/data/geolife_sample.txt.gz'\n",
        "df = pd.read_csv(url, sep=',', compression='gzip')\n",
        "tdf = skmob.TrajDataFrame(df, latitude='lat', longitude='lon', user_id='user', datetime='datetime')\n",
        "#ctdf = compression.compress(tdf)\n",
        "stdf = detection.stops(tdf,stop_radius_factor=0.5, minutes_for_a_stop=50.0, spatial_radius_km=0.3, leaving_time=False)\n",
        "markov_tdf = clustering.cluster(stdf)"
      ],
      "execution_count": 0,
      "outputs": []
    },
    {
      "cell_type": "code",
      "metadata": {
        "id": "JldPEamg-2tC",
        "colab_type": "code",
        "colab": {}
      },
      "source": [
        "# instantiate and train the MarkovDiaryGenerator\n",
        "mdg = MarkovDiaryGenerator()\n",
        "mdg.fit(markov_tdf, 2, lid='cluster')"
      ],
      "execution_count": 0,
      "outputs": []
    },
    {
      "cell_type": "code",
      "metadata": {
        "id": "YdQEAzKS-92t",
        "colab_type": "code",
        "colab": {}
      },
      "source": [
        "# instantiate the model\n",
        "ditras = Ditras(mdg)\n",
        "# run the model\n",
        "ditras_tdf = ditras.generate(start_time, end_time, irfane_tessellation, relevance_column='population',\n",
        "                    n_agents=150, od_matrix=None, show_progress=True)"
      ],
      "execution_count": 0,
      "outputs": []
    },
    {
      "cell_type": "code",
      "metadata": {
        "id": "dm9Mr7yB_WRS",
        "colab_type": "code",
        "colab": {}
      },
      "source": [
        "# changing ids of citizens to not have duplicated later on\n",
        "ditras_tdf[\"uid\"] = ditras_tdf[\"uid\"].apply(change_uid,args=[\"b\"])"
      ],
      "execution_count": 0,
      "outputs": []
    },
    {
      "cell_type": "code",
      "metadata": {
        "id": "nYH5fpC6_hjF",
        "colab_type": "code",
        "colab": {}
      },
      "source": [
        "irfan_tdf = pd.concat([ditras_tdf,density_tdf],ignore_index=True)"
      ],
      "execution_count": 0,
      "outputs": []
    },
    {
      "cell_type": "code",
      "metadata": {
        "id": "a4kobJLjAzZ7",
        "colab_type": "code",
        "colab": {}
      },
      "source": [
        "irfan_tdf.to_csv(\"irfan_mobility.csv\")"
      ],
      "execution_count": 0,
      "outputs": []
    },
    {
      "cell_type": "markdown",
      "metadata": {
        "id": "NacCt8T4aL3O",
        "colab_type": "text"
      },
      "source": [
        "### Agdal Simulation"
      ]
    },
    {
      "cell_type": "code",
      "metadata": {
        "id": "0Mzq85DaV98k",
        "colab_type": "code",
        "colab": {}
      },
      "source": [
        "# Getting Agdal data (rabat)\n",
        "agdal_tessellation = gpd.read_file('morocco.geojson/agdal.geojson')\n",
        "depr = DensityEPR()\n",
        "#generating and filtering data to make it as close to real as possible\n",
        "density_tdf = depr.generate(start_time, end_time, agdal_tessellation, relevance_column='population', n_agents=120)\n",
        "density_tdf = filtering.filter(density_tdf, max_speed_kmh=5.)\n",
        "density_tdf = detection.stops(density_tdf, stop_radius_factor=0.5, minutes_for_a_stop=50.0, spatial_radius_km=0.3, leaving_time=False)"
      ],
      "execution_count": 0,
      "outputs": []
    },
    {
      "cell_type": "code",
      "metadata": {
        "id": "2FYEWtl8aQ6E",
        "colab_type": "code",
        "colab": {}
      },
      "source": [
        "# changing ids of citizens to not have duplicated later on\n",
        "density_tdf[\"uid\"] = density_tdf[\"uid\"].apply(change_uid,args=[\"c\"])"
      ],
      "execution_count": 0,
      "outputs": []
    },
    {
      "cell_type": "code",
      "metadata": {
        "id": "xjmGijqEbFLL",
        "colab_type": "code",
        "colab": {}
      },
      "source": [
        "# load and preprocess data to train the MarkovDiaryGenerator\n",
        "url = 'https://raw.githubusercontent.com/scikit-mobility/scikit-mobility/master/tutorial/data/geolife_sample.txt.gz'\n",
        "df = pd.read_csv(url, sep=',', compression='gzip')\n",
        "tdf = skmob.TrajDataFrame(df, latitude='lat', longitude='lon', user_id='user', datetime='datetime')\n",
        "#ctdf = compression.compress(tdf)\n",
        "stdf = detection.stops(tdf,stop_radius_factor=0.5, minutes_for_a_stop=50.0, spatial_radius_km=0.3, leaving_time=False)\n",
        "markov_tdf = clustering.cluster(stdf)\n",
        "# instantiate and train the MarkovDiaryGenerator\n",
        "mdg = MarkovDiaryGenerator()\n",
        "mdg.fit(markov_tdf, 2, lid='cluster')"
      ],
      "execution_count": 0,
      "outputs": []
    },
    {
      "cell_type": "code",
      "metadata": {
        "id": "ka8avpAwbP40",
        "colab_type": "code",
        "colab": {}
      },
      "source": [
        "# instantiate the model\n",
        "ditras = Ditras(mdg)\n",
        "# run the model\n",
        "ditras_tdf = ditras.generate(start_time, end_time, agdal_tessellation, relevance_column='population',\n",
        "                    n_agents=150, od_matrix=None, show_progress=True)"
      ],
      "execution_count": 0,
      "outputs": []
    },
    {
      "cell_type": "code",
      "metadata": {
        "id": "PCp2JthTbV-T",
        "colab_type": "code",
        "colab": {}
      },
      "source": [
        "# changing ids of citizens to not have duplicated later on\n",
        "ditras_tdf[\"uid\"] = ditras_tdf[\"uid\"].apply(change_uid,args=[\"d\"])"
      ],
      "execution_count": 0,
      "outputs": []
    },
    {
      "cell_type": "code",
      "metadata": {
        "id": "bMY-2VFpbbMe",
        "colab_type": "code",
        "colab": {}
      },
      "source": [
        "agdal_tdf = pd.concat([ditras_tdf,density_tdf],ignore_index=True)"
      ],
      "execution_count": 0,
      "outputs": []
    },
    {
      "cell_type": "code",
      "metadata": {
        "id": "BdywxAAybgUz",
        "colab_type": "code",
        "colab": {}
      },
      "source": [
        "agdal_tdf.to_csv(\"agdal_mobility.csv\")"
      ],
      "execution_count": 0,
      "outputs": []
    },
    {
      "cell_type": "markdown",
      "metadata": {
        "id": "r8stUvf_c6Y1",
        "colab_type": "text"
      },
      "source": [
        "### Aggregate results"
      ]
    },
    {
      "cell_type": "code",
      "metadata": {
        "id": "ppbtxRRRb103",
        "colab_type": "code",
        "colab": {}
      },
      "source": [
        "# Getting Agdal data (rabat)\n",
        "dual_tessellation = gpd.read_file('morocco.geojson/agdal_irfane.geojson')\n",
        "depr = DensityEPR()\n",
        "#generating and filtering data to make it as close to real as possible\n",
        "density_tdf = depr.generate(start_time, end_time, dual_tessellation, relevance_column='population', n_agents=120)\n",
        "density_tdf = filtering.filter(density_tdf, max_speed_kmh=5.)\n",
        "density_tdf = detection.stops(density_tdf, stop_radius_factor=0.5, minutes_for_a_stop=50.0, spatial_radius_km=0.3, leaving_time=False)"
      ],
      "execution_count": 0,
      "outputs": []
    },
    {
      "cell_type": "code",
      "metadata": {
        "id": "FL2S9KRPc3mQ",
        "colab_type": "code",
        "colab": {}
      },
      "source": [
        "# changing ids of citizens to not have duplicated later on\n",
        "density_tdf[\"uid\"] = density_tdf[\"uid\"].apply(change_uid,args=[\"e\"])"
      ],
      "execution_count": 0,
      "outputs": []
    },
    {
      "cell_type": "code",
      "metadata": {
        "id": "OonFSChndUPy",
        "colab_type": "code",
        "colab": {}
      },
      "source": [
        "# load and preprocess data to train the MarkovDiaryGenerator\n",
        "url = 'https://raw.githubusercontent.com/scikit-mobility/scikit-mobility/master/tutorial/data/geolife_sample.txt.gz'\n",
        "df = pd.read_csv(url, sep=',', compression='gzip')\n",
        "tdf = skmob.TrajDataFrame(df, latitude='lat', longitude='lon', user_id='user', datetime='datetime')\n",
        "#ctdf = compression.compress(tdf)\n",
        "stdf = detection.stops(tdf,stop_radius_factor=0.5, minutes_for_a_stop=50.0, spatial_radius_km=0.3, leaving_time=False)\n",
        "markov_tdf = clustering.cluster(stdf)\n",
        "# instantiate and train the MarkovDiaryGenerator\n",
        "mdg = MarkovDiaryGenerator()\n",
        "mdg.fit(markov_tdf, 2, lid='cluster')"
      ],
      "execution_count": 0,
      "outputs": []
    },
    {
      "cell_type": "code",
      "metadata": {
        "id": "elNOaS3WdZMX",
        "colab_type": "code",
        "colab": {}
      },
      "source": [
        "# instantiate the model\n",
        "ditras = Ditras(mdg)\n",
        "# run the model\n",
        "ditras_tdf = ditras.generate(start_time, end_time, dual_tessellation, relevance_column='population',\n",
        "                    n_agents=150, od_matrix=None, show_progress=True)"
      ],
      "execution_count": 0,
      "outputs": []
    },
    {
      "cell_type": "code",
      "metadata": {
        "id": "8kmGmAvWdbvS",
        "colab_type": "code",
        "colab": {}
      },
      "source": [
        "# changing ids of citizens to not have duplicated later on\n",
        "ditras_tdf[\"uid\"] = ditras_tdf[\"uid\"].apply(change_uid,args=[\"f\"])"
      ],
      "execution_count": 0,
      "outputs": []
    },
    {
      "cell_type": "code",
      "metadata": {
        "id": "6oT6RkSodeW2",
        "colab_type": "code",
        "colab": {}
      },
      "source": [
        "dual_tdf = pd.concat([ditras_tdf,density_tdf],ignore_index=True)"
      ],
      "execution_count": 0,
      "outputs": []
    },
    {
      "cell_type": "code",
      "metadata": {
        "id": "iEMqSJ1idjEW",
        "colab_type": "code",
        "colab": {}
      },
      "source": [
        "simulation_tdf = pd.concat([agdal_tdf,irfan_tdf,dual_tdf],ignore_index=True)"
      ],
      "execution_count": 0,
      "outputs": []
    },
    {
      "cell_type": "code",
      "metadata": {
        "id": "6y_dvOYKeEw_",
        "colab_type": "code",
        "colab": {}
      },
      "source": [
        "simulation_tdf.to_csv('simulation_data.csv')"
      ],
      "execution_count": 0,
      "outputs": []
    },
    {
      "cell_type": "markdown",
      "metadata": {
        "id": "OXmMoAQ4JuDT",
        "colab_type": "text"
      },
      "source": [
        "# Data cleaning and preparation"
      ]
    },
    {
      "cell_type": "code",
      "metadata": {
        "id": "9J7ZjaWCJjPp",
        "colab_type": "code",
        "colab": {}
      },
      "source": [
        "import pandas as pd\n",
        "simulation_tdf = pd.read_csv('simulation_data.csv')"
      ],
      "execution_count": 0,
      "outputs": []
    },
    {
      "cell_type": "code",
      "metadata": {
        "id": "9dJ-iXjnmae3",
        "colab_type": "code",
        "colab": {}
      },
      "source": [
        "import json\n",
        "from shapely.geometry import shape, Point"
      ],
      "execution_count": 0,
      "outputs": []
    },
    {
      "cell_type": "code",
      "metadata": {
        "id": "_n-9uJPumhVI",
        "colab_type": "code",
        "colab": {}
      },
      "source": [
        "# load GeoJSON file containing sectors\n",
        "with open('morocco.geojson/agdal_irfane.geojson', 'r') as f:\n",
        "  js = json.load(f)"
      ],
      "execution_count": 0,
      "outputs": []
    },
    {
      "cell_type": "code",
      "metadata": {
        "id": "S9JBueix1hIR",
        "colab_type": "code",
        "colab": {}
      },
      "source": [
        "def get_zone_id(x):\n",
        "  point = Point( x[\"lng\"],x[\"lat\"])\n",
        "  zone_id = \"\"\n",
        "  for feature in js['features']:\n",
        "    polygon = shape(feature['geometry'])\n",
        "    if polygon.contains(point):\n",
        "      zone_id = feature['properties']['id']\n",
        "  x['zone_id'] = zone_id\n",
        "  return x"
      ],
      "execution_count": 0,
      "outputs": []
    },
    {
      "cell_type": "code",
      "metadata": {
        "id": "v7dtWR87Ak3X",
        "colab_type": "code",
        "colab": {}
      },
      "source": [
        "# Adding the ids of the zones \n",
        "simulation_tdf = simulation_tdf.apply(get_zone_id,axis=1)\n",
        "\n",
        "# Filtering zones without a registered zone id\n",
        "simulation_tdf = simulation_tdf[simulation_tdf['zone_id'] != \"\"][[\"uid\",\"datetime\",\"lat\",\"lng\",\"zone_id\"]]"
      ],
      "execution_count": 0,
      "outputs": []
    },
    {
      "cell_type": "code",
      "metadata": {
        "id": "OD2HgA_jBpFX",
        "colab_type": "code",
        "colab": {
          "base_uri": "https://localhost:8080/",
          "height": 1000
        },
        "outputId": "fe530ad4-138d-4bfe-a4b4-fc1995e710bd"
      },
      "source": [
        "simulation_tdf"
      ],
      "execution_count": 76,
      "outputs": [
        {
          "output_type": "execute_result",
          "data": {
            "text/html": [
              "<div>\n",
              "<style scoped>\n",
              "    .dataframe tbody tr th:only-of-type {\n",
              "        vertical-align: middle;\n",
              "    }\n",
              "\n",
              "    .dataframe tbody tr th {\n",
              "        vertical-align: top;\n",
              "    }\n",
              "\n",
              "    .dataframe thead th {\n",
              "        text-align: right;\n",
              "    }\n",
              "</style>\n",
              "<table border=\"1\" class=\"dataframe\">\n",
              "  <thead>\n",
              "    <tr style=\"text-align: right;\">\n",
              "      <th></th>\n",
              "      <th>uid</th>\n",
              "      <th>datetime</th>\n",
              "      <th>lat</th>\n",
              "      <th>lng</th>\n",
              "      <th>zone_id</th>\n",
              "    </tr>\n",
              "  </thead>\n",
              "  <tbody>\n",
              "    <tr>\n",
              "      <th>0</th>\n",
              "      <td>1d</td>\n",
              "      <td>2019-01-01 08:00:00.000000</td>\n",
              "      <td>33.992823</td>\n",
              "      <td>-6.857832</td>\n",
              "      <td>lot 3</td>\n",
              "    </tr>\n",
              "    <tr>\n",
              "      <th>1</th>\n",
              "      <td>1d</td>\n",
              "      <td>2019-01-01 11:00:00.000000</td>\n",
              "      <td>34.000416</td>\n",
              "      <td>-6.857033</td>\n",
              "      <td>Gare</td>\n",
              "    </tr>\n",
              "    <tr>\n",
              "      <th>2</th>\n",
              "      <td>1d</td>\n",
              "      <td>2019-01-01 17:00:00.000000</td>\n",
              "      <td>34.000032</td>\n",
              "      <td>-6.854877</td>\n",
              "      <td>ENIM</td>\n",
              "    </tr>\n",
              "    <tr>\n",
              "      <th>3</th>\n",
              "      <td>1d</td>\n",
              "      <td>2019-01-01 18:00:00.000000</td>\n",
              "      <td>33.992823</td>\n",
              "      <td>-6.857832</td>\n",
              "      <td>lot 3</td>\n",
              "    </tr>\n",
              "    <tr>\n",
              "      <th>4</th>\n",
              "      <td>1d</td>\n",
              "      <td>2019-01-02 12:00:00.000000</td>\n",
              "      <td>34.000416</td>\n",
              "      <td>-6.857033</td>\n",
              "      <td>Gare</td>\n",
              "    </tr>\n",
              "    <tr>\n",
              "      <th>5</th>\n",
              "      <td>1d</td>\n",
              "      <td>2019-01-03 09:00:00.000000</td>\n",
              "      <td>33.992823</td>\n",
              "      <td>-6.857832</td>\n",
              "      <td>lot 3</td>\n",
              "    </tr>\n",
              "    <tr>\n",
              "      <th>6</th>\n",
              "      <td>1d</td>\n",
              "      <td>2019-01-03 18:00:00.000000</td>\n",
              "      <td>34.000032</td>\n",
              "      <td>-6.854877</td>\n",
              "      <td>ENIM</td>\n",
              "    </tr>\n",
              "    <tr>\n",
              "      <th>7</th>\n",
              "      <td>1d</td>\n",
              "      <td>2019-01-03 23:00:00.000000</td>\n",
              "      <td>33.992823</td>\n",
              "      <td>-6.857832</td>\n",
              "      <td>lot 3</td>\n",
              "    </tr>\n",
              "    <tr>\n",
              "      <th>8</th>\n",
              "      <td>1d</td>\n",
              "      <td>2019-01-04 15:00:00.000000</td>\n",
              "      <td>34.000032</td>\n",
              "      <td>-6.854877</td>\n",
              "      <td>ENIM</td>\n",
              "    </tr>\n",
              "    <tr>\n",
              "      <th>9</th>\n",
              "      <td>1d</td>\n",
              "      <td>2019-01-04 18:00:00.000000</td>\n",
              "      <td>33.992823</td>\n",
              "      <td>-6.857832</td>\n",
              "      <td>lot 3</td>\n",
              "    </tr>\n",
              "    <tr>\n",
              "      <th>10</th>\n",
              "      <td>1d</td>\n",
              "      <td>2019-01-04 19:00:00.000000</td>\n",
              "      <td>33.992823</td>\n",
              "      <td>-6.857832</td>\n",
              "      <td>lot 3</td>\n",
              "    </tr>\n",
              "    <tr>\n",
              "      <th>11</th>\n",
              "      <td>1d</td>\n",
              "      <td>2019-01-05 20:00:00.000000</td>\n",
              "      <td>34.000032</td>\n",
              "      <td>-6.854877</td>\n",
              "      <td>ENIM</td>\n",
              "    </tr>\n",
              "    <tr>\n",
              "      <th>12</th>\n",
              "      <td>1d</td>\n",
              "      <td>2019-01-06 06:00:00.000000</td>\n",
              "      <td>33.992823</td>\n",
              "      <td>-6.857832</td>\n",
              "      <td>lot 3</td>\n",
              "    </tr>\n",
              "    <tr>\n",
              "      <th>13</th>\n",
              "      <td>1d</td>\n",
              "      <td>2019-01-06 22:00:00.000000</td>\n",
              "      <td>34.000032</td>\n",
              "      <td>-6.854877</td>\n",
              "      <td>ENIM</td>\n",
              "    </tr>\n",
              "    <tr>\n",
              "      <th>14</th>\n",
              "      <td>1d</td>\n",
              "      <td>2019-01-07 08:00:00.000000</td>\n",
              "      <td>33.992823</td>\n",
              "      <td>-6.857832</td>\n",
              "      <td>lot 3</td>\n",
              "    </tr>\n",
              "    <tr>\n",
              "      <th>15</th>\n",
              "      <td>1d</td>\n",
              "      <td>2019-01-07 11:00:00.000000</td>\n",
              "      <td>34.000416</td>\n",
              "      <td>-6.857033</td>\n",
              "      <td>Gare</td>\n",
              "    </tr>\n",
              "    <tr>\n",
              "      <th>16</th>\n",
              "      <td>1d</td>\n",
              "      <td>2019-01-07 16:00:00.000000</td>\n",
              "      <td>33.992823</td>\n",
              "      <td>-6.857832</td>\n",
              "      <td>lot 3</td>\n",
              "    </tr>\n",
              "    <tr>\n",
              "      <th>17</th>\n",
              "      <td>1d</td>\n",
              "      <td>2019-01-07 20:00:00.000000</td>\n",
              "      <td>34.000416</td>\n",
              "      <td>-6.857033</td>\n",
              "      <td>Gare</td>\n",
              "    </tr>\n",
              "    <tr>\n",
              "      <th>18</th>\n",
              "      <td>1d</td>\n",
              "      <td>2019-01-08 08:00:00.000000</td>\n",
              "      <td>33.992823</td>\n",
              "      <td>-6.857832</td>\n",
              "      <td>lot 3</td>\n",
              "    </tr>\n",
              "    <tr>\n",
              "      <th>19</th>\n",
              "      <td>1d</td>\n",
              "      <td>2019-01-10 18:00:00.000000</td>\n",
              "      <td>34.002296</td>\n",
              "      <td>-6.852955</td>\n",
              "      <td>Carrefour</td>\n",
              "    </tr>\n",
              "    <tr>\n",
              "      <th>20</th>\n",
              "      <td>1d</td>\n",
              "      <td>2019-01-10 20:00:00.000000</td>\n",
              "      <td>33.992823</td>\n",
              "      <td>-6.857832</td>\n",
              "      <td>lot 3</td>\n",
              "    </tr>\n",
              "    <tr>\n",
              "      <th>21</th>\n",
              "      <td>1d</td>\n",
              "      <td>2019-01-10 21:00:00.000000</td>\n",
              "      <td>34.000032</td>\n",
              "      <td>-6.854877</td>\n",
              "      <td>ENIM</td>\n",
              "    </tr>\n",
              "    <tr>\n",
              "      <th>22</th>\n",
              "      <td>1d</td>\n",
              "      <td>2019-01-11 08:00:00.000000</td>\n",
              "      <td>33.992823</td>\n",
              "      <td>-6.857832</td>\n",
              "      <td>lot 3</td>\n",
              "    </tr>\n",
              "    <tr>\n",
              "      <th>23</th>\n",
              "      <td>1d</td>\n",
              "      <td>2019-01-11 22:00:00.000000</td>\n",
              "      <td>34.000416</td>\n",
              "      <td>-6.857033</td>\n",
              "      <td>Gare</td>\n",
              "    </tr>\n",
              "    <tr>\n",
              "      <th>24</th>\n",
              "      <td>1d</td>\n",
              "      <td>2019-01-12 08:00:00.000000</td>\n",
              "      <td>33.992823</td>\n",
              "      <td>-6.857832</td>\n",
              "      <td>lot 3</td>\n",
              "    </tr>\n",
              "    <tr>\n",
              "      <th>25</th>\n",
              "      <td>1d</td>\n",
              "      <td>2019-01-12 19:00:00.000000</td>\n",
              "      <td>34.000032</td>\n",
              "      <td>-6.854877</td>\n",
              "      <td>ENIM</td>\n",
              "    </tr>\n",
              "    <tr>\n",
              "      <th>26</th>\n",
              "      <td>1d</td>\n",
              "      <td>2019-01-13 08:00:00.000000</td>\n",
              "      <td>33.992823</td>\n",
              "      <td>-6.857832</td>\n",
              "      <td>lot 3</td>\n",
              "    </tr>\n",
              "    <tr>\n",
              "      <th>27</th>\n",
              "      <td>1d</td>\n",
              "      <td>2019-01-13 11:00:00.000000</td>\n",
              "      <td>34.000416</td>\n",
              "      <td>-6.857033</td>\n",
              "      <td>Gare</td>\n",
              "    </tr>\n",
              "    <tr>\n",
              "      <th>28</th>\n",
              "      <td>1d</td>\n",
              "      <td>2019-01-13 16:00:00.000000</td>\n",
              "      <td>33.992823</td>\n",
              "      <td>-6.857832</td>\n",
              "      <td>lot 3</td>\n",
              "    </tr>\n",
              "    <tr>\n",
              "      <th>29</th>\n",
              "      <td>1d</td>\n",
              "      <td>2019-01-13 20:00:00.000000</td>\n",
              "      <td>34.000032</td>\n",
              "      <td>-6.854877</td>\n",
              "      <td>ENIM</td>\n",
              "    </tr>\n",
              "    <tr>\n",
              "      <th>...</th>\n",
              "      <td>...</td>\n",
              "      <td>...</td>\n",
              "      <td>...</td>\n",
              "      <td>...</td>\n",
              "      <td>...</td>\n",
              "    </tr>\n",
              "    <tr>\n",
              "      <th>47571</th>\n",
              "      <td>120e</td>\n",
              "      <td>2019-01-09 15:45:23.708889</td>\n",
              "      <td>33.977269</td>\n",
              "      <td>-6.869838</td>\n",
              "      <td>hopital cheikh zaid</td>\n",
              "    </tr>\n",
              "    <tr>\n",
              "      <th>47572</th>\n",
              "      <td>120e</td>\n",
              "      <td>2019-01-09 18:19:05.876499</td>\n",
              "      <td>33.976232</td>\n",
              "      <td>-6.865290</td>\n",
              "      <td>IAV</td>\n",
              "    </tr>\n",
              "    <tr>\n",
              "      <th>47573</th>\n",
              "      <td>120e</td>\n",
              "      <td>2019-01-09 19:24:59.497238</td>\n",
              "      <td>33.980495</td>\n",
              "      <td>-6.870386</td>\n",
              "      <td>faculté de médecine</td>\n",
              "    </tr>\n",
              "    <tr>\n",
              "      <th>47574</th>\n",
              "      <td>120e</td>\n",
              "      <td>2019-01-09 21:04:55.716454</td>\n",
              "      <td>33.984356</td>\n",
              "      <td>-6.860487</td>\n",
              "      <td>Faculté</td>\n",
              "    </tr>\n",
              "    <tr>\n",
              "      <th>47575</th>\n",
              "      <td>120e</td>\n",
              "      <td>2019-01-09 23:16:09.923812</td>\n",
              "      <td>33.987331</td>\n",
              "      <td>-6.861416</td>\n",
              "      <td>Ena</td>\n",
              "    </tr>\n",
              "    <tr>\n",
              "      <th>47576</th>\n",
              "      <td>120e</td>\n",
              "      <td>2019-01-10 09:49:05.171556</td>\n",
              "      <td>33.986424</td>\n",
              "      <td>-6.855036</td>\n",
              "      <td>hopital</td>\n",
              "    </tr>\n",
              "    <tr>\n",
              "      <th>47577</th>\n",
              "      <td>120e</td>\n",
              "      <td>2019-01-10 10:55:54.871910</td>\n",
              "      <td>33.987331</td>\n",
              "      <td>-6.861416</td>\n",
              "      <td>Ena</td>\n",
              "    </tr>\n",
              "    <tr>\n",
              "      <th>47578</th>\n",
              "      <td>120e</td>\n",
              "      <td>2019-01-10 16:21:51.255032</td>\n",
              "      <td>33.979150</td>\n",
              "      <td>-6.868057</td>\n",
              "      <td>INPT</td>\n",
              "    </tr>\n",
              "    <tr>\n",
              "      <th>47579</th>\n",
              "      <td>120e</td>\n",
              "      <td>2019-01-12 01:30:54.103651</td>\n",
              "      <td>33.977269</td>\n",
              "      <td>-6.869838</td>\n",
              "      <td>hopital cheikh zaid</td>\n",
              "    </tr>\n",
              "    <tr>\n",
              "      <th>47580</th>\n",
              "      <td>120e</td>\n",
              "      <td>2019-01-12 04:56:51.763751</td>\n",
              "      <td>33.987306</td>\n",
              "      <td>-6.864568</td>\n",
              "      <td>faculté economique et juridique</td>\n",
              "    </tr>\n",
              "    <tr>\n",
              "      <th>47581</th>\n",
              "      <td>120e</td>\n",
              "      <td>2019-01-12 08:59:05.246264</td>\n",
              "      <td>33.979150</td>\n",
              "      <td>-6.868057</td>\n",
              "      <td>INPT</td>\n",
              "    </tr>\n",
              "    <tr>\n",
              "      <th>47582</th>\n",
              "      <td>120e</td>\n",
              "      <td>2019-01-12 13:12:04.262825</td>\n",
              "      <td>33.969692</td>\n",
              "      <td>-6.870415</td>\n",
              "      <td>hopital militaire</td>\n",
              "    </tr>\n",
              "    <tr>\n",
              "      <th>47583</th>\n",
              "      <td>120e</td>\n",
              "      <td>2019-01-12 14:18:43.506696</td>\n",
              "      <td>33.965868</td>\n",
              "      <td>-6.871743</td>\n",
              "      <td>ministere d'interieur</td>\n",
              "    </tr>\n",
              "    <tr>\n",
              "      <th>47584</th>\n",
              "      <td>120e</td>\n",
              "      <td>2019-01-12 16:14:14.617485</td>\n",
              "      <td>33.980495</td>\n",
              "      <td>-6.870386</td>\n",
              "      <td>faculté de médecine</td>\n",
              "    </tr>\n",
              "    <tr>\n",
              "      <th>47585</th>\n",
              "      <td>120e</td>\n",
              "      <td>2019-01-12 20:46:29.644954</td>\n",
              "      <td>33.984127</td>\n",
              "      <td>-6.857048</td>\n",
              "      <td>faculté de médecine</td>\n",
              "    </tr>\n",
              "    <tr>\n",
              "      <th>47586</th>\n",
              "      <td>120e</td>\n",
              "      <td>2019-01-12 22:30:03.697958</td>\n",
              "      <td>33.976232</td>\n",
              "      <td>-6.865290</td>\n",
              "      <td>IAV</td>\n",
              "    </tr>\n",
              "    <tr>\n",
              "      <th>47587</th>\n",
              "      <td>120e</td>\n",
              "      <td>2019-01-13 06:54:36.500330</td>\n",
              "      <td>33.987306</td>\n",
              "      <td>-6.864568</td>\n",
              "      <td>faculté economique et juridique</td>\n",
              "    </tr>\n",
              "    <tr>\n",
              "      <th>47588</th>\n",
              "      <td>120e</td>\n",
              "      <td>2019-01-13 10:56:18.189854</td>\n",
              "      <td>33.984356</td>\n",
              "      <td>-6.860487</td>\n",
              "      <td>Faculté</td>\n",
              "    </tr>\n",
              "    <tr>\n",
              "      <th>47589</th>\n",
              "      <td>120e</td>\n",
              "      <td>2019-01-13 13:28:58.806120</td>\n",
              "      <td>33.979150</td>\n",
              "      <td>-6.868057</td>\n",
              "      <td>INPT</td>\n",
              "    </tr>\n",
              "    <tr>\n",
              "      <th>47590</th>\n",
              "      <td>120e</td>\n",
              "      <td>2019-01-13 14:45:31.361148</td>\n",
              "      <td>33.987306</td>\n",
              "      <td>-6.864568</td>\n",
              "      <td>faculté economique et juridique</td>\n",
              "    </tr>\n",
              "    <tr>\n",
              "      <th>47591</th>\n",
              "      <td>120e</td>\n",
              "      <td>2019-01-13 16:37:00.111137</td>\n",
              "      <td>33.986424</td>\n",
              "      <td>-6.855036</td>\n",
              "      <td>hopital</td>\n",
              "    </tr>\n",
              "    <tr>\n",
              "      <th>47592</th>\n",
              "      <td>120e</td>\n",
              "      <td>2019-01-13 21:29:38.897566</td>\n",
              "      <td>33.979150</td>\n",
              "      <td>-6.868057</td>\n",
              "      <td>INPT</td>\n",
              "    </tr>\n",
              "    <tr>\n",
              "      <th>47593</th>\n",
              "      <td>120e</td>\n",
              "      <td>2019-01-13 22:49:14.992289</td>\n",
              "      <td>33.980495</td>\n",
              "      <td>-6.870386</td>\n",
              "      <td>faculté de médecine</td>\n",
              "    </tr>\n",
              "    <tr>\n",
              "      <th>47594</th>\n",
              "      <td>120e</td>\n",
              "      <td>2019-01-13 23:53:23.026507</td>\n",
              "      <td>33.981652</td>\n",
              "      <td>-6.864643</td>\n",
              "      <td>campus irfane</td>\n",
              "    </tr>\n",
              "    <tr>\n",
              "      <th>47595</th>\n",
              "      <td>120e</td>\n",
              "      <td>2019-01-14 03:58:48.166461</td>\n",
              "      <td>33.981822</td>\n",
              "      <td>-6.862757</td>\n",
              "      <td>INSEA</td>\n",
              "    </tr>\n",
              "    <tr>\n",
              "      <th>47596</th>\n",
              "      <td>120e</td>\n",
              "      <td>2019-01-14 08:32:06.669830</td>\n",
              "      <td>33.984127</td>\n",
              "      <td>-6.857048</td>\n",
              "      <td>faculté de médecine</td>\n",
              "    </tr>\n",
              "    <tr>\n",
              "      <th>47597</th>\n",
              "      <td>120e</td>\n",
              "      <td>2019-01-14 14:05:14.217423</td>\n",
              "      <td>33.976232</td>\n",
              "      <td>-6.865290</td>\n",
              "      <td>IAV</td>\n",
              "    </tr>\n",
              "    <tr>\n",
              "      <th>47598</th>\n",
              "      <td>120e</td>\n",
              "      <td>2019-01-14 16:32:54.830973</td>\n",
              "      <td>33.981652</td>\n",
              "      <td>-6.864643</td>\n",
              "      <td>campus irfane</td>\n",
              "    </tr>\n",
              "    <tr>\n",
              "      <th>47599</th>\n",
              "      <td>120e</td>\n",
              "      <td>2019-01-14 22:29:30.524684</td>\n",
              "      <td>33.981673</td>\n",
              "      <td>-6.858889</td>\n",
              "      <td>CHU</td>\n",
              "    </tr>\n",
              "    <tr>\n",
              "      <th>47600</th>\n",
              "      <td>120e</td>\n",
              "      <td>2019-01-15 00:58:25.620648</td>\n",
              "      <td>33.981822</td>\n",
              "      <td>-6.862757</td>\n",
              "      <td>INSEA</td>\n",
              "    </tr>\n",
              "  </tbody>\n",
              "</table>\n",
              "<p>47601 rows × 5 columns</p>\n",
              "</div>"
            ],
            "text/plain": [
              "        uid  ...                          zone_id\n",
              "0        1d  ...                            lot 3\n",
              "1        1d  ...                             Gare\n",
              "2        1d  ...                             ENIM\n",
              "3        1d  ...                            lot 3\n",
              "4        1d  ...                             Gare\n",
              "5        1d  ...                            lot 3\n",
              "6        1d  ...                             ENIM\n",
              "7        1d  ...                            lot 3\n",
              "8        1d  ...                             ENIM\n",
              "9        1d  ...                            lot 3\n",
              "10       1d  ...                            lot 3\n",
              "11       1d  ...                             ENIM\n",
              "12       1d  ...                            lot 3\n",
              "13       1d  ...                             ENIM\n",
              "14       1d  ...                            lot 3\n",
              "15       1d  ...                             Gare\n",
              "16       1d  ...                            lot 3\n",
              "17       1d  ...                             Gare\n",
              "18       1d  ...                            lot 3\n",
              "19       1d  ...                        Carrefour\n",
              "20       1d  ...                            lot 3\n",
              "21       1d  ...                             ENIM\n",
              "22       1d  ...                            lot 3\n",
              "23       1d  ...                             Gare\n",
              "24       1d  ...                            lot 3\n",
              "25       1d  ...                             ENIM\n",
              "26       1d  ...                            lot 3\n",
              "27       1d  ...                             Gare\n",
              "28       1d  ...                            lot 3\n",
              "29       1d  ...                             ENIM\n",
              "...     ...  ...                              ...\n",
              "47571  120e  ...              hopital cheikh zaid\n",
              "47572  120e  ...                              IAV\n",
              "47573  120e  ...              faculté de médecine\n",
              "47574  120e  ...                          Faculté\n",
              "47575  120e  ...                              Ena\n",
              "47576  120e  ...                         hopital \n",
              "47577  120e  ...                              Ena\n",
              "47578  120e  ...                             INPT\n",
              "47579  120e  ...              hopital cheikh zaid\n",
              "47580  120e  ...  faculté economique et juridique\n",
              "47581  120e  ...                             INPT\n",
              "47582  120e  ...                hopital militaire\n",
              "47583  120e  ...            ministere d'interieur\n",
              "47584  120e  ...              faculté de médecine\n",
              "47585  120e  ...              faculté de médecine\n",
              "47586  120e  ...                              IAV\n",
              "47587  120e  ...  faculté economique et juridique\n",
              "47588  120e  ...                          Faculté\n",
              "47589  120e  ...                             INPT\n",
              "47590  120e  ...  faculté economique et juridique\n",
              "47591  120e  ...                         hopital \n",
              "47592  120e  ...                             INPT\n",
              "47593  120e  ...              faculté de médecine\n",
              "47594  120e  ...                    campus irfane\n",
              "47595  120e  ...                            INSEA\n",
              "47596  120e  ...              faculté de médecine\n",
              "47597  120e  ...                              IAV\n",
              "47598  120e  ...                    campus irfane\n",
              "47599  120e  ...                              CHU\n",
              "47600  120e  ...                            INSEA\n",
              "\n",
              "[47601 rows x 5 columns]"
            ]
          },
          "metadata": {
            "tags": []
          },
          "execution_count": 76
        }
      ]
    },
    {
      "cell_type": "code",
      "metadata": {
        "id": "0PiuMSrdHm_y",
        "colab_type": "code",
        "colab": {}
      },
      "source": [
        ""
      ],
      "execution_count": 0,
      "outputs": []
    }
  ]
}
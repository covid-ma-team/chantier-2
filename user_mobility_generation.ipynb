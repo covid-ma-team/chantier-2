{
  "nbformat": 4,
  "nbformat_minor": 0,
  "metadata": {
    "colab": {
      "name": "data generation.ipynb",
      "provenance": [],
      "collapsed_sections": []
    },
    "kernelspec": {
      "name": "python3",
      "display_name": "Python 3"
    }
  },
  "cells": [
    {
      "cell_type": "markdown",
      "metadata": {
        "id": "DX0K9yxCzEWP",
        "colab_type": "text"
      },
      "source": [
        "# Installation :\n"
      ]
    },
    {
      "cell_type": "code",
      "metadata": {
        "id": "26Qj8qRMzISi",
        "colab_type": "code",
        "colab": {
          "base_uri": "https://localhost:8080/",
          "height": 1000
        },
        "outputId": "f56afe8d-0b3b-4e77-b611-a48612ea549c"
      },
      "source": [
        "!git clone https://github.com/scikit-mobility/scikit-mobility.git\n",
        "!cd scikit-mobility && python3 setup.py install\n",
        "!pip3 install scikit-mobility\n",
        "!git clone https://github.com/IhabBendidi/morocco.geojson.git"
      ],
      "execution_count": 1,
      "outputs": [
        {
          "output_type": "stream",
          "text": [
            "Cloning into 'scikit-mobility'...\n",
            "remote: Enumerating objects: 258, done.\u001b[K\n",
            "remote: Counting objects: 100% (258/258), done.\u001b[K\n",
            "remote: Compressing objects: 100% (174/174), done.\u001b[K\n",
            "remote: Total 1983 (delta 145), reused 168 (delta 84), pack-reused 1725\u001b[K\n",
            "Receiving objects: 100% (1983/1983), 30.78 MiB | 21.12 MiB/s, done.\n",
            "Resolving deltas: 100% (1217/1217), done.\n",
            "running install\n",
            "running bdist_egg\n",
            "running egg_info\n",
            "creating scikit_mobility.egg-info\n",
            "writing scikit_mobility.egg-info/PKG-INFO\n",
            "writing dependency_links to scikit_mobility.egg-info/dependency_links.txt\n",
            "writing requirements to scikit_mobility.egg-info/requires.txt\n",
            "writing top-level names to scikit_mobility.egg-info/top_level.txt\n",
            "writing manifest file 'scikit_mobility.egg-info/SOURCES.txt'\n",
            "writing manifest file 'scikit_mobility.egg-info/SOURCES.txt'\n",
            "installing library code to build/bdist.linux-x86_64/egg\n",
            "running install_lib\n",
            "running build_py\n",
            "creating build\n",
            "creating build/lib\n",
            "creating build/lib/skmob\n",
            "copying skmob/__init__.py -> build/lib/skmob\n",
            "creating build/lib/skmob/core\n",
            "copying skmob/core/flowdataframe.py -> build/lib/skmob/core\n",
            "copying skmob/core/__init__.py -> build/lib/skmob/core\n",
            "copying skmob/core/trajectorydataframe.py -> build/lib/skmob/core\n",
            "creating build/lib/skmob/utils\n",
            "copying skmob/utils/utils.py -> build/lib/skmob/utils\n",
            "copying skmob/utils/constants.py -> build/lib/skmob/utils\n",
            "copying skmob/utils/plot.py -> build/lib/skmob/utils\n",
            "copying skmob/utils/__init__.py -> build/lib/skmob/utils\n",
            "copying skmob/utils/gislib.py -> build/lib/skmob/utils\n",
            "creating build/lib/skmob/io\n",
            "copying skmob/io/file.py -> build/lib/skmob/io\n",
            "copying skmob/io/__init__.py -> build/lib/skmob/io\n",
            "creating build/lib/skmob/measures\n",
            "copying skmob/measures/collective.py -> build/lib/skmob/measures\n",
            "copying skmob/measures/evaluation.py -> build/lib/skmob/measures\n",
            "copying skmob/measures/__init__.py -> build/lib/skmob/measures\n",
            "copying skmob/measures/individual.py -> build/lib/skmob/measures\n",
            "creating build/lib/skmob/models\n",
            "copying skmob/models/markov_diary_generator.py -> build/lib/skmob/models\n",
            "copying skmob/models/gravity.py -> build/lib/skmob/models\n",
            "copying skmob/models/epr.py -> build/lib/skmob/models\n",
            "copying skmob/models/radiation.py -> build/lib/skmob/models\n",
            "copying skmob/models/__init__.py -> build/lib/skmob/models\n",
            "creating build/lib/skmob/preprocessing\n",
            "copying skmob/preprocessing/routing.py -> build/lib/skmob/preprocessing\n",
            "copying skmob/preprocessing/clustering.py -> build/lib/skmob/preprocessing\n",
            "copying skmob/preprocessing/detection.py -> build/lib/skmob/preprocessing\n",
            "copying skmob/preprocessing/filtering.py -> build/lib/skmob/preprocessing\n",
            "copying skmob/preprocessing/__init__.py -> build/lib/skmob/preprocessing\n",
            "copying skmob/preprocessing/compression.py -> build/lib/skmob/preprocessing\n",
            "creating build/lib/skmob/privacy\n",
            "copying skmob/privacy/attacks.py -> build/lib/skmob/privacy\n",
            "copying skmob/privacy/__init__.py -> build/lib/skmob/privacy\n",
            "creating build/lib/skmob/tessellation\n",
            "copying skmob/tessellation/tilers.py -> build/lib/skmob/tessellation\n",
            "copying skmob/tessellation/__init__.py -> build/lib/skmob/tessellation\n",
            "creating build/bdist.linux-x86_64\n",
            "creating build/bdist.linux-x86_64/egg\n",
            "creating build/bdist.linux-x86_64/egg/skmob\n",
            "creating build/bdist.linux-x86_64/egg/skmob/preprocessing\n",
            "copying build/lib/skmob/preprocessing/routing.py -> build/bdist.linux-x86_64/egg/skmob/preprocessing\n",
            "copying build/lib/skmob/preprocessing/clustering.py -> build/bdist.linux-x86_64/egg/skmob/preprocessing\n",
            "copying build/lib/skmob/preprocessing/detection.py -> build/bdist.linux-x86_64/egg/skmob/preprocessing\n",
            "copying build/lib/skmob/preprocessing/filtering.py -> build/bdist.linux-x86_64/egg/skmob/preprocessing\n",
            "copying build/lib/skmob/preprocessing/__init__.py -> build/bdist.linux-x86_64/egg/skmob/preprocessing\n",
            "copying build/lib/skmob/preprocessing/compression.py -> build/bdist.linux-x86_64/egg/skmob/preprocessing\n",
            "creating build/bdist.linux-x86_64/egg/skmob/tessellation\n",
            "copying build/lib/skmob/tessellation/tilers.py -> build/bdist.linux-x86_64/egg/skmob/tessellation\n",
            "copying build/lib/skmob/tessellation/__init__.py -> build/bdist.linux-x86_64/egg/skmob/tessellation\n",
            "creating build/bdist.linux-x86_64/egg/skmob/measures\n",
            "copying build/lib/skmob/measures/collective.py -> build/bdist.linux-x86_64/egg/skmob/measures\n",
            "copying build/lib/skmob/measures/evaluation.py -> build/bdist.linux-x86_64/egg/skmob/measures\n",
            "copying build/lib/skmob/measures/__init__.py -> build/bdist.linux-x86_64/egg/skmob/measures\n",
            "copying build/lib/skmob/measures/individual.py -> build/bdist.linux-x86_64/egg/skmob/measures\n",
            "creating build/bdist.linux-x86_64/egg/skmob/privacy\n",
            "copying build/lib/skmob/privacy/attacks.py -> build/bdist.linux-x86_64/egg/skmob/privacy\n",
            "copying build/lib/skmob/privacy/__init__.py -> build/bdist.linux-x86_64/egg/skmob/privacy\n",
            "creating build/bdist.linux-x86_64/egg/skmob/io\n",
            "copying build/lib/skmob/io/file.py -> build/bdist.linux-x86_64/egg/skmob/io\n",
            "copying build/lib/skmob/io/__init__.py -> build/bdist.linux-x86_64/egg/skmob/io\n",
            "creating build/bdist.linux-x86_64/egg/skmob/core\n",
            "copying build/lib/skmob/core/flowdataframe.py -> build/bdist.linux-x86_64/egg/skmob/core\n",
            "copying build/lib/skmob/core/__init__.py -> build/bdist.linux-x86_64/egg/skmob/core\n",
            "copying build/lib/skmob/core/trajectorydataframe.py -> build/bdist.linux-x86_64/egg/skmob/core\n",
            "copying build/lib/skmob/__init__.py -> build/bdist.linux-x86_64/egg/skmob\n",
            "creating build/bdist.linux-x86_64/egg/skmob/models\n",
            "copying build/lib/skmob/models/markov_diary_generator.py -> build/bdist.linux-x86_64/egg/skmob/models\n",
            "copying build/lib/skmob/models/gravity.py -> build/bdist.linux-x86_64/egg/skmob/models\n",
            "copying build/lib/skmob/models/epr.py -> build/bdist.linux-x86_64/egg/skmob/models\n",
            "copying build/lib/skmob/models/radiation.py -> build/bdist.linux-x86_64/egg/skmob/models\n",
            "copying build/lib/skmob/models/__init__.py -> build/bdist.linux-x86_64/egg/skmob/models\n",
            "creating build/bdist.linux-x86_64/egg/skmob/utils\n",
            "copying build/lib/skmob/utils/utils.py -> build/bdist.linux-x86_64/egg/skmob/utils\n",
            "copying build/lib/skmob/utils/constants.py -> build/bdist.linux-x86_64/egg/skmob/utils\n",
            "copying build/lib/skmob/utils/plot.py -> build/bdist.linux-x86_64/egg/skmob/utils\n",
            "copying build/lib/skmob/utils/__init__.py -> build/bdist.linux-x86_64/egg/skmob/utils\n",
            "copying build/lib/skmob/utils/gislib.py -> build/bdist.linux-x86_64/egg/skmob/utils\n",
            "byte-compiling build/bdist.linux-x86_64/egg/skmob/preprocessing/routing.py to routing.cpython-36.pyc\n",
            "byte-compiling build/bdist.linux-x86_64/egg/skmob/preprocessing/clustering.py to clustering.cpython-36.pyc\n",
            "byte-compiling build/bdist.linux-x86_64/egg/skmob/preprocessing/detection.py to detection.cpython-36.pyc\n",
            "byte-compiling build/bdist.linux-x86_64/egg/skmob/preprocessing/filtering.py to filtering.cpython-36.pyc\n",
            "byte-compiling build/bdist.linux-x86_64/egg/skmob/preprocessing/__init__.py to __init__.cpython-36.pyc\n",
            "byte-compiling build/bdist.linux-x86_64/egg/skmob/preprocessing/compression.py to compression.cpython-36.pyc\n",
            "byte-compiling build/bdist.linux-x86_64/egg/skmob/tessellation/tilers.py to tilers.cpython-36.pyc\n",
            "byte-compiling build/bdist.linux-x86_64/egg/skmob/tessellation/__init__.py to __init__.cpython-36.pyc\n",
            "byte-compiling build/bdist.linux-x86_64/egg/skmob/measures/collective.py to collective.cpython-36.pyc\n",
            "byte-compiling build/bdist.linux-x86_64/egg/skmob/measures/evaluation.py to evaluation.cpython-36.pyc\n",
            "byte-compiling build/bdist.linux-x86_64/egg/skmob/measures/__init__.py to __init__.cpython-36.pyc\n",
            "byte-compiling build/bdist.linux-x86_64/egg/skmob/measures/individual.py to individual.cpython-36.pyc\n",
            "byte-compiling build/bdist.linux-x86_64/egg/skmob/privacy/attacks.py to attacks.cpython-36.pyc\n",
            "byte-compiling build/bdist.linux-x86_64/egg/skmob/privacy/__init__.py to __init__.cpython-36.pyc\n",
            "byte-compiling build/bdist.linux-x86_64/egg/skmob/io/file.py to file.cpython-36.pyc\n",
            "byte-compiling build/bdist.linux-x86_64/egg/skmob/io/__init__.py to __init__.cpython-36.pyc\n",
            "byte-compiling build/bdist.linux-x86_64/egg/skmob/core/flowdataframe.py to flowdataframe.cpython-36.pyc\n",
            "byte-compiling build/bdist.linux-x86_64/egg/skmob/core/__init__.py to __init__.cpython-36.pyc\n",
            "byte-compiling build/bdist.linux-x86_64/egg/skmob/core/trajectorydataframe.py to trajectorydataframe.cpython-36.pyc\n",
            "byte-compiling build/bdist.linux-x86_64/egg/skmob/__init__.py to __init__.cpython-36.pyc\n",
            "byte-compiling build/bdist.linux-x86_64/egg/skmob/models/markov_diary_generator.py to markov_diary_generator.cpython-36.pyc\n",
            "byte-compiling build/bdist.linux-x86_64/egg/skmob/models/gravity.py to gravity.cpython-36.pyc\n",
            "byte-compiling build/bdist.linux-x86_64/egg/skmob/models/epr.py to epr.cpython-36.pyc\n",
            "byte-compiling build/bdist.linux-x86_64/egg/skmob/models/radiation.py to radiation.cpython-36.pyc\n",
            "byte-compiling build/bdist.linux-x86_64/egg/skmob/models/__init__.py to __init__.cpython-36.pyc\n",
            "byte-compiling build/bdist.linux-x86_64/egg/skmob/utils/utils.py to utils.cpython-36.pyc\n",
            "byte-compiling build/bdist.linux-x86_64/egg/skmob/utils/constants.py to constants.cpython-36.pyc\n",
            "byte-compiling build/bdist.linux-x86_64/egg/skmob/utils/plot.py to plot.cpython-36.pyc\n",
            "byte-compiling build/bdist.linux-x86_64/egg/skmob/utils/__init__.py to __init__.cpython-36.pyc\n",
            "byte-compiling build/bdist.linux-x86_64/egg/skmob/utils/gislib.py to gislib.cpython-36.pyc\n",
            "creating build/bdist.linux-x86_64/egg/EGG-INFO\n",
            "copying scikit_mobility.egg-info/PKG-INFO -> build/bdist.linux-x86_64/egg/EGG-INFO\n",
            "copying scikit_mobility.egg-info/SOURCES.txt -> build/bdist.linux-x86_64/egg/EGG-INFO\n",
            "copying scikit_mobility.egg-info/dependency_links.txt -> build/bdist.linux-x86_64/egg/EGG-INFO\n",
            "copying scikit_mobility.egg-info/requires.txt -> build/bdist.linux-x86_64/egg/EGG-INFO\n",
            "copying scikit_mobility.egg-info/top_level.txt -> build/bdist.linux-x86_64/egg/EGG-INFO\n",
            "zip_safe flag not set; analyzing archive contents...\n",
            "creating dist\n",
            "creating 'dist/scikit_mobility-1.0-py3.6.egg' and adding 'build/bdist.linux-x86_64/egg' to it\n",
            "removing 'build/bdist.linux-x86_64/egg' (and everything under it)\n",
            "Processing scikit_mobility-1.0-py3.6.egg\n",
            "Copying scikit_mobility-1.0-py3.6.egg to /usr/local/lib/python3.6/dist-packages\n",
            "Adding scikit-mobility 1.0 to easy-install.pth file\n",
            "\n",
            "Installed /usr/local/lib/python3.6/dist-packages/scikit_mobility-1.0-py3.6.egg\n",
            "Processing dependencies for scikit-mobility==1.0\n",
            "Searching for fiona==1.8.6\n",
            "Reading https://pypi.org/simple/fiona/\n",
            "Downloading https://files.pythonhosted.org/packages/89/4a/193cd6a75e51062c85f4e1cd6f312b3bbda6e26ba7510f152ef5016f0b16/Fiona-1.8.6-cp36-cp36m-manylinux1_x86_64.whl#sha256=22dfc9d82adae78567b2a242f297915aeb7727cde06a3d762252e5393af959c5\n",
            "Best match: Fiona 1.8.6\n",
            "Processing Fiona-1.8.6-cp36-cp36m-manylinux1_x86_64.whl\n",
            "Installing Fiona-1.8.6-cp36-cp36m-manylinux1_x86_64.whl to /usr/local/lib/python3.6/dist-packages\n",
            "Adding Fiona 1.8.6 to easy-install.pth file\n",
            "Installing fio script to /usr/local/bin\n",
            "\n",
            "Installed /usr/local/lib/python3.6/dist-packages/Fiona-1.8.6-py3.6-linux-x86_64.egg\n",
            "Searching for shapely==1.7a1\n",
            "Reading https://pypi.org/simple/shapely/\n",
            "Downloading https://files.pythonhosted.org/packages/36/63/9fe78dc96c51af628e6975a40e7110f72905946605ea6317042070c24d85/Shapely-1.7a1-cp36-cp36m-manylinux1_x86_64.whl#sha256=99dc867fe6519c1af1840cceea8bcf5dd1ece077207bdcb19072cdb4fbda8584\n",
            "Best match: Shapely 1.7a1\n",
            "Processing Shapely-1.7a1-cp36-cp36m-manylinux1_x86_64.whl\n",
            "Installing Shapely-1.7a1-cp36-cp36m-manylinux1_x86_64.whl to /usr/local/lib/python3.6/dist-packages\n",
            "Adding Shapely 1.7a1 to easy-install.pth file\n",
            "\n",
            "Installed /usr/local/lib/python3.6/dist-packages/Shapely-1.7a1-py3.6-linux-x86_64.egg\n",
            "Searching for geojson==2.4.1\n",
            "Reading https://pypi.org/simple/geojson/\n",
            "Downloading https://files.pythonhosted.org/packages/f1/34/bc3a65faabce27a7faa755ab08d811207a4fc438f77ef09c229fc022d778/geojson-2.4.1-py2.py3-none-any.whl#sha256=b2bfb5c8e6b4b0c55dd139996317145aa8526146b3f8570586f9613c527a648a\n",
            "Best match: geojson 2.4.1\n",
            "Processing geojson-2.4.1-py2.py3-none-any.whl\n",
            "Installing geojson-2.4.1-py2.py3-none-any.whl to /usr/local/lib/python3.6/dist-packages\n",
            "Adding geojson 2.4.1 to easy-install.pth file\n",
            "\n",
            "Installed /usr/local/lib/python3.6/dist-packages/geojson-2.4.1-py3.6.egg\n",
            "Searching for matplotlib==3.1.1\n",
            "Reading https://pypi.org/simple/matplotlib/\n",
            "Downloading https://files.pythonhosted.org/packages/57/4f/dd381ecf6c6ab9bcdaa8ea912e866dedc6e696756156d8ecc087e20817e2/matplotlib-3.1.1-cp36-cp36m-manylinux1_x86_64.whl#sha256=bab9d848dbf1517bc58d1f486772e99919b19efef5dd8596d4b26f9f5ee08b6b\n",
            "Best match: matplotlib 3.1.1\n",
            "Processing matplotlib-3.1.1-cp36-cp36m-manylinux1_x86_64.whl\n",
            "Installing matplotlib-3.1.1-cp36-cp36m-manylinux1_x86_64.whl to /usr/local/lib/python3.6/dist-packages\n",
            "Adding matplotlib 3.1.1 to easy-install.pth file\n",
            "\n",
            "Installed /usr/local/lib/python3.6/dist-packages/matplotlib-3.1.1-py3.6-linux-x86_64.egg\n",
            "Searching for folium==0.9.1\n",
            "Reading https://pypi.org/simple/folium/\n",
            "Downloading https://files.pythonhosted.org/packages/4f/86/1ab30184cb60bc2b95deffe2bd86b8ddbab65a4fac9f7313c278c6e8d049/folium-0.9.1-py2.py3-none-any.whl#sha256=10390e325e14c79bd41879dce0a3c3110e771c4b01cd3ed3ff3fc28389702d44\n",
            "Best match: folium 0.9.1\n",
            "Processing folium-0.9.1-py2.py3-none-any.whl\n",
            "Installing folium-0.9.1-py2.py3-none-any.whl to /usr/local/lib/python3.6/dist-packages\n",
            "Adding folium 0.9.1 to easy-install.pth file\n",
            "\n",
            "Installed /usr/local/lib/python3.6/dist-packages/folium-0.9.1-py3.6.egg\n",
            "Searching for statsmodels==0.10.0rc2\n",
            "Reading https://pypi.org/simple/statsmodels/\n",
            "Downloading https://files.pythonhosted.org/packages/ab/f5/6bb191bb31574f59b42ee10278a8d002e5be4055d41f9af86d682b8c63b6/statsmodels-0.10.0rc2-cp36-cp36m-manylinux1_x86_64.whl#sha256=0f8913a04f037db593813d6380f68470d9c7d390f0d62370b5b4845081f21ffa\n",
            "Best match: statsmodels 0.10.0rc2\n",
            "Processing statsmodels-0.10.0rc2-cp36-cp36m-manylinux1_x86_64.whl\n",
            "Installing statsmodels-0.10.0rc2-cp36-cp36m-manylinux1_x86_64.whl to /usr/local/lib/python3.6/dist-packages\n",
            "Adding statsmodels 0.10.0rc2 to easy-install.pth file\n",
            "\n",
            "Installed /usr/local/lib/python3.6/dist-packages/statsmodels-0.10.0rc2-py3.6-linux-x86_64.egg\n",
            "Searching for scikit-learn==0.21.2\n",
            "Reading https://pypi.org/simple/scikit-learn/\n",
            "Downloading https://files.pythonhosted.org/packages/85/04/49633f490f726da6e454fddc8e938bbb5bfed2001681118d3814c219b723/scikit_learn-0.21.2-cp36-cp36m-manylinux1_x86_64.whl#sha256=a5fba00d9037b62b0e0906f64efe9e4a754e556bc091cc12f84bc81655b4a414\n",
            "Best match: scikit-learn 0.21.2\n",
            "Processing scikit_learn-0.21.2-cp36-cp36m-manylinux1_x86_64.whl\n",
            "Installing scikit_learn-0.21.2-cp36-cp36m-manylinux1_x86_64.whl to /usr/local/lib/python3.6/dist-packages\n",
            "Adding scikit-learn 0.21.2 to easy-install.pth file\n",
            "\n",
            "Installed /usr/local/lib/python3.6/dist-packages/scikit_learn-0.21.2-py3.6-linux-x86_64.egg\n",
            "Searching for requests==2.22.0\n",
            "Reading https://pypi.org/simple/requests/\n",
            "Downloading https://files.pythonhosted.org/packages/51/bd/23c926cd341ea6b7dd0b2a00aba99ae0f828be89d72b2190f27c11d4b7fb/requests-2.22.0-py2.py3-none-any.whl#sha256=9cf5292fcd0f598c671cfc1e0d7d1a7f13bb8085e9a590f48c010551dc6c4b31\n",
            "Best match: requests 2.22.0\n",
            "Processing requests-2.22.0-py2.py3-none-any.whl\n",
            "Installing requests-2.22.0-py2.py3-none-any.whl to /usr/local/lib/python3.6/dist-packages\n",
            "Adding requests 2.22.0 to easy-install.pth file\n",
            "\n",
            "Installed /usr/local/lib/python3.6/dist-packages/requests-2.22.0-py3.6.egg\n",
            "Searching for tqdm==4.32.1\n",
            "Reading https://pypi.org/simple/tqdm/\n",
            "Downloading https://files.pythonhosted.org/packages/45/af/685bf3ce889ea191f3b916557f5677cc95a5e87b2fa120d74b5dd6d049d0/tqdm-4.32.1-py2.py3-none-any.whl#sha256=e288416eecd4df19d12407d0c913cbf77aa8009d7fddb18f632aded3bdbdda6b\n",
            "Best match: tqdm 4.32.1\n",
            "Processing tqdm-4.32.1-py2.py3-none-any.whl\n",
            "Installing tqdm-4.32.1-py2.py3-none-any.whl to /usr/local/lib/python3.6/dist-packages\n",
            "Adding tqdm 4.32.1 to easy-install.pth file\n",
            "Installing tqdm script to /usr/local/bin\n",
            "\n",
            "Installed /usr/local/lib/python3.6/dist-packages/tqdm-4.32.1-py3.6.egg\n",
            "Searching for powerlaw==1.4.4\n",
            "Reading https://pypi.org/simple/powerlaw/\n",
            "Downloading https://files.pythonhosted.org/packages/9c/71/e1e1aa45675ca3eb450e279367790bd53981bc6bfdad5c52c2c35b82c6a3/powerlaw-1.4.4.tar.gz#sha256=f2c9d2831591dca1ac9f8b7b5f1bbabbd1920ac2a2f5ce68e0c2138f15681b50\n",
            "Best match: powerlaw 1.4.4\n",
            "Processing powerlaw-1.4.4.tar.gz\n",
            "Writing /tmp/easy_install-c9kv0i67/powerlaw-1.4.4/setup.cfg\n",
            "Running powerlaw-1.4.4/setup.py -q bdist_egg --dist-dir /tmp/easy_install-c9kv0i67/powerlaw-1.4.4/egg-dist-tmp-sr0ney1t\n",
            "zip_safe flag not set; analyzing archive contents...\n",
            "Moving powerlaw-1.4.4-py3.6.egg to /usr/local/lib/python3.6/dist-packages\n",
            "Adding powerlaw 1.4.4 to easy-install.pth file\n",
            "\n",
            "Installed /usr/local/lib/python3.6/dist-packages/powerlaw-1.4.4-py3.6.egg\n",
            "Searching for scipy==1.3.0\n",
            "Reading https://pypi.org/simple/scipy/\n",
            "Downloading https://files.pythonhosted.org/packages/72/4c/5f81e7264b0a7a8bd570810f48cd346ba36faedbd2ba255c873ad556de76/scipy-1.3.0-cp36-cp36m-manylinux1_x86_64.whl#sha256=db61a640ca20f237317d27bc658c1fc54c7581ff7f6502d112922dc285bdabee\n",
            "Best match: scipy 1.3.0\n",
            "Processing scipy-1.3.0-cp36-cp36m-manylinux1_x86_64.whl\n",
            "Installing scipy-1.3.0-cp36-cp36m-manylinux1_x86_64.whl to /usr/local/lib/python3.6/dist-packages\n",
            "Adding scipy 1.3.0 to easy-install.pth file\n",
            "\n",
            "Installed /usr/local/lib/python3.6/dist-packages/scipy-1.3.0-py3.6-linux-x86_64.egg\n",
            "Searching for geopandas==0.5.0\n",
            "Reading https://pypi.org/simple/geopandas/\n",
            "Downloading https://files.pythonhosted.org/packages/74/42/f4b147fc7920998a42046d0c2e65e61000bc5d104f1f8aec719612cb2fc8/geopandas-0.5.0-py2.py3-none-any.whl#sha256=7261f76afefda02b6039015431cc727f6089fcdfdf69443cef4f31620f1efcac\n",
            "Best match: geopandas 0.5.0\n",
            "Processing geopandas-0.5.0-py2.py3-none-any.whl\n",
            "Installing geopandas-0.5.0-py2.py3-none-any.whl to /usr/local/lib/python3.6/dist-packages\n",
            "Adding geopandas 0.5.0 to easy-install.pth file\n",
            "\n",
            "Installed /usr/local/lib/python3.6/dist-packages/geopandas-0.5.0-py3.6.egg\n",
            "Searching for pandas==0.24\n",
            "Reading https://pypi.org/simple/pandas/\n",
            "Downloading https://files.pythonhosted.org/packages/f9/e1/4a63ed31e1b1362d40ce845a5735c717a959bda992669468dae3420af2cd/pandas-0.24.0-cp36-cp36m-manylinux1_x86_64.whl#sha256=d8cf054a099ff694a0e75386471bdde098efe7c350548ec6b899f169bef1a859\n",
            "Best match: pandas 0.24.0\n",
            "Processing pandas-0.24.0-cp36-cp36m-manylinux1_x86_64.whl\n",
            "Installing pandas-0.24.0-cp36-cp36m-manylinux1_x86_64.whl to /usr/local/lib/python3.6/dist-packages\n",
            "Adding pandas 0.24.0 to easy-install.pth file\n",
            "\n",
            "Installed /usr/local/lib/python3.6/dist-packages/pandas-0.24.0-py3.6-linux-x86_64.egg\n",
            "Searching for numpy==1.17.0\n",
            "Reading https://pypi.org/simple/numpy/\n",
            "Downloading https://files.pythonhosted.org/packages/19/b9/bda9781f0a74b90ebd2e046fde1196182900bd4a8e1ea503d3ffebc50e7c/numpy-1.17.0-cp36-cp36m-manylinux1_x86_64.whl#sha256=9588c6b4157f493edeb9378788dcd02cb9e6a6aeaa518b511a1c79d06cbd8094\n",
            "Best match: numpy 1.17.0\n",
            "Processing numpy-1.17.0-cp36-cp36m-manylinux1_x86_64.whl\n",
            "Installing numpy-1.17.0-cp36-cp36m-manylinux1_x86_64.whl to /usr/local/lib/python3.6/dist-packages\n",
            "Adding numpy 1.17.0 to easy-install.pth file\n",
            "Installing f2py script to /usr/local/bin\n",
            "Installing f2py3 script to /usr/local/bin\n",
            "Installing f2py3.6 script to /usr/local/bin\n",
            "\n",
            "Installed /usr/local/lib/python3.6/dist-packages/numpy-1.17.0-py3.6-linux-x86_64.egg\n",
            "Searching for munch\n",
            "Reading https://pypi.org/simple/munch/\n",
            "Downloading https://files.pythonhosted.org/packages/50/7b/836527eb54b0c3513d4bf4a80a72190ea5c630fd8da8a6a0773ac60e8499/munch-2.5.1.dev12-py2.py3-none-any.whl#sha256=8fdb6c5cb8ea62611424ed71b4aa896851c6c53952872cbb7d6767dc34119e89\n",
            "Best match: munch 2.5.1.dev12\n",
            "Processing munch-2.5.1.dev12-py2.py3-none-any.whl\n",
            "Installing munch-2.5.1.dev12-py2.py3-none-any.whl to /usr/local/lib/python3.6/dist-packages\n",
            "Adding munch 2.5.1.dev12 to easy-install.pth file\n",
            "\n",
            "Installed /usr/local/lib/python3.6/dist-packages/munch-2.5.1.dev12-py3.6.egg\n",
            "Searching for cligj>=0.5\n",
            "Reading https://pypi.org/simple/cligj/\n",
            "Downloading https://files.pythonhosted.org/packages/e4/be/30a58b4b0733850280d01f8bd132591b4668ed5c7046761098d665ac2174/cligj-0.5.0-py3-none-any.whl#sha256=20f24ce9abfde3f758aec3399e6811b936b6772f360846c662c19bf5537b4f14\n",
            "Best match: cligj 0.5.0\n",
            "Processing cligj-0.5.0-py3-none-any.whl\n",
            "Installing cligj-0.5.0-py3-none-any.whl to /usr/local/lib/python3.6/dist-packages\n",
            "Adding cligj 0.5.0 to easy-install.pth file\n",
            "\n",
            "Installed /usr/local/lib/python3.6/dist-packages/cligj-0.5.0-py3.6.egg\n",
            "Searching for click-plugins>=1.0\n",
            "Reading https://pypi.org/simple/click-plugins/\n",
            "Downloading https://files.pythonhosted.org/packages/e9/da/824b92d9942f4e472702488857914bdd50f73021efea15b4cad9aca8ecef/click_plugins-1.1.1-py2.py3-none-any.whl#sha256=5d262006d3222f5057fd81e1623d4443e41dcda5dc815c06b442aa3c02889fc8\n",
            "Best match: click-plugins 1.1.1\n",
            "Processing click_plugins-1.1.1-py2.py3-none-any.whl\n",
            "Installing click_plugins-1.1.1-py2.py3-none-any.whl to /usr/local/lib/python3.6/dist-packages\n",
            "Adding click-plugins 1.1.1 to easy-install.pth file\n",
            "\n",
            "Installed /usr/local/lib/python3.6/dist-packages/click_plugins-1.1.1-py3.6.egg\n",
            "Searching for idna<2.9,>=2.5\n",
            "Reading https://pypi.org/simple/idna/\n",
            "Downloading https://files.pythonhosted.org/packages/14/2c/cd551d81dbe15200be1cf41cd03869a46fe7226e7450af7a6545bfc474c9/idna-2.8-py2.py3-none-any.whl#sha256=ea8b7f6188e6fa117537c3df7da9fc686d485087abf6ac197f9c46432f7e4a3c\n",
            "Best match: idna 2.8\n",
            "Processing idna-2.8-py2.py3-none-any.whl\n",
            "Installing idna-2.8-py2.py3-none-any.whl to /usr/local/lib/python3.6/dist-packages\n",
            "Adding idna 2.8 to easy-install.pth file\n",
            "\n",
            "Installed /usr/local/lib/python3.6/dist-packages/idna-2.8-py3.6.egg\n",
            "Searching for pyproj\n",
            "Reading https://pypi.org/simple/pyproj/\n",
            "Downloading https://files.pythonhosted.org/packages/ce/37/705ee471f71130d4ceee41bbcb06f3b52175cb89273cbb5755ed5e6374e0/pyproj-2.6.0-cp36-cp36m-manylinux2010_x86_64.whl#sha256=881b44e94c781d02ecf1d9314fc7f44c09e6d54a8eac281869365999ac4db7a1\n",
            "Best match: pyproj 2.6.0\n",
            "Processing pyproj-2.6.0-cp36-cp36m-manylinux2010_x86_64.whl\n",
            "Installing pyproj-2.6.0-cp36-cp36m-manylinux2010_x86_64.whl to /usr/local/lib/python3.6/dist-packages\n",
            "Adding pyproj 2.6.0 to easy-install.pth file\n",
            "\n",
            "Installed /usr/local/lib/python3.6/dist-packages/pyproj-2.6.0-py3.6-linux-x86_64.egg\n",
            "Searching for six==1.12.0\n",
            "Best match: six 1.12.0\n",
            "Adding six 1.12.0 to easy-install.pth file\n",
            "\n",
            "Using /usr/local/lib/python3.6/dist-packages\n",
            "Searching for click==7.1.2\n",
            "Best match: click 7.1.2\n",
            "Adding click 7.1.2 to easy-install.pth file\n",
            "\n",
            "Using /usr/local/lib/python3.6/dist-packages\n",
            "Searching for attrs==19.3.0\n",
            "Best match: attrs 19.3.0\n",
            "Adding attrs 19.3.0 to easy-install.pth file\n",
            "\n",
            "Using /usr/local/lib/python3.6/dist-packages\n",
            "Searching for python-dateutil==2.8.1\n",
            "Best match: python-dateutil 2.8.1\n",
            "Adding python-dateutil 2.8.1 to easy-install.pth file\n",
            "\n",
            "Using /usr/local/lib/python3.6/dist-packages\n",
            "Searching for pyparsing==2.4.7\n",
            "Best match: pyparsing 2.4.7\n",
            "Adding pyparsing 2.4.7 to easy-install.pth file\n",
            "\n",
            "Using /usr/local/lib/python3.6/dist-packages\n",
            "Searching for kiwisolver==1.2.0\n",
            "Best match: kiwisolver 1.2.0\n",
            "Adding kiwisolver 1.2.0 to easy-install.pth file\n",
            "\n",
            "Using /usr/local/lib/python3.6/dist-packages\n",
            "Searching for cycler==0.10.0\n",
            "Best match: cycler 0.10.0\n",
            "Adding cycler 0.10.0 to easy-install.pth file\n",
            "\n",
            "Using /usr/local/lib/python3.6/dist-packages\n",
            "Searching for Jinja2==2.11.2\n",
            "Best match: Jinja2 2.11.2\n",
            "Adding Jinja2 2.11.2 to easy-install.pth file\n",
            "\n",
            "Using /usr/local/lib/python3.6/dist-packages\n",
            "Searching for branca==0.4.0\n",
            "Best match: branca 0.4.0\n",
            "Adding branca 0.4.0 to easy-install.pth file\n",
            "\n",
            "Using /usr/local/lib/python3.6/dist-packages\n",
            "Searching for patsy==0.5.1\n",
            "Best match: patsy 0.5.1\n",
            "Adding patsy 0.5.1 to easy-install.pth file\n",
            "\n",
            "Using /usr/local/lib/python3.6/dist-packages\n",
            "Searching for joblib==0.14.1\n",
            "Best match: joblib 0.14.1\n",
            "Adding joblib 0.14.1 to easy-install.pth file\n",
            "\n",
            "Using /usr/local/lib/python3.6/dist-packages\n",
            "Searching for urllib3==1.24.3\n",
            "Best match: urllib3 1.24.3\n",
            "Adding urllib3 1.24.3 to easy-install.pth file\n",
            "\n",
            "Using /usr/local/lib/python3.6/dist-packages\n",
            "Searching for chardet==3.0.4\n",
            "Best match: chardet 3.0.4\n",
            "Adding chardet 3.0.4 to easy-install.pth file\n",
            "Installing chardetect script to /usr/local/bin\n",
            "\n",
            "Using /usr/local/lib/python3.6/dist-packages\n",
            "Searching for certifi==2020.4.5.1\n",
            "Best match: certifi 2020.4.5.1\n",
            "Adding certifi 2020.4.5.1 to easy-install.pth file\n",
            "\n",
            "Using /usr/local/lib/python3.6/dist-packages\n",
            "Searching for pytz==2018.9\n",
            "Best match: pytz 2018.9\n",
            "Adding pytz 2018.9 to easy-install.pth file\n",
            "\n",
            "Using /usr/local/lib/python3.6/dist-packages\n",
            "Searching for MarkupSafe==1.1.1\n",
            "Best match: MarkupSafe 1.1.1\n",
            "Adding MarkupSafe 1.1.1 to easy-install.pth file\n",
            "\n",
            "Using /usr/local/lib/python3.6/dist-packages\n",
            "Finished processing dependencies for scikit-mobility==1.0\n",
            "Requirement already satisfied: scikit-mobility in /usr/local/lib/python3.6/dist-packages/scikit_mobility-1.0-py3.6.egg (1.0)\n",
            "Collecting numpy==1.17.0\n",
            "\u001b[?25l  Downloading https://files.pythonhosted.org/packages/19/b9/bda9781f0a74b90ebd2e046fde1196182900bd4a8e1ea503d3ffebc50e7c/numpy-1.17.0-cp36-cp36m-manylinux1_x86_64.whl (20.4MB)\n",
            "\u001b[K     |████████████████████████████████| 20.4MB 1.6MB/s \n",
            "\u001b[?25hCollecting pandas==0.24\n",
            "\u001b[?25l  Downloading https://files.pythonhosted.org/packages/f9/e1/4a63ed31e1b1362d40ce845a5735c717a959bda992669468dae3420af2cd/pandas-0.24.0-cp36-cp36m-manylinux1_x86_64.whl (10.1MB)\n",
            "\u001b[K     |████████████████████████████████| 10.1MB 31.5MB/s \n",
            "\u001b[?25hRequirement already satisfied: geopandas==0.5.0 in /usr/local/lib/python3.6/dist-packages/geopandas-0.5.0-py3.6.egg (from scikit-mobility) (0.5.0)\n",
            "Collecting scipy==1.3.0\n",
            "\u001b[?25l  Downloading https://files.pythonhosted.org/packages/72/4c/5f81e7264b0a7a8bd570810f48cd346ba36faedbd2ba255c873ad556de76/scipy-1.3.0-cp36-cp36m-manylinux1_x86_64.whl (25.2MB)\n",
            "\u001b[K     |████████████████████████████████| 25.2MB 1.4MB/s \n",
            "\u001b[?25hRequirement already satisfied: powerlaw==1.4.4 in /usr/local/lib/python3.6/dist-packages/powerlaw-1.4.4-py3.6.egg (from scikit-mobility) (1.4.4)\n",
            "Collecting tqdm==4.32.1\n",
            "\u001b[?25l  Downloading https://files.pythonhosted.org/packages/45/af/685bf3ce889ea191f3b916557f5677cc95a5e87b2fa120d74b5dd6d049d0/tqdm-4.32.1-py2.py3-none-any.whl (49kB)\n",
            "\u001b[K     |████████████████████████████████| 51kB 7.7MB/s \n",
            "\u001b[?25hCollecting requests==2.22.0\n",
            "\u001b[?25l  Downloading https://files.pythonhosted.org/packages/51/bd/23c926cd341ea6b7dd0b2a00aba99ae0f828be89d72b2190f27c11d4b7fb/requests-2.22.0-py2.py3-none-any.whl (57kB)\n",
            "\u001b[K     |████████████████████████████████| 61kB 8.6MB/s \n",
            "\u001b[?25hCollecting scikit-learn==0.21.2\n",
            "\u001b[?25l  Downloading https://files.pythonhosted.org/packages/85/04/49633f490f726da6e454fddc8e938bbb5bfed2001681118d3814c219b723/scikit_learn-0.21.2-cp36-cp36m-manylinux1_x86_64.whl (6.7MB)\n",
            "\u001b[K     |████████████████████████████████| 6.7MB 37.6MB/s \n",
            "\u001b[?25hCollecting statsmodels==0.10.0rc2\n",
            "\u001b[?25l  Downloading https://files.pythonhosted.org/packages/ab/f5/6bb191bb31574f59b42ee10278a8d002e5be4055d41f9af86d682b8c63b6/statsmodels-0.10.0rc2-cp36-cp36m-manylinux1_x86_64.whl (8.1MB)\n",
            "\u001b[K     |████████████████████████████████| 8.1MB 40.2MB/s \n",
            "\u001b[?25hCollecting folium==0.9.1\n",
            "\u001b[?25l  Downloading https://files.pythonhosted.org/packages/4f/86/1ab30184cb60bc2b95deffe2bd86b8ddbab65a4fac9f7313c278c6e8d049/folium-0.9.1-py2.py3-none-any.whl (91kB)\n",
            "\u001b[K     |████████████████████████████████| 92kB 12.2MB/s \n",
            "\u001b[?25hCollecting matplotlib==3.1.1\n",
            "\u001b[?25l  Downloading https://files.pythonhosted.org/packages/57/4f/dd381ecf6c6ab9bcdaa8ea912e866dedc6e696756156d8ecc087e20817e2/matplotlib-3.1.1-cp36-cp36m-manylinux1_x86_64.whl (13.1MB)\n",
            "\u001b[K     |████████████████████████████████| 13.1MB 37.5MB/s \n",
            "\u001b[?25hRequirement already satisfied: geojson==2.4.1 in /usr/local/lib/python3.6/dist-packages/geojson-2.4.1-py3.6.egg (from scikit-mobility) (2.4.1)\n",
            "Collecting shapely==1.7a1\n",
            "\u001b[?25l  Downloading https://files.pythonhosted.org/packages/36/63/9fe78dc96c51af628e6975a40e7110f72905946605ea6317042070c24d85/Shapely-1.7a1-cp36-cp36m-manylinux1_x86_64.whl (1.5MB)\n",
            "\u001b[K     |████████████████████████████████| 1.5MB 38.4MB/s \n",
            "\u001b[?25hRequirement already satisfied: fiona==1.8.6 in /usr/local/lib/python3.6/dist-packages/Fiona-1.8.6-py3.6-linux-x86_64.egg (from scikit-mobility) (1.8.6)\n",
            "Requirement already satisfied: pytz>=2011k in /usr/local/lib/python3.6/dist-packages (from pandas==0.24->scikit-mobility) (2018.9)\n",
            "Requirement already satisfied: python-dateutil>=2.5.0 in /usr/local/lib/python3.6/dist-packages (from pandas==0.24->scikit-mobility) (2.8.1)\n",
            "Requirement already satisfied: pyproj in /usr/local/lib/python3.6/dist-packages/pyproj-2.6.0-py3.6-linux-x86_64.egg (from geopandas==0.5.0->scikit-mobility) (2.6.0)\n",
            "Requirement already satisfied: chardet<3.1.0,>=3.0.2 in /usr/local/lib/python3.6/dist-packages (from requests==2.22.0->scikit-mobility) (3.0.4)\n",
            "Collecting idna<2.9,>=2.5\n",
            "\u001b[?25l  Downloading https://files.pythonhosted.org/packages/14/2c/cd551d81dbe15200be1cf41cd03869a46fe7226e7450af7a6545bfc474c9/idna-2.8-py2.py3-none-any.whl (58kB)\n",
            "\u001b[K     |████████████████████████████████| 61kB 9.4MB/s \n",
            "\u001b[?25hRequirement already satisfied: certifi>=2017.4.17 in /usr/local/lib/python3.6/dist-packages (from requests==2.22.0->scikit-mobility) (2020.4.5.1)\n",
            "Requirement already satisfied: urllib3!=1.25.0,!=1.25.1,<1.26,>=1.21.1 in /usr/local/lib/python3.6/dist-packages (from requests==2.22.0->scikit-mobility) (1.24.3)\n",
            "Requirement already satisfied: joblib>=0.11 in /usr/local/lib/python3.6/dist-packages (from scikit-learn==0.21.2->scikit-mobility) (0.14.1)\n",
            "Requirement already satisfied: patsy>=0.4.0 in /usr/local/lib/python3.6/dist-packages (from statsmodels==0.10.0rc2->scikit-mobility) (0.5.1)\n",
            "Requirement already satisfied: branca>=0.3.0 in /usr/local/lib/python3.6/dist-packages (from folium==0.9.1->scikit-mobility) (0.4.0)\n",
            "Requirement already satisfied: jinja2>=2.9 in /usr/local/lib/python3.6/dist-packages (from folium==0.9.1->scikit-mobility) (2.11.2)\n",
            "Requirement already satisfied: kiwisolver>=1.0.1 in /usr/local/lib/python3.6/dist-packages (from matplotlib==3.1.1->scikit-mobility) (1.2.0)\n",
            "Requirement already satisfied: cycler>=0.10 in /usr/local/lib/python3.6/dist-packages (from matplotlib==3.1.1->scikit-mobility) (0.10.0)\n",
            "Requirement already satisfied: pyparsing!=2.0.4,!=2.1.2,!=2.1.6,>=2.0.1 in /usr/local/lib/python3.6/dist-packages (from matplotlib==3.1.1->scikit-mobility) (2.4.7)\n",
            "Requirement already satisfied: attrs>=17 in /usr/local/lib/python3.6/dist-packages (from fiona==1.8.6->scikit-mobility) (19.3.0)\n",
            "Requirement already satisfied: click-plugins>=1.0 in /usr/local/lib/python3.6/dist-packages/click_plugins-1.1.1-py3.6.egg (from fiona==1.8.6->scikit-mobility) (1.1.1)\n",
            "Requirement already satisfied: click<8,>=4.0 in /usr/local/lib/python3.6/dist-packages (from fiona==1.8.6->scikit-mobility) (7.1.2)\n",
            "Requirement already satisfied: cligj>=0.5 in /usr/local/lib/python3.6/dist-packages/cligj-0.5.0-py3.6.egg (from fiona==1.8.6->scikit-mobility) (0.5.0)\n",
            "Requirement already satisfied: munch in /usr/local/lib/python3.6/dist-packages/munch-2.5.1.dev12-py3.6.egg (from fiona==1.8.6->scikit-mobility) (2.5.1.dev12)\n",
            "Requirement already satisfied: six>=1.7 in /usr/local/lib/python3.6/dist-packages (from fiona==1.8.6->scikit-mobility) (1.12.0)\n",
            "Requirement already satisfied: MarkupSafe>=0.23 in /usr/local/lib/python3.6/dist-packages (from jinja2>=2.9->folium==0.9.1->scikit-mobility) (1.1.1)\n",
            "\u001b[31mERROR: xarray 0.15.1 has requirement pandas>=0.25, but you'll have pandas 0.24.0 which is incompatible.\u001b[0m\n",
            "\u001b[31mERROR: tensorflow 2.2.0rc3 has requirement scipy==1.4.1; python_version >= \"3\", but you'll have scipy 1.3.0 which is incompatible.\u001b[0m\n",
            "\u001b[31mERROR: spacy 2.2.4 has requirement tqdm<5.0.0,>=4.38.0, but you'll have tqdm 4.32.1 which is incompatible.\u001b[0m\n",
            "\u001b[31mERROR: plotnine 0.6.0 has requirement pandas>=0.25.0, but you'll have pandas 0.24.0 which is incompatible.\u001b[0m\n",
            "\u001b[31mERROR: mizani 0.6.0 has requirement pandas>=0.25.0, but you'll have pandas 0.24.0 which is incompatible.\u001b[0m\n",
            "\u001b[31mERROR: google-colab 1.0.0 has requirement pandas~=1.0.0; python_version >= \"3.0\", but you'll have pandas 0.24.0 which is incompatible.\u001b[0m\n",
            "\u001b[31mERROR: google-colab 1.0.0 has requirement requests~=2.23.0, but you'll have requests 2.22.0 which is incompatible.\u001b[0m\n",
            "\u001b[31mERROR: datascience 0.10.6 has requirement folium==0.2.1, but you'll have folium 0.9.1 which is incompatible.\u001b[0m\n",
            "\u001b[31mERROR: albumentations 0.1.12 has requirement imgaug<0.2.7,>=0.2.5, but you'll have imgaug 0.2.9 which is incompatible.\u001b[0m\n",
            "Installing collected packages: numpy, pandas, scipy, tqdm, idna, requests, scikit-learn, statsmodels, folium, matplotlib, shapely\n",
            "  Found existing installation: numpy 1.18.3\n",
            "    Uninstalling numpy-1.18.3:\n",
            "      Successfully uninstalled numpy-1.18.3\n",
            "  Found existing installation: pandas 1.0.3\n",
            "    Uninstalling pandas-1.0.3:\n",
            "      Successfully uninstalled pandas-1.0.3\n",
            "  Found existing installation: scipy 1.4.1\n",
            "    Uninstalling scipy-1.4.1:\n",
            "      Successfully uninstalled scipy-1.4.1\n",
            "  Found existing installation: tqdm 4.38.0\n",
            "    Uninstalling tqdm-4.38.0:\n",
            "      Successfully uninstalled tqdm-4.38.0\n",
            "  Found existing installation: idna 2.9\n",
            "    Uninstalling idna-2.9:\n",
            "      Successfully uninstalled idna-2.9\n",
            "  Found existing installation: requests 2.23.0\n",
            "    Uninstalling requests-2.23.0:\n",
            "      Successfully uninstalled requests-2.23.0\n",
            "  Found existing installation: scikit-learn 0.22.2.post1\n",
            "    Uninstalling scikit-learn-0.22.2.post1:\n",
            "      Successfully uninstalled scikit-learn-0.22.2.post1\n",
            "  Found existing installation: statsmodels 0.10.2\n",
            "    Uninstalling statsmodels-0.10.2:\n",
            "      Successfully uninstalled statsmodels-0.10.2\n",
            "  Found existing installation: folium 0.8.3\n",
            "    Uninstalling folium-0.8.3:\n",
            "      Successfully uninstalled folium-0.8.3\n",
            "  Found existing installation: matplotlib 3.2.1\n",
            "    Uninstalling matplotlib-3.2.1:\n",
            "      Successfully uninstalled matplotlib-3.2.1\n",
            "  Found existing installation: Shapely 1.7.0\n",
            "    Uninstalling Shapely-1.7.0:\n",
            "      Successfully uninstalled Shapely-1.7.0\n",
            "Successfully installed folium-0.9.1 idna-2.8 matplotlib-3.1.1 numpy-1.17.0 pandas-0.24.0 requests-2.22.0 scikit-learn-0.21.2 scipy-1.3.0 shapely-1.7a1 statsmodels-0.10.0rc2 tqdm-4.32.1\n"
          ],
          "name": "stdout"
        },
        {
          "output_type": "display_data",
          "data": {
            "application/vnd.colab-display-data+json": {
              "pip_warning": {
                "packages": [
                  "idna",
                  "matplotlib",
                  "mpl_toolkits",
                  "numpy",
                  "pandas",
                  "requests",
                  "tqdm"
                ]
              }
            }
          },
          "metadata": {
            "tags": []
          }
        },
        {
          "output_type": "stream",
          "text": [
            "Cloning into 'morocco.geojson'...\n",
            "remote: Enumerating objects: 21, done.\u001b[K\n",
            "remote: Counting objects:   4% (1/21)\u001b[K\rremote: Counting objects:   9% (2/21)\u001b[K\rremote: Counting objects:  14% (3/21)\u001b[K\rremote: Counting objects:  19% (4/21)\u001b[K\rremote: Counting objects:  23% (5/21)\u001b[K\rremote: Counting objects:  28% (6/21)\u001b[K\rremote: Counting objects:  33% (7/21)\u001b[K\rremote: Counting objects:  38% (8/21)\u001b[K\rremote: Counting objects:  42% (9/21)\u001b[K\rremote: Counting objects:  47% (10/21)\u001b[K\rremote: Counting objects:  52% (11/21)\u001b[K\rremote: Counting objects:  57% (12/21)\u001b[K\rremote: Counting objects:  61% (13/21)\u001b[K\rremote: Counting objects:  66% (14/21)\u001b[K\rremote: Counting objects:  71% (15/21)\u001b[K\rremote: Counting objects:  76% (16/21)\u001b[K\rremote: Counting objects:  80% (17/21)\u001b[K\rremote: Counting objects:  85% (18/21)\u001b[K\rremote: Counting objects:  90% (19/21)\u001b[K\rremote: Counting objects:  95% (20/21)\u001b[K\rremote: Counting objects: 100% (21/21)\u001b[K\rremote: Counting objects: 100% (21/21), done.\u001b[K\n",
            "remote: Compressing objects:   5% (1/20)\u001b[K\rremote: Compressing objects:  10% (2/20)\u001b[K\rremote: Compressing objects:  15% (3/20)\u001b[K\rremote: Compressing objects:  20% (4/20)\u001b[K\rremote: Compressing objects:  25% (5/20)\u001b[K\rremote: Compressing objects:  30% (6/20)\u001b[K\rremote: Compressing objects:  35% (7/20)\u001b[K\rremote: Compressing objects:  40% (8/20)\u001b[K\rremote: Compressing objects:  45% (9/20)\u001b[K\rremote: Compressing objects:  50% (10/20)\u001b[K\rremote: Compressing objects:  55% (11/20)\u001b[K\rremote: Compressing objects:  60% (12/20)\u001b[K\rremote: Compressing objects:  65% (13/20)\u001b[K\rremote: Compressing objects:  70% (14/20)\u001b[K\rremote: Compressing objects:  75% (15/20)\u001b[K\rremote: Compressing objects:  80% (16/20)\u001b[K\rremote: Compressing objects:  85% (17/20)\u001b[K\rremote: Compressing objects:  90% (18/20)\u001b[K\rremote: Compressing objects:  95% (19/20)\u001b[K\rremote: Compressing objects: 100% (20/20)\u001b[K\rremote: Compressing objects: 100% (20/20), done.\u001b[K\n",
            "Unpacking objects:   4% (1/21)   \rUnpacking objects:   9% (2/21)   \rUnpacking objects:  14% (3/21)   \rUnpacking objects:  19% (4/21)   \rUnpacking objects:  23% (5/21)   \rUnpacking objects:  28% (6/21)   \rUnpacking objects:  33% (7/21)   \rUnpacking objects:  38% (8/21)   \rUnpacking objects:  42% (9/21)   \rUnpacking objects:  47% (10/21)   \rUnpacking objects:  52% (11/21)   \rUnpacking objects:  57% (12/21)   \rUnpacking objects:  61% (13/21)   \rremote: Total 21 (delta 6), reused 0 (delta 0), pack-reused 0\u001b[K\n",
            "Unpacking objects:  66% (14/21)   \rUnpacking objects:  71% (15/21)   \rUnpacking objects:  76% (16/21)   \rUnpacking objects:  80% (17/21)   \rUnpacking objects:  85% (18/21)   \rUnpacking objects:  90% (19/21)   \rUnpacking objects:  95% (20/21)   \rUnpacking objects: 100% (21/21)   \rUnpacking objects: 100% (21/21), done.\n"
          ],
          "name": "stdout"
        }
      ]
    },
    {
      "cell_type": "markdown",
      "metadata": {
        "id": "i0kHWiPrzQiz",
        "colab_type": "text"
      },
      "source": [
        "Be sure to restart the runtime afterward (on google colab) so that the installation really take place."
      ]
    },
    {
      "cell_type": "code",
      "metadata": {
        "id": "XgsL4WlUzXkC",
        "colab_type": "code",
        "colab": {}
      },
      "source": [
        "import geopandas as gpd  \n",
        "import pandas as pd\n",
        "import skmob\n",
        "from skmob.models.epr import DensityEPR\n",
        "from skmob.models.epr import Ditras\n",
        "from skmob.models.markov_diary_generator import MarkovDiaryGenerator\n",
        "from skmob.preprocessing import filtering, compression, detection, clustering"
      ],
      "execution_count": 0,
      "outputs": []
    },
    {
      "cell_type": "markdown",
      "metadata": {
        "id": "z1B12xLU1KXC",
        "colab_type": "text"
      },
      "source": [
        "Setting up the start time of the simulation, between 1/1/2019 and 15/1/2019"
      ]
    },
    {
      "cell_type": "code",
      "metadata": {
        "id": "1NKOs7WW9HAL",
        "colab_type": "code",
        "colab": {}
      },
      "source": [
        "# Helper function for protecting against duplicates ids\n",
        "def change_uid(x,l):\n",
        "  x = str(x) + l\n",
        "  return x"
      ],
      "execution_count": 0,
      "outputs": []
    },
    {
      "cell_type": "code",
      "metadata": {
        "id": "vUpT5nIg0e7N",
        "colab_type": "code",
        "colab": {}
      },
      "source": [
        "# starting and end times of the simulation\n",
        "start_time = pd.to_datetime('2019/01/01 08:00:00')\n",
        "end_time = pd.to_datetime('2019/01/15 08:00:00')"
      ],
      "execution_count": 0,
      "outputs": []
    },
    {
      "cell_type": "markdown",
      "metadata": {
        "id": "s6Fw4HXx1tss",
        "colab_type": "text"
      },
      "source": [
        "### Irfane simulation"
      ]
    },
    {
      "cell_type": "code",
      "metadata": {
        "id": "5S7lkCUg1QyP",
        "colab_type": "code",
        "colab": {
          "base_uri": "https://localhost:8080/",
          "height": 159
        },
        "outputId": "ef8c2cd5-dbac-490c-8606-8e0b5db94d4e"
      },
      "source": [
        "# Getting irfane data (rabat)\n",
        "irfane_tessellation = gpd.read_file('morocco.geojson/irfane.geojson')\n",
        "depr = DensityEPR()\n",
        "#generating and filtering data to make it as close to real as possible\n",
        "density_tdf = depr.generate(start_time, end_time, irfane_tessellation, relevance_column='population', n_agents=120)\n",
        "density_tdf = filtering.filter(density_tdf, max_speed_kmh=5.)\n",
        "density_tdf = detection.stops(density_tdf, stop_radius_factor=0.5, minutes_for_a_stop=50.0, spatial_radius_km=0.3, leaving_time=False)"
      ],
      "execution_count": 4,
      "outputs": [
        {
          "output_type": "stream",
          "text": [
            "/usr/local/lib/python3.6/dist-packages/scikit_mobility-1.0-py3.6.egg/skmob/models/gravity.py:43: RuntimeWarning: divide by zero encountered in power\n",
            "/usr/local/lib/python3.6/dist-packages/scipy/sparse/lil.py:504: FutureWarning: future versions will not create a writeable array from broadcast_array. Set the writable flag explicitly to avoid this warning.\n",
            "  if not i.flags.writeable or i.dtype not in (np.int32, np.int64):\n",
            "/usr/local/lib/python3.6/dist-packages/scipy/sparse/lil.py:506: FutureWarning: future versions will not create a writeable array from broadcast_array. Set the writable flag explicitly to avoid this warning.\n",
            "  if not j.flags.writeable or j.dtype not in (np.int32, np.int64):\n",
            "/usr/local/lib/python3.6/dist-packages/scipy/sparse/lil.py:510: FutureWarning: future versions will not create a writeable array from broadcast_array. Set the writable flag explicitly to avoid this warning.\n",
            "  if not x.flags.writeable:\n"
          ],
          "name": "stderr"
        }
      ]
    },
    {
      "cell_type": "code",
      "metadata": {
        "id": "0QFFJIzV2iBk",
        "colab_type": "code",
        "colab": {}
      },
      "source": [
        "# changing ids of citizens to not have duplicated later on\n",
        "density_tdf[\"uid\"] = density_tdf[\"uid\"].apply(change_uid,args=[\"a\"])"
      ],
      "execution_count": 0,
      "outputs": []
    },
    {
      "cell_type": "markdown",
      "metadata": {
        "id": "ZietiDS89ZaV",
        "colab_type": "text"
      },
      "source": [
        "We will now generate habits of agents, through the markov diary generator, for Al Irfane"
      ]
    },
    {
      "cell_type": "code",
      "metadata": {
        "id": "86y_IPuK8Ch5",
        "colab_type": "code",
        "colab": {}
      },
      "source": [
        "# load and preprocess data to train the MarkovDiaryGenerator\n",
        "url = 'https://raw.githubusercontent.com/scikit-mobility/scikit-mobility/master/tutorial/data/geolife_sample.txt.gz'\n",
        "df = pd.read_csv(url, sep=',', compression='gzip')\n",
        "tdf = skmob.TrajDataFrame(df, latitude='lat', longitude='lon', user_id='user', datetime='datetime')\n",
        "#ctdf = compression.compress(tdf)\n",
        "stdf = detection.stops(tdf,stop_radius_factor=0.5, minutes_for_a_stop=50.0, spatial_radius_km=0.3, leaving_time=False)\n",
        "markov_tdf = clustering.cluster(stdf)"
      ],
      "execution_count": 0,
      "outputs": []
    },
    {
      "cell_type": "code",
      "metadata": {
        "id": "JldPEamg-2tC",
        "colab_type": "code",
        "colab": {
          "base_uri": "https://localhost:8080/",
          "height": 34
        },
        "outputId": "01b97c26-8ce4-4b86-e75e-a3b1e31b58f8"
      },
      "source": [
        "# instantiate and train the MarkovDiaryGenerator\n",
        "mdg = MarkovDiaryGenerator()\n",
        "mdg.fit(markov_tdf, 2, lid='cluster')"
      ],
      "execution_count": 7,
      "outputs": [
        {
          "output_type": "stream",
          "text": [
            "100%|██████████| 2/2 [00:00<00:00,  3.39it/s]\n"
          ],
          "name": "stderr"
        }
      ]
    },
    {
      "cell_type": "code",
      "metadata": {
        "id": "YdQEAzKS-92t",
        "colab_type": "code",
        "colab": {
          "base_uri": "https://localhost:8080/",
          "height": 176
        },
        "outputId": "aec0072f-742f-4df8-c207-c0b01838d9ab"
      },
      "source": [
        "# instantiate the model\n",
        "ditras = Ditras(mdg)\n",
        "# run the model\n",
        "ditras_tdf = ditras.generate(start_time, end_time, irfane_tessellation, relevance_column='population',\n",
        "                    n_agents=150, od_matrix=None, show_progress=True)"
      ],
      "execution_count": 8,
      "outputs": [
        {
          "output_type": "stream",
          "text": [
            "  0%|          | 0/150 [00:00<?, ?it/s]/usr/local/lib/python3.6/dist-packages/scikit_mobility-1.0-py3.6.egg/skmob/models/gravity.py:43: RuntimeWarning: divide by zero encountered in power\n",
            "/usr/local/lib/python3.6/dist-packages/scipy/sparse/lil.py:504: FutureWarning: future versions will not create a writeable array from broadcast_array. Set the writable flag explicitly to avoid this warning.\n",
            "  if not i.flags.writeable or i.dtype not in (np.int32, np.int64):\n",
            "/usr/local/lib/python3.6/dist-packages/scipy/sparse/lil.py:506: FutureWarning: future versions will not create a writeable array from broadcast_array. Set the writable flag explicitly to avoid this warning.\n",
            "  if not j.flags.writeable or j.dtype not in (np.int32, np.int64):\n",
            "/usr/local/lib/python3.6/dist-packages/scipy/sparse/lil.py:510: FutureWarning: future versions will not create a writeable array from broadcast_array. Set the writable flag explicitly to avoid this warning.\n",
            "  if not x.flags.writeable:\n",
            "100%|██████████| 150/150 [00:02<00:00, 70.02it/s]\n"
          ],
          "name": "stderr"
        }
      ]
    },
    {
      "cell_type": "code",
      "metadata": {
        "id": "dm9Mr7yB_WRS",
        "colab_type": "code",
        "colab": {}
      },
      "source": [
        "# changing ids of citizens to not have duplicated later on\n",
        "ditras_tdf[\"uid\"] = ditras_tdf[\"uid\"].apply(change_uid,args=[\"b\"])"
      ],
      "execution_count": 0,
      "outputs": []
    },
    {
      "cell_type": "code",
      "metadata": {
        "id": "nYH5fpC6_hjF",
        "colab_type": "code",
        "colab": {}
      },
      "source": [
        "irfan_tdf = pd.concat([ditras_tdf,density_tdf],ignore_index=True)"
      ],
      "execution_count": 0,
      "outputs": []
    },
    {
      "cell_type": "code",
      "metadata": {
        "id": "a4kobJLjAzZ7",
        "colab_type": "code",
        "colab": {}
      },
      "source": [
        "irfan_tdf.to_csv(\"irfan_mobility.csv\")"
      ],
      "execution_count": 0,
      "outputs": []
    },
    {
      "cell_type": "markdown",
      "metadata": {
        "id": "NacCt8T4aL3O",
        "colab_type": "text"
      },
      "source": [
        "### Agdal Simulation"
      ]
    },
    {
      "cell_type": "code",
      "metadata": {
        "id": "0Mzq85DaV98k",
        "colab_type": "code",
        "colab": {
          "base_uri": "https://localhost:8080/",
          "height": 159
        },
        "outputId": "e857eae1-ea45-4666-d617-a3c21dc6dc21"
      },
      "source": [
        "# Getting Agdal data (rabat)\n",
        "agdal_tessellation = gpd.read_file('morocco.geojson/agdal.geojson')\n",
        "depr = DensityEPR()\n",
        "#generating and filtering data to make it as close to real as possible\n",
        "density_tdf = depr.generate(start_time, end_time, agdal_tessellation, relevance_column='population', n_agents=120)\n",
        "density_tdf = filtering.filter(density_tdf, max_speed_kmh=5.)\n",
        "density_tdf = detection.stops(density_tdf, stop_radius_factor=0.5, minutes_for_a_stop=50.0, spatial_radius_km=0.3, leaving_time=False)"
      ],
      "execution_count": 12,
      "outputs": [
        {
          "output_type": "stream",
          "text": [
            "/usr/local/lib/python3.6/dist-packages/scikit_mobility-1.0-py3.6.egg/skmob/models/gravity.py:43: RuntimeWarning: divide by zero encountered in power\n",
            "/usr/local/lib/python3.6/dist-packages/scipy/sparse/lil.py:504: FutureWarning: future versions will not create a writeable array from broadcast_array. Set the writable flag explicitly to avoid this warning.\n",
            "  if not i.flags.writeable or i.dtype not in (np.int32, np.int64):\n",
            "/usr/local/lib/python3.6/dist-packages/scipy/sparse/lil.py:506: FutureWarning: future versions will not create a writeable array from broadcast_array. Set the writable flag explicitly to avoid this warning.\n",
            "  if not j.flags.writeable or j.dtype not in (np.int32, np.int64):\n",
            "/usr/local/lib/python3.6/dist-packages/scipy/sparse/lil.py:510: FutureWarning: future versions will not create a writeable array from broadcast_array. Set the writable flag explicitly to avoid this warning.\n",
            "  if not x.flags.writeable:\n"
          ],
          "name": "stderr"
        }
      ]
    },
    {
      "cell_type": "code",
      "metadata": {
        "id": "2FYEWtl8aQ6E",
        "colab_type": "code",
        "colab": {}
      },
      "source": [
        "# changing ids of citizens to not have duplicated later on\n",
        "density_tdf[\"uid\"] = density_tdf[\"uid\"].apply(change_uid,args=[\"c\"])"
      ],
      "execution_count": 0,
      "outputs": []
    },
    {
      "cell_type": "code",
      "metadata": {
        "id": "xjmGijqEbFLL",
        "colab_type": "code",
        "colab": {
          "base_uri": "https://localhost:8080/",
          "height": 34
        },
        "outputId": "a008346e-4ebd-41a3-8c99-120af9bfbeea"
      },
      "source": [
        "# load and preprocess data to train the MarkovDiaryGenerator\n",
        "url = 'https://raw.githubusercontent.com/scikit-mobility/scikit-mobility/master/tutorial/data/geolife_sample.txt.gz'\n",
        "df = pd.read_csv(url, sep=',', compression='gzip')\n",
        "tdf = skmob.TrajDataFrame(df, latitude='lat', longitude='lon', user_id='user', datetime='datetime')\n",
        "#ctdf = compression.compress(tdf)\n",
        "stdf = detection.stops(tdf,stop_radius_factor=0.5, minutes_for_a_stop=50.0, spatial_radius_km=0.3, leaving_time=False)\n",
        "markov_tdf = clustering.cluster(stdf)\n",
        "# instantiate and train the MarkovDiaryGenerator\n",
        "mdg = MarkovDiaryGenerator()\n",
        "mdg.fit(markov_tdf, 2, lid='cluster')"
      ],
      "execution_count": 14,
      "outputs": [
        {
          "output_type": "stream",
          "text": [
            "100%|██████████| 2/2 [00:00<00:00,  3.45it/s]\n"
          ],
          "name": "stderr"
        }
      ]
    },
    {
      "cell_type": "code",
      "metadata": {
        "id": "ka8avpAwbP40",
        "colab_type": "code",
        "colab": {
          "base_uri": "https://localhost:8080/",
          "height": 176
        },
        "outputId": "510c9631-9658-4424-ff6c-2c169e5b6f47"
      },
      "source": [
        "# instantiate the model\n",
        "ditras = Ditras(mdg)\n",
        "# run the model\n",
        "ditras_tdf = ditras.generate(start_time, end_time, agdal_tessellation, relevance_column='population',\n",
        "                    n_agents=150, od_matrix=None, show_progress=True)"
      ],
      "execution_count": 15,
      "outputs": [
        {
          "output_type": "stream",
          "text": [
            "  0%|          | 0/150 [00:00<?, ?it/s]/usr/local/lib/python3.6/dist-packages/scikit_mobility-1.0-py3.6.egg/skmob/models/gravity.py:43: RuntimeWarning: divide by zero encountered in power\n",
            "/usr/local/lib/python3.6/dist-packages/scipy/sparse/lil.py:504: FutureWarning: future versions will not create a writeable array from broadcast_array. Set the writable flag explicitly to avoid this warning.\n",
            "  if not i.flags.writeable or i.dtype not in (np.int32, np.int64):\n",
            "/usr/local/lib/python3.6/dist-packages/scipy/sparse/lil.py:506: FutureWarning: future versions will not create a writeable array from broadcast_array. Set the writable flag explicitly to avoid this warning.\n",
            "  if not j.flags.writeable or j.dtype not in (np.int32, np.int64):\n",
            "/usr/local/lib/python3.6/dist-packages/scipy/sparse/lil.py:510: FutureWarning: future versions will not create a writeable array from broadcast_array. Set the writable flag explicitly to avoid this warning.\n",
            "  if not x.flags.writeable:\n",
            "100%|██████████| 150/150 [00:02<00:00, 73.32it/s]\n"
          ],
          "name": "stderr"
        }
      ]
    },
    {
      "cell_type": "code",
      "metadata": {
        "id": "PCp2JthTbV-T",
        "colab_type": "code",
        "colab": {}
      },
      "source": [
        "# changing ids of citizens to not have duplicated later on\n",
        "ditras_tdf[\"uid\"] = ditras_tdf[\"uid\"].apply(change_uid,args=[\"d\"])"
      ],
      "execution_count": 0,
      "outputs": []
    },
    {
      "cell_type": "code",
      "metadata": {
        "id": "bMY-2VFpbbMe",
        "colab_type": "code",
        "colab": {}
      },
      "source": [
        "agdal_tdf = pd.concat([ditras_tdf,density_tdf],ignore_index=True)"
      ],
      "execution_count": 0,
      "outputs": []
    },
    {
      "cell_type": "code",
      "metadata": {
        "id": "BdywxAAybgUz",
        "colab_type": "code",
        "colab": {}
      },
      "source": [
        "agdal_tdf.to_csv(\"agdal_mobility.csv\")"
      ],
      "execution_count": 0,
      "outputs": []
    },
    {
      "cell_type": "markdown",
      "metadata": {
        "id": "r8stUvf_c6Y1",
        "colab_type": "text"
      },
      "source": [
        "### Aggregate results"
      ]
    },
    {
      "cell_type": "code",
      "metadata": {
        "id": "ppbtxRRRb103",
        "colab_type": "code",
        "colab": {
          "base_uri": "https://localhost:8080/",
          "height": 159
        },
        "outputId": "161061d2-f1f6-4762-f891-bbde6b7efae6"
      },
      "source": [
        "# Getting Agdal data (rabat)\n",
        "dual_tessellation = gpd.read_file('morocco.geojson/agdal_irfane.geojson')\n",
        "depr = DensityEPR()\n",
        "#generating and filtering data to make it as close to real as possible\n",
        "density_tdf = depr.generate(start_time, end_time, dual_tessellation, relevance_column='population', n_agents=120)\n",
        "density_tdf = filtering.filter(density_tdf, max_speed_kmh=5.)\n",
        "density_tdf = detection.stops(density_tdf, stop_radius_factor=0.5, minutes_for_a_stop=50.0, spatial_radius_km=0.3, leaving_time=False)"
      ],
      "execution_count": 19,
      "outputs": [
        {
          "output_type": "stream",
          "text": [
            "/usr/local/lib/python3.6/dist-packages/scikit_mobility-1.0-py3.6.egg/skmob/models/gravity.py:43: RuntimeWarning: divide by zero encountered in power\n",
            "/usr/local/lib/python3.6/dist-packages/scipy/sparse/lil.py:504: FutureWarning: future versions will not create a writeable array from broadcast_array. Set the writable flag explicitly to avoid this warning.\n",
            "  if not i.flags.writeable or i.dtype not in (np.int32, np.int64):\n",
            "/usr/local/lib/python3.6/dist-packages/scipy/sparse/lil.py:506: FutureWarning: future versions will not create a writeable array from broadcast_array. Set the writable flag explicitly to avoid this warning.\n",
            "  if not j.flags.writeable or j.dtype not in (np.int32, np.int64):\n",
            "/usr/local/lib/python3.6/dist-packages/scipy/sparse/lil.py:510: FutureWarning: future versions will not create a writeable array from broadcast_array. Set the writable flag explicitly to avoid this warning.\n",
            "  if not x.flags.writeable:\n"
          ],
          "name": "stderr"
        }
      ]
    },
    {
      "cell_type": "code",
      "metadata": {
        "id": "FL2S9KRPc3mQ",
        "colab_type": "code",
        "colab": {}
      },
      "source": [
        "# changing ids of citizens to not have duplicated later on\n",
        "density_tdf[\"uid\"] = density_tdf[\"uid\"].apply(change_uid,args=[\"e\"])"
      ],
      "execution_count": 0,
      "outputs": []
    },
    {
      "cell_type": "code",
      "metadata": {
        "id": "OonFSChndUPy",
        "colab_type": "code",
        "colab": {
          "base_uri": "https://localhost:8080/",
          "height": 34
        },
        "outputId": "a5daa915-a40a-4f49-df71-a3c42183aea5"
      },
      "source": [
        "# load and preprocess data to train the MarkovDiaryGenerator\n",
        "url = 'https://raw.githubusercontent.com/scikit-mobility/scikit-mobility/master/tutorial/data/geolife_sample.txt.gz'\n",
        "df = pd.read_csv(url, sep=',', compression='gzip')\n",
        "tdf = skmob.TrajDataFrame(df, latitude='lat', longitude='lon', user_id='user', datetime='datetime')\n",
        "#ctdf = compression.compress(tdf)\n",
        "stdf = detection.stops(tdf,stop_radius_factor=0.5, minutes_for_a_stop=50.0, spatial_radius_km=0.3, leaving_time=False)\n",
        "markov_tdf = clustering.cluster(stdf)\n",
        "# instantiate and train the MarkovDiaryGenerator\n",
        "mdg = MarkovDiaryGenerator()\n",
        "mdg.fit(markov_tdf, 2, lid='cluster')"
      ],
      "execution_count": 21,
      "outputs": [
        {
          "output_type": "stream",
          "text": [
            "100%|██████████| 2/2 [00:00<00:00,  3.45it/s]\n"
          ],
          "name": "stderr"
        }
      ]
    },
    {
      "cell_type": "code",
      "metadata": {
        "id": "elNOaS3WdZMX",
        "colab_type": "code",
        "colab": {
          "base_uri": "https://localhost:8080/",
          "height": 176
        },
        "outputId": "a6879e17-5601-402b-bd56-bd1fcda8f758"
      },
      "source": [
        "# instantiate the model\n",
        "ditras = Ditras(mdg)\n",
        "# run the model\n",
        "ditras_tdf = ditras.generate(start_time, end_time, dual_tessellation, relevance_column='population',\n",
        "                    n_agents=150, od_matrix=None, show_progress=True)"
      ],
      "execution_count": 22,
      "outputs": [
        {
          "output_type": "stream",
          "text": [
            "  0%|          | 0/150 [00:00<?, ?it/s]/usr/local/lib/python3.6/dist-packages/scikit_mobility-1.0-py3.6.egg/skmob/models/gravity.py:43: RuntimeWarning: divide by zero encountered in power\n",
            "/usr/local/lib/python3.6/dist-packages/scipy/sparse/lil.py:504: FutureWarning: future versions will not create a writeable array from broadcast_array. Set the writable flag explicitly to avoid this warning.\n",
            "  if not i.flags.writeable or i.dtype not in (np.int32, np.int64):\n",
            "/usr/local/lib/python3.6/dist-packages/scipy/sparse/lil.py:506: FutureWarning: future versions will not create a writeable array from broadcast_array. Set the writable flag explicitly to avoid this warning.\n",
            "  if not j.flags.writeable or j.dtype not in (np.int32, np.int64):\n",
            "/usr/local/lib/python3.6/dist-packages/scipy/sparse/lil.py:510: FutureWarning: future versions will not create a writeable array from broadcast_array. Set the writable flag explicitly to avoid this warning.\n",
            "  if not x.flags.writeable:\n",
            "100%|██████████| 150/150 [00:02<00:00, 70.85it/s]\n"
          ],
          "name": "stderr"
        }
      ]
    },
    {
      "cell_type": "code",
      "metadata": {
        "id": "8kmGmAvWdbvS",
        "colab_type": "code",
        "colab": {}
      },
      "source": [
        "# changing ids of citizens to not have duplicated later on\n",
        "ditras_tdf[\"uid\"] = ditras_tdf[\"uid\"].apply(change_uid,args=[\"f\"])"
      ],
      "execution_count": 0,
      "outputs": []
    },
    {
      "cell_type": "code",
      "metadata": {
        "id": "6oT6RkSodeW2",
        "colab_type": "code",
        "colab": {}
      },
      "source": [
        "dual_tdf = pd.concat([ditras_tdf,density_tdf],ignore_index=True)"
      ],
      "execution_count": 0,
      "outputs": []
    },
    {
      "cell_type": "code",
      "metadata": {
        "id": "iEMqSJ1idjEW",
        "colab_type": "code",
        "colab": {}
      },
      "source": [
        "simulation_tdf = pd.concat([agdal_tdf,irfan_tdf,dual_tdf],ignore_index=True)"
      ],
      "execution_count": 0,
      "outputs": []
    },
    {
      "cell_type": "code",
      "metadata": {
        "id": "6y_dvOYKeEw_",
        "colab_type": "code",
        "colab": {}
      },
      "source": [
        "simulation_tdf.to_csv('simulation_data.csv')"
      ],
      "execution_count": 0,
      "outputs": []
    },
    {
      "cell_type": "markdown",
      "metadata": {
        "id": "OXmMoAQ4JuDT",
        "colab_type": "text"
      },
      "source": [
        "# Data cleaning and preparation"
      ]
    },
    {
      "cell_type": "code",
      "metadata": {
        "id": "9J7ZjaWCJjPp",
        "colab_type": "code",
        "colab": {}
      },
      "source": [
        "import pandas as pd\n",
        "simulation_tdf = pd.read_csv('simulation_data.csv')"
      ],
      "execution_count": 0,
      "outputs": []
    },
    {
      "cell_type": "code",
      "metadata": {
        "id": "9dJ-iXjnmae3",
        "colab_type": "code",
        "colab": {}
      },
      "source": [
        "import json\n",
        "from shapely.geometry import shape, Point"
      ],
      "execution_count": 0,
      "outputs": []
    },
    {
      "cell_type": "code",
      "metadata": {
        "id": "_n-9uJPumhVI",
        "colab_type": "code",
        "colab": {}
      },
      "source": [
        "# load GeoJSON file containing sectors\n",
        "with open('morocco.geojson/agdal_irfane.geojson', 'r') as f:\n",
        "  js = json.load(f)"
      ],
      "execution_count": 0,
      "outputs": []
    },
    {
      "cell_type": "code",
      "metadata": {
        "id": "S9JBueix1hIR",
        "colab_type": "code",
        "colab": {}
      },
      "source": [
        "def get_zone_id(x):\n",
        "  point = Point( x[\"lng\"],x[\"lat\"])\n",
        "  zone_id = \"\"\n",
        "  for feature in js['features']:\n",
        "    polygon = shape(feature['geometry'])\n",
        "    if polygon.contains(point):\n",
        "      zone_id = feature['properties']['id']\n",
        "  x['zone_id'] = zone_id\n",
        "  return x"
      ],
      "execution_count": 0,
      "outputs": []
    },
    {
      "cell_type": "code",
      "metadata": {
        "id": "v7dtWR87Ak3X",
        "colab_type": "code",
        "colab": {}
      },
      "source": [
        "# Adding the ids of the zones \n",
        "simulation_tdf = simulation_tdf.apply(get_zone_id,axis=1)\n",
        "\n",
        "# Filtering zones without a registered zone id\n",
        "simulation_tdf = simulation_tdf[simulation_tdf['zone_id'] != \"\"][[\"uid\",\"datetime\",\"lat\",\"lng\",\"zone_id\"]]"
      ],
      "execution_count": 0,
      "outputs": []
    },
    {
      "cell_type": "code",
      "metadata": {
        "id": "QsuN6MCngNDS",
        "colab_type": "code",
        "colab": {}
      },
      "source": [
        "from datetime import datetime\n",
        "def get_date_precision(x):\n",
        "  x['datetime_clipped'] = datetime.strptime(x['datetime'].split(':')[0]+\":\"+x['datetime'].split(':')[1], '%Y-%m-%d %H:%M')#:%M:%S')\n",
        "  return x"
      ],
      "execution_count": 0,
      "outputs": []
    },
    {
      "cell_type": "code",
      "metadata": {
        "id": "p-0VmN8TlNMH",
        "colab_type": "code",
        "colab": {}
      },
      "source": [
        "# Clip datetime by the hour\n",
        "simulation_tdf = simulation_tdf.apply(get_date_precision,axis=1)"
      ],
      "execution_count": 0,
      "outputs": []
    },
    {
      "cell_type": "code",
      "metadata": {
        "id": "WQS7J52vxsvS",
        "colab_type": "code",
        "colab": {}
      },
      "source": [
        "import geopy.distance\n",
        "\n",
        "def get_distance(x):\n",
        "  coords_1 = (x['lat_x'], x['lng_x'])\n",
        "  coords_2 = (x['lat_y'], x['lng_y'])\n",
        "  km_distance = geopy.distance.distance(coords_1, coords_2).km\n",
        "  x['distance'] = km_distance * 1000\n",
        "  return x"
      ],
      "execution_count": 0,
      "outputs": []
    },
    {
      "cell_type": "code",
      "metadata": {
        "id": "OD2HgA_jBpFX",
        "colab_type": "code",
        "colab": {}
      },
      "source": [
        "merged_tdf = simulation_tdf.merge(simulation_tdf, how='left',on=[\"datetime_clipped\",\"zone_id\"])\n",
        "\n",
        "# Filter to not keep couples if they have same id\n",
        "merged_tdf = merged_tdf[merged_tdf['uid_x'] != merged_tdf['uid_y']]\n",
        "\n",
        "# Compute distance between each two citizens\n",
        "merged_tdf = merged_tdf.apply(get_distance,axis=1)\n",
        "\n",
        "# Filter for distances lower than 7 meters between citizens\n",
        "merged_tdf = merged_tdf[merged_tdf['distance']< 7]"
      ],
      "execution_count": 0,
      "outputs": []
    },
    {
      "cell_type": "code",
      "metadata": {
        "id": "0PiuMSrdHm_y",
        "colab_type": "code",
        "colab": {}
      },
      "source": [
        "# Getting users around in each time \n",
        "temp_tdf = merged_tdf.groupby(['uid_x','datetime_clipped','zone_id'])['uid_y'].apply(','.join).reset_index()\n",
        "temp_tdf = temp_tdf.rename(columns = {'uid_y':'ble_users'})\n",
        "ble_tdf = merged_tdf[['uid_x','datetime_x','lat_x','lng_x','zone_id','datetime_clipped']].merge(temp_tdf,how='inner', on=['uid_x','datetime_clipped','zone_id']).drop_duplicates()\n",
        "ble_tdf = ble_tdf.rename(columns = {'uid_x':'uid','datetime_x':'datetime','lat_x':'lat','lng_x':'lng'})\n",
        "\n",
        "# Delete the first second of the simulation, and last second of the simulation, as a lot of people are near each other in it\n",
        "ble_tdf = ble_tdf[ble_tdf['datetime'] != '2019-01-01 08:00:00.000000']\n",
        "ble_tdf = ble_tdf[ble_tdf['datetime'] != '2019-01-15 08:00:00.000000']"
      ],
      "execution_count": 0,
      "outputs": []
    },
    {
      "cell_type": "code",
      "metadata": {
        "id": "REBlR5xP7FQD",
        "colab_type": "code",
        "colab": {}
      },
      "source": [
        "ble_tdf.to_csv('full_mobility_data.csv')"
      ],
      "execution_count": 0,
      "outputs": []
    },
    {
      "cell_type": "code",
      "metadata": {
        "id": "g1C2hy3z5i8j",
        "colab_type": "code",
        "colab": {}
      },
      "source": [
        ""
      ],
      "execution_count": 0,
      "outputs": []
    }
  ]
}
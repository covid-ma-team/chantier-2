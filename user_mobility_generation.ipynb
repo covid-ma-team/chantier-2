{
  "nbformat": 4,
  "nbformat_minor": 0,
  "metadata": {
    "colab": {
      "name": "Citizen Tracing.ipynb",
      "provenance": [],
      "collapsed_sections": []
    },
    "kernelspec": {
      "name": "python3",
      "display_name": "Python 3"
    }
  },
  "cells": [
    {
      "cell_type": "markdown",
      "metadata": {
        "id": "DX0K9yxCzEWP",
        "colab_type": "text"
      },
      "source": [
        "# Installation :\n"
      ]
    },
    {
      "cell_type": "code",
      "metadata": {
        "id": "26Qj8qRMzISi",
        "colab_type": "code",
        "colab": {}
      },
      "source": [
        "!git clone https://github.com/scikit-mobility/scikit-mobility.git\n",
        "!cd scikit-mobility && python3 setup.py install\n",
        "!pip3 install scikit-mobility\n",
        "!git clone https://github.com/IhabBendidi/morocco.geojson.git"
      ],
      "execution_count": 0,
      "outputs": []
    },
    {
      "cell_type": "markdown",
      "metadata": {
        "id": "i0kHWiPrzQiz",
        "colab_type": "text"
      },
      "source": [
        "Be sure to restart the runtime afterward (on google colab) so that the installation really take place."
      ]
    },
    {
      "cell_type": "code",
      "metadata": {
        "id": "XgsL4WlUzXkC",
        "colab_type": "code",
        "colab": {}
      },
      "source": [
        "import geopandas as gpd  \n",
        "import pandas as pd\n",
        "import skmob\n",
        "from skmob.models.epr import DensityEPR\n",
        "from skmob.models.epr import Ditras\n",
        "from skmob.models.markov_diary_generator import MarkovDiaryGenerator\n",
        "from skmob.preprocessing import filtering, compression, detection, clustering"
      ],
      "execution_count": 0,
      "outputs": []
    },
    {
      "cell_type": "markdown",
      "metadata": {
        "id": "z1B12xLU1KXC",
        "colab_type": "text"
      },
      "source": [
        "Setting up the start time of the simulation, between 1/1/2019 and 15/1/2019"
      ]
    },
    {
      "cell_type": "code",
      "metadata": {
        "id": "1NKOs7WW9HAL",
        "colab_type": "code",
        "colab": {}
      },
      "source": [
        "# Helper function for protecting against duplicates ids\n",
        "def change_uid(x,l):\n",
        "  x = str(x) + l\n",
        "  return x"
      ],
      "execution_count": 0,
      "outputs": []
    },
    {
      "cell_type": "code",
      "metadata": {
        "id": "vUpT5nIg0e7N",
        "colab_type": "code",
        "colab": {}
      },
      "source": [
        "# starting and end times of the simulation\n",
        "start_time = pd.to_datetime('2019/01/01 08:00:00')\n",
        "end_time = pd.to_datetime('2019/01/15 08:00:00')"
      ],
      "execution_count": 0,
      "outputs": []
    },
    {
      "cell_type": "markdown",
      "metadata": {
        "id": "s6Fw4HXx1tss",
        "colab_type": "text"
      },
      "source": [
        "### Irfane simulation"
      ]
    },
    {
      "cell_type": "code",
      "metadata": {
        "id": "5S7lkCUg1QyP",
        "colab_type": "code",
        "colab": {
          "base_uri": "https://localhost:8080/",
          "height": 159
        },
        "outputId": "e431128c-3dbf-4e01-c06d-65ef88178b1c"
      },
      "source": [
        "# Getting irfane data (rabat)\n",
        "irfane_tessellation = gpd.read_file('morocco.geojson/irfane.geojson')\n",
        "depr = DensityEPR()\n",
        "#generating and filtering data to make it as close to real as possible\n",
        "density_tdf = depr.generate(start_time, end_time, irfane_tessellation, relevance_column='population', n_agents=120)\n",
        "density_tdf = filtering.filter(density_tdf, max_speed_kmh=5.)\n",
        "density_tdf = detection.stops(density_tdf, stop_radius_factor=0.5, minutes_for_a_stop=50.0, spatial_radius_km=0.3, leaving_time=False)"
      ],
      "execution_count": 4,
      "outputs": [
        {
          "output_type": "stream",
          "text": [
            "/usr/local/lib/python3.6/dist-packages/scikit_mobility-1.0-py3.6.egg/skmob/models/gravity.py:43: RuntimeWarning: divide by zero encountered in power\n",
            "/usr/local/lib/python3.6/dist-packages/scipy/sparse/lil.py:504: FutureWarning: future versions will not create a writeable array from broadcast_array. Set the writable flag explicitly to avoid this warning.\n",
            "  if not i.flags.writeable or i.dtype not in (np.int32, np.int64):\n",
            "/usr/local/lib/python3.6/dist-packages/scipy/sparse/lil.py:506: FutureWarning: future versions will not create a writeable array from broadcast_array. Set the writable flag explicitly to avoid this warning.\n",
            "  if not j.flags.writeable or j.dtype not in (np.int32, np.int64):\n",
            "/usr/local/lib/python3.6/dist-packages/scipy/sparse/lil.py:510: FutureWarning: future versions will not create a writeable array from broadcast_array. Set the writable flag explicitly to avoid this warning.\n",
            "  if not x.flags.writeable:\n"
          ],
          "name": "stderr"
        }
      ]
    },
    {
      "cell_type": "code",
      "metadata": {
        "id": "0QFFJIzV2iBk",
        "colab_type": "code",
        "colab": {}
      },
      "source": [
        "# changing ids of citizens to not have duplicated later on\n",
        "density_tdf[\"uid\"] = density_tdf[\"uid\"].apply(change_uid,args=[\"a\"])"
      ],
      "execution_count": 0,
      "outputs": []
    },
    {
      "cell_type": "markdown",
      "metadata": {
        "id": "ZietiDS89ZaV",
        "colab_type": "text"
      },
      "source": [
        "We will now generate habits of agents, through the markov diary generator, for Al Irfane"
      ]
    },
    {
      "cell_type": "code",
      "metadata": {
        "id": "86y_IPuK8Ch5",
        "colab_type": "code",
        "colab": {}
      },
      "source": [
        "# load and preprocess data to train the MarkovDiaryGenerator\n",
        "url = 'https://raw.githubusercontent.com/scikit-mobility/scikit-mobility/master/tutorial/data/geolife_sample.txt.gz'\n",
        "df = pd.read_csv(url, sep=',', compression='gzip')\n",
        "tdf = skmob.TrajDataFrame(df, latitude='lat', longitude='lon', user_id='user', datetime='datetime')\n",
        "#ctdf = compression.compress(tdf)\n",
        "stdf = detection.stops(tdf,stop_radius_factor=0.5, minutes_for_a_stop=50.0, spatial_radius_km=0.3, leaving_time=False)\n",
        "markov_tdf = clustering.cluster(stdf)"
      ],
      "execution_count": 0,
      "outputs": []
    },
    {
      "cell_type": "code",
      "metadata": {
        "id": "JldPEamg-2tC",
        "colab_type": "code",
        "outputId": "e35a99f0-a25f-4174-9c6d-66c20e7ace09",
        "colab": {
          "base_uri": "https://localhost:8080/",
          "height": 34
        }
      },
      "source": [
        "# instantiate and train the MarkovDiaryGenerator\n",
        "mdg = MarkovDiaryGenerator()\n",
        "mdg.fit(markov_tdf, 2, lid='cluster')"
      ],
      "execution_count": 7,
      "outputs": [
        {
          "output_type": "stream",
          "text": [
            "100%|██████████| 2/2 [00:00<00:00,  3.34it/s]\n"
          ],
          "name": "stderr"
        }
      ]
    },
    {
      "cell_type": "code",
      "metadata": {
        "id": "YdQEAzKS-92t",
        "colab_type": "code",
        "colab": {
          "base_uri": "https://localhost:8080/",
          "height": 176
        },
        "outputId": "b0bbcdb9-4a81-47b1-f4a9-55ba2b6c9e1b"
      },
      "source": [
        "# instantiate the model\n",
        "ditras = Ditras(mdg)\n",
        "# run the model\n",
        "ditras_tdf = ditras.generate(start_time, end_time, irfane_tessellation, relevance_column='population',\n",
        "                    n_agents=150, od_matrix=None, show_progress=True)"
      ],
      "execution_count": 8,
      "outputs": [
        {
          "output_type": "stream",
          "text": [
            "  0%|          | 0/150 [00:00<?, ?it/s]/usr/local/lib/python3.6/dist-packages/scikit_mobility-1.0-py3.6.egg/skmob/models/gravity.py:43: RuntimeWarning: divide by zero encountered in power\n",
            "/usr/local/lib/python3.6/dist-packages/scipy/sparse/lil.py:504: FutureWarning: future versions will not create a writeable array from broadcast_array. Set the writable flag explicitly to avoid this warning.\n",
            "  if not i.flags.writeable or i.dtype not in (np.int32, np.int64):\n",
            "/usr/local/lib/python3.6/dist-packages/scipy/sparse/lil.py:506: FutureWarning: future versions will not create a writeable array from broadcast_array. Set the writable flag explicitly to avoid this warning.\n",
            "  if not j.flags.writeable or j.dtype not in (np.int32, np.int64):\n",
            "/usr/local/lib/python3.6/dist-packages/scipy/sparse/lil.py:510: FutureWarning: future versions will not create a writeable array from broadcast_array. Set the writable flag explicitly to avoid this warning.\n",
            "  if not x.flags.writeable:\n",
            "100%|██████████| 150/150 [00:02<00:00, 68.02it/s]\n"
          ],
          "name": "stderr"
        }
      ]
    },
    {
      "cell_type": "code",
      "metadata": {
        "id": "dm9Mr7yB_WRS",
        "colab_type": "code",
        "colab": {}
      },
      "source": [
        "# changing ids of citizens to not have duplicated later on\n",
        "ditras_tdf[\"uid\"] = ditras_tdf[\"uid\"].apply(change_uid,args=[\"b\"])"
      ],
      "execution_count": 0,
      "outputs": []
    },
    {
      "cell_type": "code",
      "metadata": {
        "id": "nYH5fpC6_hjF",
        "colab_type": "code",
        "colab": {}
      },
      "source": [
        "irfan_tdf = pd.concat([ditras_tdf,density_tdf],ignore_index=True)"
      ],
      "execution_count": 0,
      "outputs": []
    },
    {
      "cell_type": "code",
      "metadata": {
        "id": "a4kobJLjAzZ7",
        "colab_type": "code",
        "colab": {}
      },
      "source": [
        "irfan_tdf.to_csv(\"irfan_mobility.csv\")"
      ],
      "execution_count": 0,
      "outputs": []
    },
    {
      "cell_type": "markdown",
      "metadata": {
        "id": "NacCt8T4aL3O",
        "colab_type": "text"
      },
      "source": [
        "### Agdal Simulation"
      ]
    },
    {
      "cell_type": "code",
      "metadata": {
        "id": "0Mzq85DaV98k",
        "colab_type": "code",
        "colab": {
          "base_uri": "https://localhost:8080/",
          "height": 159
        },
        "outputId": "61a8d3fe-7994-43f1-bc18-0eb8619e2f54"
      },
      "source": [
        "# Getting Agdal data (rabat)\n",
        "agdal_tessellation = gpd.read_file('morocco.geojson/agdal.geojson')\n",
        "depr = DensityEPR()\n",
        "#generating and filtering data to make it as close to real as possible\n",
        "density_tdf = depr.generate(start_time, end_time, agdal_tessellation, relevance_column='population', n_agents=120)\n",
        "density_tdf = filtering.filter(density_tdf, max_speed_kmh=5.)\n",
        "density_tdf = detection.stops(density_tdf, stop_radius_factor=0.5, minutes_for_a_stop=50.0, spatial_radius_km=0.3, leaving_time=False)"
      ],
      "execution_count": 12,
      "outputs": [
        {
          "output_type": "stream",
          "text": [
            "/usr/local/lib/python3.6/dist-packages/scikit_mobility-1.0-py3.6.egg/skmob/models/gravity.py:43: RuntimeWarning: divide by zero encountered in power\n",
            "/usr/local/lib/python3.6/dist-packages/scipy/sparse/lil.py:504: FutureWarning: future versions will not create a writeable array from broadcast_array. Set the writable flag explicitly to avoid this warning.\n",
            "  if not i.flags.writeable or i.dtype not in (np.int32, np.int64):\n",
            "/usr/local/lib/python3.6/dist-packages/scipy/sparse/lil.py:506: FutureWarning: future versions will not create a writeable array from broadcast_array. Set the writable flag explicitly to avoid this warning.\n",
            "  if not j.flags.writeable or j.dtype not in (np.int32, np.int64):\n",
            "/usr/local/lib/python3.6/dist-packages/scipy/sparse/lil.py:510: FutureWarning: future versions will not create a writeable array from broadcast_array. Set the writable flag explicitly to avoid this warning.\n",
            "  if not x.flags.writeable:\n"
          ],
          "name": "stderr"
        }
      ]
    },
    {
      "cell_type": "code",
      "metadata": {
        "id": "2FYEWtl8aQ6E",
        "colab_type": "code",
        "colab": {}
      },
      "source": [
        "# changing ids of citizens to not have duplicated later on\n",
        "density_tdf[\"uid\"] = density_tdf[\"uid\"].apply(change_uid,args=[\"c\"])"
      ],
      "execution_count": 0,
      "outputs": []
    },
    {
      "cell_type": "code",
      "metadata": {
        "id": "xjmGijqEbFLL",
        "colab_type": "code",
        "colab": {
          "base_uri": "https://localhost:8080/",
          "height": 34
        },
        "outputId": "df66098e-e7d1-49b9-b979-49fc1d370fc7"
      },
      "source": [
        "# load and preprocess data to train the MarkovDiaryGenerator\n",
        "url = 'https://raw.githubusercontent.com/scikit-mobility/scikit-mobility/master/tutorial/data/geolife_sample.txt.gz'\n",
        "df = pd.read_csv(url, sep=',', compression='gzip')\n",
        "tdf = skmob.TrajDataFrame(df, latitude='lat', longitude='lon', user_id='user', datetime='datetime')\n",
        "#ctdf = compression.compress(tdf)\n",
        "stdf = detection.stops(tdf,stop_radius_factor=0.5, minutes_for_a_stop=50.0, spatial_radius_km=0.3, leaving_time=False)\n",
        "markov_tdf = clustering.cluster(stdf)\n",
        "# instantiate and train the MarkovDiaryGenerator\n",
        "mdg = MarkovDiaryGenerator()\n",
        "mdg.fit(markov_tdf, 2, lid='cluster')"
      ],
      "execution_count": 14,
      "outputs": [
        {
          "output_type": "stream",
          "text": [
            "100%|██████████| 2/2 [00:00<00:00,  3.34it/s]\n"
          ],
          "name": "stderr"
        }
      ]
    },
    {
      "cell_type": "code",
      "metadata": {
        "id": "ka8avpAwbP40",
        "colab_type": "code",
        "colab": {
          "base_uri": "https://localhost:8080/",
          "height": 176
        },
        "outputId": "36934981-a63b-4c6f-8b37-e80263de2b40"
      },
      "source": [
        "# instantiate the model\n",
        "ditras = Ditras(mdg)\n",
        "# run the model\n",
        "ditras_tdf = ditras.generate(start_time, end_time, agdal_tessellation, relevance_column='population',\n",
        "                    n_agents=150, od_matrix=None, show_progress=True)"
      ],
      "execution_count": 15,
      "outputs": [
        {
          "output_type": "stream",
          "text": [
            "  0%|          | 0/150 [00:00<?, ?it/s]/usr/local/lib/python3.6/dist-packages/scikit_mobility-1.0-py3.6.egg/skmob/models/gravity.py:43: RuntimeWarning: divide by zero encountered in power\n",
            "/usr/local/lib/python3.6/dist-packages/scipy/sparse/lil.py:504: FutureWarning: future versions will not create a writeable array from broadcast_array. Set the writable flag explicitly to avoid this warning.\n",
            "  if not i.flags.writeable or i.dtype not in (np.int32, np.int64):\n",
            "/usr/local/lib/python3.6/dist-packages/scipy/sparse/lil.py:506: FutureWarning: future versions will not create a writeable array from broadcast_array. Set the writable flag explicitly to avoid this warning.\n",
            "  if not j.flags.writeable or j.dtype not in (np.int32, np.int64):\n",
            "/usr/local/lib/python3.6/dist-packages/scipy/sparse/lil.py:510: FutureWarning: future versions will not create a writeable array from broadcast_array. Set the writable flag explicitly to avoid this warning.\n",
            "  if not x.flags.writeable:\n",
            "100%|██████████| 150/150 [00:02<00:00, 65.99it/s]\n"
          ],
          "name": "stderr"
        }
      ]
    },
    {
      "cell_type": "code",
      "metadata": {
        "id": "PCp2JthTbV-T",
        "colab_type": "code",
        "colab": {}
      },
      "source": [
        "# changing ids of citizens to not have duplicated later on\n",
        "ditras_tdf[\"uid\"] = ditras_tdf[\"uid\"].apply(change_uid,args=[\"d\"])"
      ],
      "execution_count": 0,
      "outputs": []
    },
    {
      "cell_type": "code",
      "metadata": {
        "id": "bMY-2VFpbbMe",
        "colab_type": "code",
        "colab": {}
      },
      "source": [
        "agdal_tdf = pd.concat([ditras_tdf,density_tdf],ignore_index=True)"
      ],
      "execution_count": 0,
      "outputs": []
    },
    {
      "cell_type": "code",
      "metadata": {
        "id": "BdywxAAybgUz",
        "colab_type": "code",
        "colab": {}
      },
      "source": [
        "agdal_tdf.to_csv(\"agdal_mobility.csv\")"
      ],
      "execution_count": 0,
      "outputs": []
    },
    {
      "cell_type": "markdown",
      "metadata": {
        "id": "r8stUvf_c6Y1",
        "colab_type": "text"
      },
      "source": [
        "### Aggregate results"
      ]
    },
    {
      "cell_type": "code",
      "metadata": {
        "id": "ppbtxRRRb103",
        "colab_type": "code",
        "colab": {
          "base_uri": "https://localhost:8080/",
          "height": 159
        },
        "outputId": "10f19a80-b523-429c-9939-2bb2fd08bbff"
      },
      "source": [
        "# Getting Agdal data (rabat)\n",
        "dual_tessellation = gpd.read_file('morocco.geojson/agdal_irfane.geojson')\n",
        "depr = DensityEPR()\n",
        "#generating and filtering data to make it as close to real as possible\n",
        "density_tdf = depr.generate(start_time, end_time, dual_tessellation, relevance_column='population', n_agents=120)\n",
        "density_tdf = filtering.filter(density_tdf, max_speed_kmh=5.)\n",
        "density_tdf = detection.stops(density_tdf, stop_radius_factor=0.5, minutes_for_a_stop=50.0, spatial_radius_km=0.3, leaving_time=False)"
      ],
      "execution_count": 19,
      "outputs": [
        {
          "output_type": "stream",
          "text": [
            "/usr/local/lib/python3.6/dist-packages/scikit_mobility-1.0-py3.6.egg/skmob/models/gravity.py:43: RuntimeWarning: divide by zero encountered in power\n",
            "/usr/local/lib/python3.6/dist-packages/scipy/sparse/lil.py:504: FutureWarning: future versions will not create a writeable array from broadcast_array. Set the writable flag explicitly to avoid this warning.\n",
            "  if not i.flags.writeable or i.dtype not in (np.int32, np.int64):\n",
            "/usr/local/lib/python3.6/dist-packages/scipy/sparse/lil.py:506: FutureWarning: future versions will not create a writeable array from broadcast_array. Set the writable flag explicitly to avoid this warning.\n",
            "  if not j.flags.writeable or j.dtype not in (np.int32, np.int64):\n",
            "/usr/local/lib/python3.6/dist-packages/scipy/sparse/lil.py:510: FutureWarning: future versions will not create a writeable array from broadcast_array. Set the writable flag explicitly to avoid this warning.\n",
            "  if not x.flags.writeable:\n"
          ],
          "name": "stderr"
        }
      ]
    },
    {
      "cell_type": "code",
      "metadata": {
        "id": "FL2S9KRPc3mQ",
        "colab_type": "code",
        "colab": {}
      },
      "source": [
        "# changing ids of citizens to not have duplicated later on\n",
        "density_tdf[\"uid\"] = density_tdf[\"uid\"].apply(change_uid,args=[\"e\"])"
      ],
      "execution_count": 0,
      "outputs": []
    },
    {
      "cell_type": "code",
      "metadata": {
        "id": "OonFSChndUPy",
        "colab_type": "code",
        "outputId": "12e320c3-ed17-4db1-87cd-062d4639b942",
        "colab": {
          "base_uri": "https://localhost:8080/",
          "height": 34
        }
      },
      "source": [
        "# load and preprocess data to train the MarkovDiaryGenerator\n",
        "url = 'https://raw.githubusercontent.com/scikit-mobility/scikit-mobility/master/tutorial/data/geolife_sample.txt.gz'\n",
        "df = pd.read_csv(url, sep=',', compression='gzip')\n",
        "tdf = skmob.TrajDataFrame(df, latitude='lat', longitude='lon', user_id='user', datetime='datetime')\n",
        "#ctdf = compression.compress(tdf)\n",
        "stdf = detection.stops(tdf,stop_radius_factor=0.5, minutes_for_a_stop=50.0, spatial_radius_km=0.3, leaving_time=False)\n",
        "markov_tdf = clustering.cluster(stdf)\n",
        "# instantiate and train the MarkovDiaryGenerator\n",
        "mdg = MarkovDiaryGenerator()\n",
        "mdg.fit(markov_tdf, 2, lid='cluster')"
      ],
      "execution_count": 21,
      "outputs": [
        {
          "output_type": "stream",
          "text": [
            "100%|██████████| 2/2 [00:01<00:00,  2.17it/s]\n"
          ],
          "name": "stderr"
        }
      ]
    },
    {
      "cell_type": "code",
      "metadata": {
        "id": "elNOaS3WdZMX",
        "colab_type": "code",
        "colab": {
          "base_uri": "https://localhost:8080/",
          "height": 176
        },
        "outputId": "8a22449f-16ad-41a1-d7b9-cc7e18e5a80e"
      },
      "source": [
        "# instantiate the model\n",
        "ditras = Ditras(mdg)\n",
        "# run the model\n",
        "ditras_tdf = ditras.generate(start_time, end_time, dual_tessellation, relevance_column='population',\n",
        "                    n_agents=150, od_matrix=None, show_progress=True)"
      ],
      "execution_count": 22,
      "outputs": [
        {
          "output_type": "stream",
          "text": [
            "\r  0%|          | 0/150 [00:00<?, ?it/s]/usr/local/lib/python3.6/dist-packages/scikit_mobility-1.0-py3.6.egg/skmob/models/gravity.py:43: RuntimeWarning: divide by zero encountered in power\n",
            "/usr/local/lib/python3.6/dist-packages/scipy/sparse/lil.py:504: FutureWarning: future versions will not create a writeable array from broadcast_array. Set the writable flag explicitly to avoid this warning.\n",
            "  if not i.flags.writeable or i.dtype not in (np.int32, np.int64):\n",
            "/usr/local/lib/python3.6/dist-packages/scipy/sparse/lil.py:506: FutureWarning: future versions will not create a writeable array from broadcast_array. Set the writable flag explicitly to avoid this warning.\n",
            "  if not j.flags.writeable or j.dtype not in (np.int32, np.int64):\n",
            "/usr/local/lib/python3.6/dist-packages/scipy/sparse/lil.py:510: FutureWarning: future versions will not create a writeable array from broadcast_array. Set the writable flag explicitly to avoid this warning.\n",
            "  if not x.flags.writeable:\n",
            "100%|██████████| 150/150 [00:03<00:00, 43.90it/s]\n"
          ],
          "name": "stderr"
        }
      ]
    },
    {
      "cell_type": "code",
      "metadata": {
        "id": "8kmGmAvWdbvS",
        "colab_type": "code",
        "colab": {}
      },
      "source": [
        "# changing ids of citizens to not have duplicated later on\n",
        "ditras_tdf[\"uid\"] = ditras_tdf[\"uid\"].apply(change_uid,args=[\"f\"])"
      ],
      "execution_count": 0,
      "outputs": []
    },
    {
      "cell_type": "code",
      "metadata": {
        "id": "6oT6RkSodeW2",
        "colab_type": "code",
        "colab": {}
      },
      "source": [
        "dual_tdf = pd.concat([ditras_tdf,density_tdf],ignore_index=True)"
      ],
      "execution_count": 0,
      "outputs": []
    },
    {
      "cell_type": "code",
      "metadata": {
        "id": "iEMqSJ1idjEW",
        "colab_type": "code",
        "colab": {}
      },
      "source": [
        "simulation_tdf = pd.concat([agdal_tdf,irfan_tdf,dual_tdf],ignore_index=True)"
      ],
      "execution_count": 0,
      "outputs": []
    },
    {
      "cell_type": "code",
      "metadata": {
        "id": "6y_dvOYKeEw_",
        "colab_type": "code",
        "colab": {}
      },
      "source": [
        "simulation_tdf.to_csv('simulation_data.csv')"
      ],
      "execution_count": 0,
      "outputs": []
    },
    {
      "cell_type": "markdown",
      "metadata": {
        "id": "OXmMoAQ4JuDT",
        "colab_type": "text"
      },
      "source": [
        "# Data cleaning and preparation"
      ]
    },
    {
      "cell_type": "code",
      "metadata": {
        "id": "9J7ZjaWCJjPp",
        "colab_type": "code",
        "colab": {}
      },
      "source": [
        "import pandas as pd\n",
        "simulation_tdf = pd.read_csv('simulation_data.csv')"
      ],
      "execution_count": 0,
      "outputs": []
    },
    {
      "cell_type": "code",
      "metadata": {
        "id": "9dJ-iXjnmae3",
        "colab_type": "code",
        "colab": {}
      },
      "source": [
        "import json\n",
        "from shapely.geometry import shape, Point"
      ],
      "execution_count": 0,
      "outputs": []
    },
    {
      "cell_type": "code",
      "metadata": {
        "id": "_n-9uJPumhVI",
        "colab_type": "code",
        "colab": {}
      },
      "source": [
        "# load GeoJSON file containing sectors\n",
        "with open('morocco.geojson/agdal_irfane.geojson', 'r') as f:\n",
        "  js = json.load(f)"
      ],
      "execution_count": 0,
      "outputs": []
    },
    {
      "cell_type": "code",
      "metadata": {
        "id": "S9JBueix1hIR",
        "colab_type": "code",
        "colab": {}
      },
      "source": [
        "def get_zone_id(x):\n",
        "  point = Point( x[\"lng\"],x[\"lat\"])\n",
        "  zone_id = \"\"\n",
        "  for feature in js['features']:\n",
        "    polygon = shape(feature['geometry'])\n",
        "    if polygon.contains(point):\n",
        "      zone_id = feature['properties']['id']\n",
        "  x['zone_id'] = zone_id\n",
        "  return x"
      ],
      "execution_count": 0,
      "outputs": []
    },
    {
      "cell_type": "code",
      "metadata": {
        "id": "v7dtWR87Ak3X",
        "colab_type": "code",
        "colab": {}
      },
      "source": [
        "# Adding the ids of the zones \n",
        "simulation_tdf = simulation_tdf.apply(get_zone_id,axis=1)\n",
        "\n",
        "# Filtering zones without a registered zone id\n",
        "simulation_tdf = simulation_tdf[simulation_tdf['zone_id'] != \"\"][[\"uid\",\"datetime\",\"lat\",\"lng\",\"zone_id\"]]"
      ],
      "execution_count": 0,
      "outputs": []
    },
    {
      "cell_type": "code",
      "metadata": {
        "id": "QsuN6MCngNDS",
        "colab_type": "code",
        "colab": {}
      },
      "source": [
        "from datetime import datetime\n",
        "def get_date_precision(x):\n",
        "  x['datetime_clipped'] = datetime.strptime(x['datetime'].split(':')[0]+\":\"+x['datetime'].split(':')[1], '%Y-%m-%d %H:%M')#:%M:%S')\n",
        "  return x"
      ],
      "execution_count": 0,
      "outputs": []
    },
    {
      "cell_type": "code",
      "metadata": {
        "id": "p-0VmN8TlNMH",
        "colab_type": "code",
        "colab": {}
      },
      "source": [
        "# Clip datetime by the hour\n",
        "simulation_tdf = simulation_tdf.apply(get_date_precision,axis=1)"
      ],
      "execution_count": 0,
      "outputs": []
    },
    {
      "cell_type": "code",
      "metadata": {
        "id": "WQS7J52vxsvS",
        "colab_type": "code",
        "colab": {}
      },
      "source": [
        "import geopy.distance\n",
        "\n",
        "def get_distance(x):\n",
        "  coords_1 = (x['lat_x'], x['lng_x'])\n",
        "  coords_2 = (x['lat_y'], x['lng_y'])\n",
        "  km_distance = geopy.distance.distance(coords_1, coords_2).km\n",
        "  x['distance'] = km_distance * 1000\n",
        "  return x"
      ],
      "execution_count": 0,
      "outputs": []
    },
    {
      "cell_type": "code",
      "metadata": {
        "id": "OD2HgA_jBpFX",
        "colab_type": "code",
        "colab": {}
      },
      "source": [
        "merged_tdf = simulation_tdf.merge(simulation_tdf, how='left',on=[\"datetime_clipped\",\"zone_id\"])\n",
        "\n",
        "# Filter to not keep couples if they have same id\n",
        "merged_tdf = merged_tdf[merged_tdf['uid_x'] != merged_tdf['uid_y']]\n",
        "\n",
        "# Compute distance between each two citizens\n",
        "merged_tdf = merged_tdf.apply(get_distance,axis=1)\n",
        "\n",
        "# Filter for distances lower than 7 meters between citizens\n",
        "merged_tdf = merged_tdf[merged_tdf['distance']< 7]"
      ],
      "execution_count": 0,
      "outputs": []
    },
    {
      "cell_type": "code",
      "metadata": {
        "id": "0PiuMSrdHm_y",
        "colab_type": "code",
        "colab": {}
      },
      "source": [
        "# Getting users around in each time \n",
        "temp_tdf = merged_tdf.groupby(['uid_x','datetime_clipped','zone_id'])['uid_y'].apply(','.join).reset_index()\n",
        "temp_tdf = temp_tdf.rename(columns = {'uid_y':'ble_users'})\n",
        "ble_tdf = merged_tdf[['uid_x','datetime_x','lat_x','lng_x','zone_id','datetime_clipped']].merge(temp_tdf,how='inner', on=['uid_x','datetime_clipped','zone_id']).drop_duplicates()\n",
        "ble_tdf = ble_tdf.rename(columns = {'uid_x':'uid','datetime_x':'datetime','lat_x':'lat','lng_x':'lng'})\n",
        "\n",
        "# Delete the first second of the simulation, and last second of the simulation, as a lot of people are near each other in it\n",
        "ble_tdf = ble_tdf[ble_tdf['datetime'] != '2019-01-01 08:00:00.000000']\n",
        "ble_tdf = ble_tdf[ble_tdf['datetime'] != '2019-01-15 08:00:00.000000']\n",
        "ble_tdf = ble_tdf.reset_index()[['uid','datetime','lat','lng','zone_id','datetime_clipped','ble_users']]"
      ],
      "execution_count": 0,
      "outputs": []
    },
    {
      "cell_type": "code",
      "metadata": {
        "id": "itle_haj_xsl",
        "colab_type": "code",
        "outputId": "b2405a1c-1ca8-4cf1-ba1d-79b8804d724b",
        "colab": {
          "base_uri": "https://localhost:8080/",
          "height": 206
        }
      },
      "source": [
        "ble_tdf.head()"
      ],
      "execution_count": 37,
      "outputs": [
        {
          "output_type": "execute_result",
          "data": {
            "text/html": [
              "<div>\n",
              "<style scoped>\n",
              "    .dataframe tbody tr th:only-of-type {\n",
              "        vertical-align: middle;\n",
              "    }\n",
              "\n",
              "    .dataframe tbody tr th {\n",
              "        vertical-align: top;\n",
              "    }\n",
              "\n",
              "    .dataframe thead th {\n",
              "        text-align: right;\n",
              "    }\n",
              "</style>\n",
              "<table border=\"1\" class=\"dataframe\">\n",
              "  <thead>\n",
              "    <tr style=\"text-align: right;\">\n",
              "      <th></th>\n",
              "      <th>uid</th>\n",
              "      <th>datetime</th>\n",
              "      <th>lat</th>\n",
              "      <th>lng</th>\n",
              "      <th>zone_id</th>\n",
              "      <th>datetime_clipped</th>\n",
              "      <th>ble_users</th>\n",
              "    </tr>\n",
              "  </thead>\n",
              "  <tbody>\n",
              "    <tr>\n",
              "      <th>0</th>\n",
              "      <td>1d</td>\n",
              "      <td>2019-01-01 11:00:00.000000</td>\n",
              "      <td>33.999689</td>\n",
              "      <td>-6.852435</td>\n",
              "      <td>EMI</td>\n",
              "      <td>1546340400000000000</td>\n",
              "      <td>9d</td>\n",
              "    </tr>\n",
              "    <tr>\n",
              "      <th>1</th>\n",
              "      <td>1d</td>\n",
              "      <td>2019-01-01 19:00:00.000000</td>\n",
              "      <td>34.002296</td>\n",
              "      <td>-6.852955</td>\n",
              "      <td>Carrefour</td>\n",
              "      <td>1546369200000000000</td>\n",
              "      <td>105d</td>\n",
              "    </tr>\n",
              "    <tr>\n",
              "      <th>2</th>\n",
              "      <td>1d</td>\n",
              "      <td>2019-01-01 22:00:00.000000</td>\n",
              "      <td>34.002296</td>\n",
              "      <td>-6.852955</td>\n",
              "      <td>Carrefour</td>\n",
              "      <td>1546380000000000000</td>\n",
              "      <td>29d,103d,118f</td>\n",
              "    </tr>\n",
              "    <tr>\n",
              "      <th>3</th>\n",
              "      <td>1d</td>\n",
              "      <td>2019-01-02 21:00:00.000000</td>\n",
              "      <td>33.999689</td>\n",
              "      <td>-6.852435</td>\n",
              "      <td>EMI</td>\n",
              "      <td>1546462800000000000</td>\n",
              "      <td>14d,22d,61d,72d,108d</td>\n",
              "    </tr>\n",
              "    <tr>\n",
              "      <th>4</th>\n",
              "      <td>1d</td>\n",
              "      <td>2019-01-02 22:00:00.000000</td>\n",
              "      <td>34.002296</td>\n",
              "      <td>-6.852955</td>\n",
              "      <td>Carrefour</td>\n",
              "      <td>1546466400000000000</td>\n",
              "      <td>95d,124d</td>\n",
              "    </tr>\n",
              "  </tbody>\n",
              "</table>\n",
              "</div>"
            ],
            "text/plain": [
              "  uid                    datetime  ...     datetime_clipped             ble_users\n",
              "0  1d  2019-01-01 11:00:00.000000  ...  1546340400000000000                    9d\n",
              "1  1d  2019-01-01 19:00:00.000000  ...  1546369200000000000                  105d\n",
              "2  1d  2019-01-01 22:00:00.000000  ...  1546380000000000000         29d,103d,118f\n",
              "3  1d  2019-01-02 21:00:00.000000  ...  1546462800000000000  14d,22d,61d,72d,108d\n",
              "4  1d  2019-01-02 22:00:00.000000  ...  1546466400000000000              95d,124d\n",
              "\n",
              "[5 rows x 7 columns]"
            ]
          },
          "metadata": {
            "tags": []
          },
          "execution_count": 37
        }
      ]
    },
    {
      "cell_type": "code",
      "metadata": {
        "id": "REBlR5xP7FQD",
        "colab_type": "code",
        "colab": {}
      },
      "source": [
        "ble_tdf.to_csv('full_mobility_data.csv')"
      ],
      "execution_count": 0,
      "outputs": []
    },
    {
      "cell_type": "markdown",
      "metadata": {
        "id": "4R46Q01aaKM8",
        "colab_type": "text"
      },
      "source": [
        "# Covid modelisation :\n"
      ]
    },
    {
      "cell_type": "code",
      "metadata": {
        "id": "1TKw3eWtaNd8",
        "colab_type": "code",
        "colab": {}
      },
      "source": [
        "import pandas as pd \n",
        "ble_tdf = pd.read_csv('full_mobility_data.csv')"
      ],
      "execution_count": 0,
      "outputs": []
    },
    {
      "cell_type": "code",
      "metadata": {
        "id": "QRxtvYqkegjm",
        "colab_type": "code",
        "colab": {}
      },
      "source": [
        "from random import seed\n",
        "from random import randint\n",
        "def get_random_score(seeder,left,right):\n",
        "  seed(seeder)\n",
        "  multiplier = randint(254, 5745)\n",
        "  seeder = seeder * multiplier \n",
        "  seed(seeder)\n",
        "  score = randint(left, right)\n",
        "  return score"
      ],
      "execution_count": 0,
      "outputs": []
    },
    {
      "cell_type": "markdown",
      "metadata": {
        "id": "4ZqhJs-nJixS",
        "colab_type": "text"
      },
      "source": [
        "### Infected scoring"
      ]
    },
    {
      "cell_type": "code",
      "metadata": {
        "id": "WCI2GBSyag-5",
        "colab_type": "code",
        "colab": {}
      },
      "source": [
        "percentage_infected = .004 \n",
        "number_infected = int(ble_tdf['uid'].unique().shape[0] * percentage_infected)"
      ],
      "execution_count": 0,
      "outputs": []
    },
    {
      "cell_type": "code",
      "metadata": {
        "id": "jV7v9nvXaoRZ",
        "colab_type": "code",
        "colab": {}
      },
      "source": [
        "# Selecting random infected people\n",
        "seed(3)\n",
        "uids_infected = []\n",
        "for i in range(number_infected):\n",
        "  idex = randint(0,ble_tdf['uid'].unique().shape[0])\n",
        "  uids_infected.append(ble_tdf['uid'].unique()[idex])"
      ],
      "execution_count": 0,
      "outputs": []
    },
    {
      "cell_type": "code",
      "metadata": {
        "id": "kCKdTql4f8Vu",
        "colab_type": "code",
        "outputId": "7aab4509-8ef8-4154-8efd-b205a5eb18c9",
        "colab": {
          "base_uri": "https://localhost:8080/",
          "height": 34
        }
      },
      "source": [
        "uids_infected"
      ],
      "execution_count": 93,
      "outputs": [
        {
          "output_type": "execute_result",
          "data": {
            "text/plain": [
              "['94c', '68f', '19f']"
            ]
          },
          "metadata": {
            "tags": []
          },
          "execution_count": 93
        }
      ]
    },
    {
      "cell_type": "markdown",
      "metadata": {
        "id": "0QKBUvsuarCF",
        "colab_type": "text"
      },
      "source": [
        "A question we are facing, is whether when we detect that someone is covid positive, does their earlier risk scores reflect/predict that they would be positive? \n",
        "\n",
        "Logical answer : Not always, as heavily dependant on whether everybody installed the application. In the case not everybody did, the infected might have contacted the infection from people who didnt own phones, and thus his score shouldnt have changed much.\n",
        "\n",
        "This means we need to give some measure of risk score for earlier periods after detection of infection in someone, irrelevant of his earlier scores."
      ]
    },
    {
      "cell_type": "code",
      "metadata": {
        "id": "uGIjmz22sfHM",
        "colab_type": "code",
        "colab": {}
      },
      "source": [
        "from scipy.stats import norm\n",
        "import numpy as np\n",
        "import datetime as dat"
      ],
      "execution_count": 0,
      "outputs": []
    },
    {
      "cell_type": "code",
      "metadata": {
        "id": "5zDOIeh4gh9K",
        "colab_type": "code",
        "colab": {}
      },
      "source": [
        "def generate_infected_earlier_scores(infected_id,simulation_start,simulation_end,symptom_apparition_date,score_distribution):\n",
        "  ## Should we factor in whether they have ended up meeting another infected person?? Maybe they have more virality if so\n",
        "\n",
        "  # Number of days in the simulation\n",
        "  nb_days_simulation = (simulation_end - simulation_start).days\n",
        "\n",
        "  \n",
        "\n",
        "  #index of the day of apparition of symptoms\n",
        "  symptom_day  = (symptom_apparition_date - simulation_start).days\n",
        "  output = {}\n",
        "  scores = []\n",
        "  for i in range(0,nb_days_simulation +1):\n",
        "    date_scores = {}\n",
        "    start_index = 14 - symptom_day\n",
        "    date_scores['date'] = simulation_start + dat.timedelta(days=i)\n",
        "    date_scores['score'] = score_distribution[start_index + i + 1]\n",
        "    scores.append(date_scores)\n",
        "  output['infected_uid'] = infected_id\n",
        "  output['scores'] = scores \n",
        "  return output"
      ],
      "execution_count": 0,
      "outputs": []
    },
    {
      "cell_type": "code",
      "metadata": {
        "id": "5qYboHrUoC7v",
        "colab_type": "code",
        "colab": {}
      },
      "source": [
        "def get_simulation_infected_scores(uids_infected,simulation_start,simulation_end):\n",
        "  seed(1)\n",
        "\n",
        "  nb_days_simulation = (simulation_end - simulation_start).days\n",
        "\n",
        "  # a normal distribution of the scores of a person already infected, where the period of symptom apparition shows the most virality charge\n",
        "  x = np.linspace(norm.ppf(0.1),norm.ppf(0.99), nb_days_simulation * 2)\n",
        "  score_distribution = norm.pdf(x, 0.5, 0.5)*100\n",
        "\n",
        "  output = []\n",
        "\n",
        "  for infected in uids_infected :\n",
        "    symptom_date = simulation_start + dat.timedelta(days=randint(0,nb_days_simulation))\n",
        "    date_scores = generate_infected_earlier_scores(infected,simulation_start,simulation_end,symptom_date,score_distribution)\n",
        "    output.append(date_scores)\n",
        "  return output"
      ],
      "execution_count": 0,
      "outputs": []
    },
    {
      "cell_type": "code",
      "metadata": {
        "id": "sugl8-P3wJeg",
        "colab_type": "code",
        "colab": {}
      },
      "source": [
        "infected_scores = get_simulation_infected_scores(uids_infected,start_time,end_time)"
      ],
      "execution_count": 0,
      "outputs": []
    },
    {
      "cell_type": "code",
      "metadata": {
        "id": "JcKrhT_P45Bz",
        "colab_type": "code",
        "colab": {
          "base_uri": "https://localhost:8080/",
          "height": 54
        },
        "outputId": "97ef76dc-5103-4ffb-afc2-7ecbcb22ff7a"
      },
      "source": [
        "print(infected_scores)"
      ],
      "execution_count": 114,
      "outputs": [
        {
          "output_type": "stream",
          "text": [
            "[{'infected_uid': '94c', 'scores': [{'date': Timestamp('2019-01-01 08:00:00'), 'score': 79.47428297373659}, {'date': Timestamp('2019-01-02 08:00:00'), 'score': 78.52849795470743}, {'date': Timestamp('2019-01-03 08:00:00'), 'score': 72.24521999077103}, {'date': Timestamp('2019-01-04 08:00:00'), 'score': 61.8831055257222}, {'date': Timestamp('2019-01-05 08:00:00'), 'score': 49.35330458139002}, {'date': Timestamp('2019-01-06 08:00:00'), 'score': 36.64726170149365}, {'date': Timestamp('2019-01-07 08:00:00'), 'score': 25.336579093431915}, {'date': Timestamp('2019-01-08 08:00:00'), 'score': 16.30930967047769}, {'date': Timestamp('2019-01-09 08:00:00'), 'score': 9.774720232525855}, {'date': Timestamp('2019-01-10 08:00:00'), 'score': 5.4544912352361035}, {'date': Timestamp('2019-01-11 08:00:00'), 'score': 2.833905182148495}, {'date': Timestamp('2019-01-12 08:00:00'), 'score': 1.3708739931178504}, {'date': Timestamp('2019-01-13 08:00:00'), 'score': 0.617434531258837}, {'date': Timestamp('2019-01-14 08:00:00'), 'score': 0.25891990959838157}, {'date': Timestamp('2019-01-15 08:00:00'), 'score': 0.1010930114282619}]}, {'infected_uid': '68f', 'scores': [{'date': Timestamp('2019-01-01 08:00:00'), 'score': 11.697532274879523}, {'date': Timestamp('2019-01-02 08:00:00'), 'score': 19.05578479484005}, {'date': Timestamp('2019-01-03 08:00:00'), 'score': 28.90284419951724}, {'date': Timestamp('2019-01-04 08:00:00'), 'score': 40.816473476169044}, {'date': Timestamp('2019-01-05 08:00:00'), 'score': 53.667520577312885}, {'date': Timestamp('2019-01-06 08:00:00'), 'score': 65.70050969765164}, {'date': Timestamp('2019-01-07 08:00:00'), 'score': 74.88711520827363}, {'date': Timestamp('2019-01-08 08:00:00'), 'score': 79.47428297373659}, {'date': Timestamp('2019-01-09 08:00:00'), 'score': 78.52849795470743}, {'date': Timestamp('2019-01-10 08:00:00'), 'score': 72.24521999077103}, {'date': Timestamp('2019-01-11 08:00:00'), 'score': 61.8831055257222}, {'date': Timestamp('2019-01-12 08:00:00'), 'score': 49.35330458139002}, {'date': Timestamp('2019-01-13 08:00:00'), 'score': 36.64726170149365}, {'date': Timestamp('2019-01-14 08:00:00'), 'score': 25.336579093431915}, {'date': Timestamp('2019-01-15 08:00:00'), 'score': 16.30930967047769}]}, {'infected_uid': '19f', 'scores': [{'date': Timestamp('2019-01-01 08:00:00'), 'score': 0.8131589615507558}, {'date': Timestamp('2019-01-02 08:00:00'), 'score': 1.7627203567608434}, {'date': Timestamp('2019-01-03 08:00:00'), 'score': 3.5577263665725383}, {'date': Timestamp('2019-01-04 08:00:00'), 'score': 6.685637417262805}, {'date': Timestamp('2019-01-05 08:00:00'), 'score': 11.697532274879523}, {'date': Timestamp('2019-01-06 08:00:00'), 'score': 19.05578479484005}, {'date': Timestamp('2019-01-07 08:00:00'), 'score': 28.90284419951724}, {'date': Timestamp('2019-01-08 08:00:00'), 'score': 40.816473476169044}, {'date': Timestamp('2019-01-09 08:00:00'), 'score': 53.667520577312885}, {'date': Timestamp('2019-01-10 08:00:00'), 'score': 65.70050969765164}, {'date': Timestamp('2019-01-11 08:00:00'), 'score': 74.88711520827363}, {'date': Timestamp('2019-01-12 08:00:00'), 'score': 79.47428297373659}, {'date': Timestamp('2019-01-13 08:00:00'), 'score': 78.52849795470743}, {'date': Timestamp('2019-01-14 08:00:00'), 'score': 72.24521999077103}, {'date': Timestamp('2019-01-15 08:00:00'), 'score': 61.8831055257222}]}]\n"
          ],
          "name": "stdout"
        }
      ]
    },
    {
      "cell_type": "code",
      "metadata": {
        "id": "vTtKrpT_46iC",
        "colab_type": "code",
        "colab": {}
      },
      "source": [
        ""
      ],
      "execution_count": 0,
      "outputs": []
    }
  ]
}
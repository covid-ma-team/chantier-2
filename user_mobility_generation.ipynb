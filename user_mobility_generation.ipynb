{
  "nbformat": 4,
  "nbformat_minor": 0,
  "metadata": {
    "colab": {
      "name": "data generation.ipynb",
      "provenance": [],
      "collapsed_sections": []
    },
    "kernelspec": {
      "name": "python3",
      "display_name": "Python 3"
    }
  },
  "cells": [
    {
      "cell_type": "markdown",
      "metadata": {
        "id": "DX0K9yxCzEWP",
        "colab_type": "text"
      },
      "source": [
        "# Installation :\n"
      ]
    },
    {
      "cell_type": "code",
      "metadata": {
        "id": "26Qj8qRMzISi",
        "colab_type": "code",
        "colab": {}
      },
      "source": [
        "!git clone https://github.com/scikit-mobility/scikit-mobility.git\n",
        "!cd scikit-mobility && python3 setup.py install\n",
        "!pip3 install scikit-mobility\n",
        "!git clone https://github.com/IhabBendidi/morocco.geojson.git"
      ],
      "execution_count": 0,
      "outputs": []
    },
    {
      "cell_type": "markdown",
      "metadata": {
        "id": "i0kHWiPrzQiz",
        "colab_type": "text"
      },
      "source": [
        "Be sure to restart the runtime afterward (on google colab) so that the installation really take place."
      ]
    },
    {
      "cell_type": "code",
      "metadata": {
        "id": "XgsL4WlUzXkC",
        "colab_type": "code",
        "colab": {}
      },
      "source": [
        "import geopandas as gpd  \n",
        "import pandas as pd\n",
        "import skmob\n",
        "from skmob.models.epr import DensityEPR\n",
        "from skmob.models.epr import Ditras\n",
        "from skmob.models.markov_diary_generator import MarkovDiaryGenerator\n",
        "from skmob.preprocessing import filtering, compression, detection, clustering"
      ],
      "execution_count": 0,
      "outputs": []
    },
    {
      "cell_type": "markdown",
      "metadata": {
        "id": "z1B12xLU1KXC",
        "colab_type": "text"
      },
      "source": [
        "Setting up the start time of the simulation, between 1/1/2019 and 15/1/2019"
      ]
    },
    {
      "cell_type": "code",
      "metadata": {
        "id": "1NKOs7WW9HAL",
        "colab_type": "code",
        "colab": {}
      },
      "source": [
        "# Helper function for protecting against duplicates ids\n",
        "def change_uid(x,l):\n",
        "  x = str(x) + l\n",
        "  return x"
      ],
      "execution_count": 0,
      "outputs": []
    },
    {
      "cell_type": "code",
      "metadata": {
        "id": "vUpT5nIg0e7N",
        "colab_type": "code",
        "colab": {}
      },
      "source": [
        "# starting and end times of the simulation\n",
        "start_time = pd.to_datetime('2019/01/01 08:00:00')\n",
        "end_time = pd.to_datetime('2019/01/15 08:00:00')"
      ],
      "execution_count": 0,
      "outputs": []
    },
    {
      "cell_type": "markdown",
      "metadata": {
        "id": "s6Fw4HXx1tss",
        "colab_type": "text"
      },
      "source": [
        "### Irfane simulation"
      ]
    },
    {
      "cell_type": "code",
      "metadata": {
        "id": "5S7lkCUg1QyP",
        "colab_type": "code",
        "colab": {}
      },
      "source": [
        "# Getting irfane data (rabat)\n",
        "irfane_tessellation = gpd.read_file('morocco.geojson/irfane.geojson')\n",
        "depr = DensityEPR()\n",
        "#generating and filtering data to make it as close to real as possible\n",
        "density_tdf = depr.generate(start_time, end_time, irfane_tessellation, relevance_column='population', n_agents=120)\n",
        "density_tdf = filtering.filter(density_tdf, max_speed_kmh=5.)\n",
        "density_tdf = detection.stops(density_tdf, stop_radius_factor=0.5, minutes_for_a_stop=50.0, spatial_radius_km=0.3, leaving_time=False)"
      ],
      "execution_count": 0,
      "outputs": []
    },
    {
      "cell_type": "code",
      "metadata": {
        "id": "0QFFJIzV2iBk",
        "colab_type": "code",
        "colab": {}
      },
      "source": [
        "# changing ids of citizens to not have duplicated later on\n",
        "density_tdf[\"uid\"] = density_tdf[\"uid\"].apply(change_uid,args=[\"a\"])"
      ],
      "execution_count": 0,
      "outputs": []
    },
    {
      "cell_type": "markdown",
      "metadata": {
        "id": "ZietiDS89ZaV",
        "colab_type": "text"
      },
      "source": [
        "We will now generate habits of agents, through the markov diary generator, for Al Irfane"
      ]
    },
    {
      "cell_type": "code",
      "metadata": {
        "id": "86y_IPuK8Ch5",
        "colab_type": "code",
        "colab": {}
      },
      "source": [
        "# load and preprocess data to train the MarkovDiaryGenerator\n",
        "url = 'https://raw.githubusercontent.com/scikit-mobility/scikit-mobility/master/tutorial/data/geolife_sample.txt.gz'\n",
        "df = pd.read_csv(url, sep=',', compression='gzip')\n",
        "tdf = skmob.TrajDataFrame(df, latitude='lat', longitude='lon', user_id='user', datetime='datetime')\n",
        "#ctdf = compression.compress(tdf)\n",
        "stdf = detection.stops(tdf,stop_radius_factor=0.5, minutes_for_a_stop=50.0, spatial_radius_km=0.3, leaving_time=False)\n",
        "markov_tdf = clustering.cluster(stdf)"
      ],
      "execution_count": 0,
      "outputs": []
    },
    {
      "cell_type": "code",
      "metadata": {
        "id": "JldPEamg-2tC",
        "colab_type": "code",
        "colab": {
          "base_uri": "https://localhost:8080/",
          "height": 34
        },
        "outputId": "01b97c26-8ce4-4b86-e75e-a3b1e31b58f8"
      },
      "source": [
        "# instantiate and train the MarkovDiaryGenerator\n",
        "mdg = MarkovDiaryGenerator()\n",
        "mdg.fit(markov_tdf, 2, lid='cluster')"
      ],
      "execution_count": 7,
      "outputs": [
        {
          "output_type": "stream",
          "text": [
            "100%|██████████| 2/2 [00:00<00:00,  3.39it/s]\n"
          ],
          "name": "stderr"
        }
      ]
    },
    {
      "cell_type": "code",
      "metadata": {
        "id": "YdQEAzKS-92t",
        "colab_type": "code",
        "colab": {}
      },
      "source": [
        "# instantiate the model\n",
        "ditras = Ditras(mdg)\n",
        "# run the model\n",
        "ditras_tdf = ditras.generate(start_time, end_time, irfane_tessellation, relevance_column='population',\n",
        "                    n_agents=150, od_matrix=None, show_progress=True)"
      ],
      "execution_count": 0,
      "outputs": []
    },
    {
      "cell_type": "code",
      "metadata": {
        "id": "dm9Mr7yB_WRS",
        "colab_type": "code",
        "colab": {}
      },
      "source": [
        "# changing ids of citizens to not have duplicated later on\n",
        "ditras_tdf[\"uid\"] = ditras_tdf[\"uid\"].apply(change_uid,args=[\"b\"])"
      ],
      "execution_count": 0,
      "outputs": []
    },
    {
      "cell_type": "code",
      "metadata": {
        "id": "nYH5fpC6_hjF",
        "colab_type": "code",
        "colab": {}
      },
      "source": [
        "irfan_tdf = pd.concat([ditras_tdf,density_tdf],ignore_index=True)"
      ],
      "execution_count": 0,
      "outputs": []
    },
    {
      "cell_type": "code",
      "metadata": {
        "id": "a4kobJLjAzZ7",
        "colab_type": "code",
        "colab": {}
      },
      "source": [
        "irfan_tdf.to_csv(\"irfan_mobility.csv\")"
      ],
      "execution_count": 0,
      "outputs": []
    },
    {
      "cell_type": "markdown",
      "metadata": {
        "id": "NacCt8T4aL3O",
        "colab_type": "text"
      },
      "source": [
        "### Agdal Simulation"
      ]
    },
    {
      "cell_type": "code",
      "metadata": {
        "id": "0Mzq85DaV98k",
        "colab_type": "code",
        "colab": {}
      },
      "source": [
        "# Getting Agdal data (rabat)\n",
        "agdal_tessellation = gpd.read_file('morocco.geojson/agdal.geojson')\n",
        "depr = DensityEPR()\n",
        "#generating and filtering data to make it as close to real as possible\n",
        "density_tdf = depr.generate(start_time, end_time, agdal_tessellation, relevance_column='population', n_agents=120)\n",
        "density_tdf = filtering.filter(density_tdf, max_speed_kmh=5.)\n",
        "density_tdf = detection.stops(density_tdf, stop_radius_factor=0.5, minutes_for_a_stop=50.0, spatial_radius_km=0.3, leaving_time=False)"
      ],
      "execution_count": 0,
      "outputs": []
    },
    {
      "cell_type": "code",
      "metadata": {
        "id": "2FYEWtl8aQ6E",
        "colab_type": "code",
        "colab": {}
      },
      "source": [
        "# changing ids of citizens to not have duplicated later on\n",
        "density_tdf[\"uid\"] = density_tdf[\"uid\"].apply(change_uid,args=[\"c\"])"
      ],
      "execution_count": 0,
      "outputs": []
    },
    {
      "cell_type": "code",
      "metadata": {
        "id": "xjmGijqEbFLL",
        "colab_type": "code",
        "colab": {}
      },
      "source": [
        "# load and preprocess data to train the MarkovDiaryGenerator\n",
        "url = 'https://raw.githubusercontent.com/scikit-mobility/scikit-mobility/master/tutorial/data/geolife_sample.txt.gz'\n",
        "df = pd.read_csv(url, sep=',', compression='gzip')\n",
        "tdf = skmob.TrajDataFrame(df, latitude='lat', longitude='lon', user_id='user', datetime='datetime')\n",
        "#ctdf = compression.compress(tdf)\n",
        "stdf = detection.stops(tdf,stop_radius_factor=0.5, minutes_for_a_stop=50.0, spatial_radius_km=0.3, leaving_time=False)\n",
        "markov_tdf = clustering.cluster(stdf)\n",
        "# instantiate and train the MarkovDiaryGenerator\n",
        "mdg = MarkovDiaryGenerator()\n",
        "mdg.fit(markov_tdf, 2, lid='cluster')"
      ],
      "execution_count": 0,
      "outputs": []
    },
    {
      "cell_type": "code",
      "metadata": {
        "id": "ka8avpAwbP40",
        "colab_type": "code",
        "colab": {}
      },
      "source": [
        "# instantiate the model\n",
        "ditras = Ditras(mdg)\n",
        "# run the model\n",
        "ditras_tdf = ditras.generate(start_time, end_time, agdal_tessellation, relevance_column='population',\n",
        "                    n_agents=150, od_matrix=None, show_progress=True)"
      ],
      "execution_count": 0,
      "outputs": []
    },
    {
      "cell_type": "code",
      "metadata": {
        "id": "PCp2JthTbV-T",
        "colab_type": "code",
        "colab": {}
      },
      "source": [
        "# changing ids of citizens to not have duplicated later on\n",
        "ditras_tdf[\"uid\"] = ditras_tdf[\"uid\"].apply(change_uid,args=[\"d\"])"
      ],
      "execution_count": 0,
      "outputs": []
    },
    {
      "cell_type": "code",
      "metadata": {
        "id": "bMY-2VFpbbMe",
        "colab_type": "code",
        "colab": {}
      },
      "source": [
        "agdal_tdf = pd.concat([ditras_tdf,density_tdf],ignore_index=True)"
      ],
      "execution_count": 0,
      "outputs": []
    },
    {
      "cell_type": "code",
      "metadata": {
        "id": "BdywxAAybgUz",
        "colab_type": "code",
        "colab": {}
      },
      "source": [
        "agdal_tdf.to_csv(\"agdal_mobility.csv\")"
      ],
      "execution_count": 0,
      "outputs": []
    },
    {
      "cell_type": "markdown",
      "metadata": {
        "id": "r8stUvf_c6Y1",
        "colab_type": "text"
      },
      "source": [
        "### Aggregate results"
      ]
    },
    {
      "cell_type": "code",
      "metadata": {
        "id": "ppbtxRRRb103",
        "colab_type": "code",
        "colab": {}
      },
      "source": [
        "# Getting Agdal data (rabat)\n",
        "dual_tessellation = gpd.read_file('morocco.geojson/agdal_irfane.geojson')\n",
        "depr = DensityEPR()\n",
        "#generating and filtering data to make it as close to real as possible\n",
        "density_tdf = depr.generate(start_time, end_time, dual_tessellation, relevance_column='population', n_agents=120)\n",
        "density_tdf = filtering.filter(density_tdf, max_speed_kmh=5.)\n",
        "density_tdf = detection.stops(density_tdf, stop_radius_factor=0.5, minutes_for_a_stop=50.0, spatial_radius_km=0.3, leaving_time=False)"
      ],
      "execution_count": 0,
      "outputs": []
    },
    {
      "cell_type": "code",
      "metadata": {
        "id": "FL2S9KRPc3mQ",
        "colab_type": "code",
        "colab": {}
      },
      "source": [
        "# changing ids of citizens to not have duplicated later on\n",
        "density_tdf[\"uid\"] = density_tdf[\"uid\"].apply(change_uid,args=[\"e\"])"
      ],
      "execution_count": 0,
      "outputs": []
    },
    {
      "cell_type": "code",
      "metadata": {
        "id": "OonFSChndUPy",
        "colab_type": "code",
        "colab": {
          "base_uri": "https://localhost:8080/",
          "height": 34
        },
        "outputId": "a5daa915-a40a-4f49-df71-a3c42183aea5"
      },
      "source": [
        "# load and preprocess data to train the MarkovDiaryGenerator\n",
        "url = 'https://raw.githubusercontent.com/scikit-mobility/scikit-mobility/master/tutorial/data/geolife_sample.txt.gz'\n",
        "df = pd.read_csv(url, sep=',', compression='gzip')\n",
        "tdf = skmob.TrajDataFrame(df, latitude='lat', longitude='lon', user_id='user', datetime='datetime')\n",
        "#ctdf = compression.compress(tdf)\n",
        "stdf = detection.stops(tdf,stop_radius_factor=0.5, minutes_for_a_stop=50.0, spatial_radius_km=0.3, leaving_time=False)\n",
        "markov_tdf = clustering.cluster(stdf)\n",
        "# instantiate and train the MarkovDiaryGenerator\n",
        "mdg = MarkovDiaryGenerator()\n",
        "mdg.fit(markov_tdf, 2, lid='cluster')"
      ],
      "execution_count": 21,
      "outputs": [
        {
          "output_type": "stream",
          "text": [
            "100%|██████████| 2/2 [00:00<00:00,  3.45it/s]\n"
          ],
          "name": "stderr"
        }
      ]
    },
    {
      "cell_type": "code",
      "metadata": {
        "id": "elNOaS3WdZMX",
        "colab_type": "code",
        "colab": {}
      },
      "source": [
        "# instantiate the model\n",
        "ditras = Ditras(mdg)\n",
        "# run the model\n",
        "ditras_tdf = ditras.generate(start_time, end_time, dual_tessellation, relevance_column='population',\n",
        "                    n_agents=150, od_matrix=None, show_progress=True)"
      ],
      "execution_count": 0,
      "outputs": []
    },
    {
      "cell_type": "code",
      "metadata": {
        "id": "8kmGmAvWdbvS",
        "colab_type": "code",
        "colab": {}
      },
      "source": [
        "# changing ids of citizens to not have duplicated later on\n",
        "ditras_tdf[\"uid\"] = ditras_tdf[\"uid\"].apply(change_uid,args=[\"f\"])"
      ],
      "execution_count": 0,
      "outputs": []
    },
    {
      "cell_type": "code",
      "metadata": {
        "id": "6oT6RkSodeW2",
        "colab_type": "code",
        "colab": {}
      },
      "source": [
        "dual_tdf = pd.concat([ditras_tdf,density_tdf],ignore_index=True)"
      ],
      "execution_count": 0,
      "outputs": []
    },
    {
      "cell_type": "code",
      "metadata": {
        "id": "iEMqSJ1idjEW",
        "colab_type": "code",
        "colab": {}
      },
      "source": [
        "simulation_tdf = pd.concat([agdal_tdf,irfan_tdf,dual_tdf],ignore_index=True)"
      ],
      "execution_count": 0,
      "outputs": []
    },
    {
      "cell_type": "code",
      "metadata": {
        "id": "6y_dvOYKeEw_",
        "colab_type": "code",
        "colab": {}
      },
      "source": [
        "simulation_tdf.to_csv('simulation_data.csv')"
      ],
      "execution_count": 0,
      "outputs": []
    },
    {
      "cell_type": "markdown",
      "metadata": {
        "id": "OXmMoAQ4JuDT",
        "colab_type": "text"
      },
      "source": [
        "# Data cleaning and preparation"
      ]
    },
    {
      "cell_type": "code",
      "metadata": {
        "id": "9J7ZjaWCJjPp",
        "colab_type": "code",
        "colab": {}
      },
      "source": [
        "import pandas as pd\n",
        "simulation_tdf = pd.read_csv('simulation_data.csv')"
      ],
      "execution_count": 0,
      "outputs": []
    },
    {
      "cell_type": "code",
      "metadata": {
        "id": "9dJ-iXjnmae3",
        "colab_type": "code",
        "colab": {}
      },
      "source": [
        "import json\n",
        "from shapely.geometry import shape, Point"
      ],
      "execution_count": 0,
      "outputs": []
    },
    {
      "cell_type": "code",
      "metadata": {
        "id": "_n-9uJPumhVI",
        "colab_type": "code",
        "colab": {}
      },
      "source": [
        "# load GeoJSON file containing sectors\n",
        "with open('morocco.geojson/agdal_irfane.geojson', 'r') as f:\n",
        "  js = json.load(f)"
      ],
      "execution_count": 0,
      "outputs": []
    },
    {
      "cell_type": "code",
      "metadata": {
        "id": "S9JBueix1hIR",
        "colab_type": "code",
        "colab": {}
      },
      "source": [
        "def get_zone_id(x):\n",
        "  point = Point( x[\"lng\"],x[\"lat\"])\n",
        "  zone_id = \"\"\n",
        "  for feature in js['features']:\n",
        "    polygon = shape(feature['geometry'])\n",
        "    if polygon.contains(point):\n",
        "      zone_id = feature['properties']['id']\n",
        "  x['zone_id'] = zone_id\n",
        "  return x"
      ],
      "execution_count": 0,
      "outputs": []
    },
    {
      "cell_type": "code",
      "metadata": {
        "id": "v7dtWR87Ak3X",
        "colab_type": "code",
        "colab": {}
      },
      "source": [
        "# Adding the ids of the zones \n",
        "simulation_tdf = simulation_tdf.apply(get_zone_id,axis=1)\n",
        "\n",
        "# Filtering zones without a registered zone id\n",
        "simulation_tdf = simulation_tdf[simulation_tdf['zone_id'] != \"\"][[\"uid\",\"datetime\",\"lat\",\"lng\",\"zone_id\"]]"
      ],
      "execution_count": 0,
      "outputs": []
    },
    {
      "cell_type": "code",
      "metadata": {
        "id": "QsuN6MCngNDS",
        "colab_type": "code",
        "colab": {}
      },
      "source": [
        "from datetime import datetime\n",
        "def get_date_precision(x):\n",
        "  x['datetime_clipped'] = datetime.strptime(x['datetime'].split(':')[0]+\":\"+x['datetime'].split(':')[1], '%Y-%m-%d %H:%M')#:%M:%S')\n",
        "  return x"
      ],
      "execution_count": 0,
      "outputs": []
    },
    {
      "cell_type": "code",
      "metadata": {
        "id": "p-0VmN8TlNMH",
        "colab_type": "code",
        "colab": {}
      },
      "source": [
        "# Clip datetime by the hour\n",
        "simulation_tdf = simulation_tdf.apply(get_date_precision,axis=1)"
      ],
      "execution_count": 0,
      "outputs": []
    },
    {
      "cell_type": "code",
      "metadata": {
        "id": "WQS7J52vxsvS",
        "colab_type": "code",
        "colab": {}
      },
      "source": [
        "import geopy.distance\n",
        "\n",
        "def get_distance(x):\n",
        "  coords_1 = (x['lat_x'], x['lng_x'])\n",
        "  coords_2 = (x['lat_y'], x['lng_y'])\n",
        "  km_distance = geopy.distance.distance(coords_1, coords_2).km\n",
        "  x['distance'] = km_distance * 1000\n",
        "  return x"
      ],
      "execution_count": 0,
      "outputs": []
    },
    {
      "cell_type": "code",
      "metadata": {
        "id": "OD2HgA_jBpFX",
        "colab_type": "code",
        "colab": {}
      },
      "source": [
        "merged_tdf = simulation_tdf.merge(simulation_tdf, how='left',on=[\"datetime_clipped\",\"zone_id\"])\n",
        "\n",
        "# Filter to not keep couples if they have same id\n",
        "merged_tdf = merged_tdf[merged_tdf['uid_x'] != merged_tdf['uid_y']]\n",
        "\n",
        "# Compute distance between each two citizens\n",
        "merged_tdf = merged_tdf.apply(get_distance,axis=1)\n",
        "\n",
        "# Filter for distances lower than 7 meters between citizens\n",
        "merged_tdf = merged_tdf[merged_tdf['distance']< 7]"
      ],
      "execution_count": 0,
      "outputs": []
    },
    {
      "cell_type": "code",
      "metadata": {
        "id": "0PiuMSrdHm_y",
        "colab_type": "code",
        "colab": {}
      },
      "source": [
        "# Getting users around in each time \n",
        "temp_tdf = merged_tdf.groupby(['uid_x','datetime_clipped','zone_id'])['uid_y'].apply(','.join).reset_index()\n",
        "temp_tdf = temp_tdf.rename(columns = {'uid_y':'ble_users'})\n",
        "ble_tdf = merged_tdf[['uid_x','datetime_x','lat_x','lng_x','zone_id','datetime_clipped']].merge(temp_tdf,how='inner', on=['uid_x','datetime_clipped','zone_id']).drop_duplicates()\n",
        "ble_tdf = ble_tdf.rename(columns = {'uid_x':'uid','datetime_x':'datetime','lat_x':'lat','lng_x':'lng'})\n",
        "\n",
        "# Delete the first second of the simulation, and last second of the simulation, as a lot of people are near each other in it\n",
        "ble_tdf = ble_tdf[ble_tdf['datetime'] != '2019-01-01 08:00:00.000000']\n",
        "ble_tdf = ble_tdf[ble_tdf['datetime'] != '2019-01-15 08:00:00.000000']\n",
        "ble_tdf = ble_tdf.reset_index()[['uid','datetime','lat','lng','zone_id','datetime_clipped','ble_users']]"
      ],
      "execution_count": 0,
      "outputs": []
    },
    {
      "cell_type": "code",
      "metadata": {
        "id": "itle_haj_xsl",
        "colab_type": "code",
        "colab": {
          "base_uri": "https://localhost:8080/",
          "height": 313
        },
        "outputId": "d9c37e66-8fbd-41b5-fa81-83bf95eadc61"
      },
      "source": [
        "ble_tdf.head()"
      ],
      "execution_count": 63,
      "outputs": [
        {
          "output_type": "execute_result",
          "data": {
            "text/html": [
              "<div>\n",
              "<style scoped>\n",
              "    .dataframe tbody tr th:only-of-type {\n",
              "        vertical-align: middle;\n",
              "    }\n",
              "\n",
              "    .dataframe tbody tr th {\n",
              "        vertical-align: top;\n",
              "    }\n",
              "\n",
              "    .dataframe thead th {\n",
              "        text-align: right;\n",
              "    }\n",
              "</style>\n",
              "<table border=\"1\" class=\"dataframe\">\n",
              "  <thead>\n",
              "    <tr style=\"text-align: right;\">\n",
              "      <th></th>\n",
              "      <th>uid</th>\n",
              "      <th>datetime</th>\n",
              "      <th>lat</th>\n",
              "      <th>lng</th>\n",
              "      <th>zone_id</th>\n",
              "      <th>datetime_clipped</th>\n",
              "      <th>ble_users</th>\n",
              "    </tr>\n",
              "  </thead>\n",
              "  <tbody>\n",
              "    <tr>\n",
              "      <th>0</th>\n",
              "      <td>1d</td>\n",
              "      <td>2019-01-01 17:00:00.000000</td>\n",
              "      <td>33.999689</td>\n",
              "      <td>-6.852435</td>\n",
              "      <td>EMI</td>\n",
              "      <td>1546362000000000000</td>\n",
              "      <td>17d</td>\n",
              "    </tr>\n",
              "    <tr>\n",
              "      <th>1</th>\n",
              "      <td>1d</td>\n",
              "      <td>2019-01-01 22:00:00.000000</td>\n",
              "      <td>34.000032</td>\n",
              "      <td>-6.854877</td>\n",
              "      <td>ENIM</td>\n",
              "      <td>1546380000000000000</td>\n",
              "      <td>11d,32d,96d,111d,120d,137d,29f</td>\n",
              "    </tr>\n",
              "    <tr>\n",
              "      <th>2</th>\n",
              "      <td>1d</td>\n",
              "      <td>2019-01-02 12:00:00.000000</td>\n",
              "      <td>34.000032</td>\n",
              "      <td>-6.854877</td>\n",
              "      <td>ENIM</td>\n",
              "      <td>1546430400000000000</td>\n",
              "      <td>2d,120d</td>\n",
              "    </tr>\n",
              "    <tr>\n",
              "      <th>3</th>\n",
              "      <td>1d</td>\n",
              "      <td>2019-01-03 08:00:00.000000</td>\n",
              "      <td>34.000032</td>\n",
              "      <td>-6.854877</td>\n",
              "      <td>ENIM</td>\n",
              "      <td>1546502400000000000</td>\n",
              "      <td>18d,63d,75d,77d,29c,26f,29f,57f,75f,79f,123f</td>\n",
              "    </tr>\n",
              "    <tr>\n",
              "      <th>4</th>\n",
              "      <td>1d</td>\n",
              "      <td>2019-01-04 09:00:00.000000</td>\n",
              "      <td>33.999689</td>\n",
              "      <td>-6.852435</td>\n",
              "      <td>EMI</td>\n",
              "      <td>1546592400000000000</td>\n",
              "      <td>3d,14d,113d</td>\n",
              "    </tr>\n",
              "  </tbody>\n",
              "</table>\n",
              "</div>"
            ],
            "text/plain": [
              "  uid  ...                                     ble_users\n",
              "0  1d  ...                                           17d\n",
              "1  1d  ...                11d,32d,96d,111d,120d,137d,29f\n",
              "2  1d  ...                                       2d,120d\n",
              "3  1d  ...  18d,63d,75d,77d,29c,26f,29f,57f,75f,79f,123f\n",
              "4  1d  ...                                   3d,14d,113d\n",
              "\n",
              "[5 rows x 7 columns]"
            ]
          },
          "metadata": {
            "tags": []
          },
          "execution_count": 63
        }
      ]
    },
    {
      "cell_type": "code",
      "metadata": {
        "id": "REBlR5xP7FQD",
        "colab_type": "code",
        "colab": {}
      },
      "source": [
        "ble_tdf.to_csv('full_mobility_data.csv')"
      ],
      "execution_count": 0,
      "outputs": []
    },
    {
      "cell_type": "code",
      "metadata": {
        "id": "g1C2hy3z5i8j",
        "colab_type": "code",
        "colab": {}
      },
      "source": [
        ""
      ],
      "execution_count": 0,
      "outputs": []
    }
  ]
}